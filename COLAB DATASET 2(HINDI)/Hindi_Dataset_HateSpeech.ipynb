{
  "nbformat": 4,
  "nbformat_minor": 0,
  "metadata": {
    "colab": {
      "name": "Hindi_Dataset_HateSpeech.ipynb",
      "provenance": [],
      "collapsed_sections": []
    },
    "kernelspec": {
      "display_name": "Python 3",
      "name": "python3"
    },
    "language_info": {
      "name": "python"
    }
  },
  "cells": [
    {
      "cell_type": "code",
      "metadata": {
        "colab": {
          "base_uri": "https://localhost:8080/"
        },
        "id": "2dSb204GULWZ",
        "outputId": "37ee2932-7fdf-4774-e94e-848519a9c96b"
      },
      "source": [
        "from google.colab import drive\n",
        "drive.mount('/content/gdrive')"
      ],
      "execution_count": null,
      "outputs": [
        {
          "output_type": "stream",
          "text": [
            "Mounted at /content/gdrive\n"
          ],
          "name": "stdout"
        }
      ]
    },
    {
      "cell_type": "code",
      "metadata": {
        "id": "v_8GOn9OUSQ1"
      },
      "source": [
        "path = '/content/gdrive/MyDrive/dataset/hindi_data.csv'"
      ],
      "execution_count": null,
      "outputs": []
    },
    {
      "cell_type": "code",
      "metadata": {
        "colab": {
          "base_uri": "https://localhost:8080/"
        },
        "id": "-6r58OXjVCMK",
        "outputId": "a4bd75c3-64b4-4aa7-f832-572f1cdeba31"
      },
      "source": [
        "print(path)"
      ],
      "execution_count": null,
      "outputs": [
        {
          "output_type": "stream",
          "text": [
            "/content/gdrive/MyDrive/dataset/hindi_data.csv\n"
          ],
          "name": "stdout"
        }
      ]
    },
    {
      "cell_type": "code",
      "metadata": {
        "id": "bSA76eykl4_M"
      },
      "source": [
        "import pandas as pd\n",
        "url='/content/gdrive/MyDrive/dataset/hindi_data.csv'"
      ],
      "execution_count": null,
      "outputs": []
    },
    {
      "cell_type": "code",
      "metadata": {
        "id": "UFs7RcA_XpJf"
      },
      "source": [
        "import os\n",
        "import string\n",
        "from string import digits\n",
        "import matplotlib.pyplot as plt\n",
        "%matplotlib inline\n",
        "import re\n",
        "\n",
        "import seaborn as sns\n",
        "from sklearn.utils import shuffle\n",
        "from sklearn.model_selection import train_test_split\n",
        "from keras.layers import Input, LSTM, Embedding, Dense\n",
        "from keras.models import Model\n",
        "import os, shutil\n",
        "import pandas as pd"
      ],
      "execution_count": null,
      "outputs": []
    },
    {
      "cell_type": "code",
      "metadata": {
        "id": "X6DeuhzLXpMf"
      },
      "source": [
        "dataset=pd.read_csv(url,names=['tweet','class'])"
      ],
      "execution_count": null,
      "outputs": []
    },
    {
      "cell_type": "code",
      "metadata": {
        "colab": {
          "base_uri": "https://localhost:8080/",
          "height": 419
        },
        "id": "sXx6VvN-mSOi",
        "outputId": "42fb32ea-a088-4f09-e505-665b41b273c4"
      },
      "source": [
        "dataset"
      ],
      "execution_count": null,
      "outputs": [
        {
          "output_type": "execute_result",
          "data": {
            "text/html": [
              "<div>\n",
              "<style scoped>\n",
              "    .dataframe tbody tr th:only-of-type {\n",
              "        vertical-align: middle;\n",
              "    }\n",
              "\n",
              "    .dataframe tbody tr th {\n",
              "        vertical-align: top;\n",
              "    }\n",
              "\n",
              "    .dataframe thead th {\n",
              "        text-align: right;\n",
              "    }\n",
              "</style>\n",
              "<table border=\"1\" class=\"dataframe\">\n",
              "  <thead>\n",
              "    <tr style=\"text-align: right;\">\n",
              "      <th></th>\n",
              "      <th>tweet</th>\n",
              "      <th>class</th>\n",
              "    </tr>\n",
              "  </thead>\n",
              "  <tbody>\n",
              "    <tr>\n",
              "      <th>0</th>\n",
              "      <td>वक्त, इन्सान और इंग्लैंड का मौसम आपको कभी भी ध...</td>\n",
              "      <td>NOT</td>\n",
              "    </tr>\n",
              "    <tr>\n",
              "      <th>1</th>\n",
              "      <td>#कांग्रेस के इस #कमीने की #करतूत को देखिए देश ...</td>\n",
              "      <td>HOF</td>\n",
              "    </tr>\n",
              "    <tr>\n",
              "      <th>2</th>\n",
              "      <td>पाकिस्तान को फेकना था फेका गया। जो हार कर भी द...</td>\n",
              "      <td>HOF</td>\n",
              "    </tr>\n",
              "    <tr>\n",
              "      <th>3</th>\n",
              "      <td>जो शब्द तूम आज किसी और औरत के लिए यूज कर रहे व...</td>\n",
              "      <td>NOT</td>\n",
              "    </tr>\n",
              "    <tr>\n",
              "      <th>4</th>\n",
              "      <td>नेता जी हम समाजवादी सिपाही हमेशा आपके साथ है आ...</td>\n",
              "      <td>NOT</td>\n",
              "    </tr>\n",
              "    <tr>\n",
              "      <th>...</th>\n",
              "      <td>...</td>\n",
              "      <td>...</td>\n",
              "    </tr>\n",
              "    <tr>\n",
              "      <th>1313</th>\n",
              "      <td>यह काला सूअर भी तो 10 जनपद का टॉयलेट साफ करने ...</td>\n",
              "      <td>HOF</td>\n",
              "    </tr>\n",
              "    <tr>\n",
              "      <th>1314</th>\n",
              "      <td>बेटा यह सवाल अपनी  अम्मी से पूछना जवाब में असल...</td>\n",
              "      <td>HOF</td>\n",
              "    </tr>\n",
              "    <tr>\n",
              "      <th>1315</th>\n",
              "      <td>आप को तो पाकिस्तान मे होना चाहिए वहा जो यादव क...</td>\n",
              "      <td>HOF</td>\n",
              "    </tr>\n",
              "    <tr>\n",
              "      <th>1316</th>\n",
              "      <td>विजयमालिया ललितमोदी नीरवमोदी आसारामबापू बाबारा...</td>\n",
              "      <td>HOF</td>\n",
              "    </tr>\n",
              "    <tr>\n",
              "      <th>1317</th>\n",
              "      <td>अप्रतिम ,अद्वत ,असाधारण पराक्रम से भारत को गौर...</td>\n",
              "      <td>NOT</td>\n",
              "    </tr>\n",
              "  </tbody>\n",
              "</table>\n",
              "<p>1318 rows × 2 columns</p>\n",
              "</div>"
            ],
            "text/plain": [
              "                                                  tweet class\n",
              "0     वक्त, इन्सान और इंग्लैंड का मौसम आपको कभी भी ध...   NOT\n",
              "1     #कांग्रेस के इस #कमीने की #करतूत को देखिए देश ...   HOF\n",
              "2     पाकिस्तान को फेकना था फेका गया। जो हार कर भी द...   HOF\n",
              "3     जो शब्द तूम आज किसी और औरत के लिए यूज कर रहे व...   NOT\n",
              "4     नेता जी हम समाजवादी सिपाही हमेशा आपके साथ है आ...   NOT\n",
              "...                                                 ...   ...\n",
              "1313  यह काला सूअर भी तो 10 जनपद का टॉयलेट साफ करने ...   HOF\n",
              "1314  बेटा यह सवाल अपनी  अम्मी से पूछना जवाब में असल...   HOF\n",
              "1315  आप को तो पाकिस्तान मे होना चाहिए वहा जो यादव क...   HOF\n",
              "1316  विजयमालिया ललितमोदी नीरवमोदी आसारामबापू बाबारा...   HOF\n",
              "1317  अप्रतिम ,अद्वत ,असाधारण पराक्रम से भारत को गौर...   NOT\n",
              "\n",
              "[1318 rows x 2 columns]"
            ]
          },
          "metadata": {
            "tags": []
          },
          "execution_count": 7
        }
      ]
    },
    {
      "cell_type": "markdown",
      "metadata": {
        "id": "2AwRzExYb2mv"
      },
      "source": [
        "#Preprocessing"
      ]
    },
    {
      "cell_type": "code",
      "metadata": {
        "id": "tvwlt_BHgCxv"
      },
      "source": [
        "dataset.dropna(subset = [\"tweet\"], inplace=True)"
      ],
      "execution_count": null,
      "outputs": []
    },
    {
      "cell_type": "code",
      "metadata": {
        "colab": {
          "base_uri": "https://localhost:8080/"
        },
        "id": "bVVSvYMk8Rk9",
        "outputId": "2e4a4d91-0e4d-4c18-c2f5-825ec6c3575d"
      },
      "source": [
        "dataset[\"class\"].describe()"
      ],
      "execution_count": null,
      "outputs": [
        {
          "output_type": "execute_result",
          "data": {
            "text/plain": [
              "count     1318\n",
              "unique       2\n",
              "top        NOT\n",
              "freq       713\n",
              "Name: class, dtype: object"
            ]
          },
          "metadata": {
            "tags": []
          },
          "execution_count": 9
        }
      ]
    },
    {
      "cell_type": "code",
      "metadata": {
        "colab": {
          "base_uri": "https://localhost:8080/"
        },
        "id": "DnH64avG8jKR",
        "outputId": "29cb74dc-02fe-4aea-e228-3b09629343df"
      },
      "source": [
        "pd.unique(dataset[\"class\"])"
      ],
      "execution_count": null,
      "outputs": [
        {
          "output_type": "execute_result",
          "data": {
            "text/plain": [
              "array(['NOT', 'HOF'], dtype=object)"
            ]
          },
          "metadata": {
            "tags": []
          },
          "execution_count": 10
        }
      ]
    },
    {
      "cell_type": "code",
      "metadata": {
        "id": "qbCbyvmF8rVK"
      },
      "source": [
        "dataset[\"class\"]=dataset[\"class\"].replace(to_replace =['HOF'], value ='yes')"
      ],
      "execution_count": null,
      "outputs": []
    },
    {
      "cell_type": "code",
      "metadata": {
        "id": "ulESYQS95wqn"
      },
      "source": [
        "dataset[\"class\"]=dataset[\"class\"].replace(to_replace =['NOT'], value ='no')"
      ],
      "execution_count": null,
      "outputs": []
    },
    {
      "cell_type": "code",
      "metadata": {
        "colab": {
          "base_uri": "https://localhost:8080/"
        },
        "id": "Ls-W8-Oq8sre",
        "outputId": "c19de119-118b-4b35-e721-8e36985c6b07"
      },
      "source": [
        "pd.unique(dataset[\"class\"])"
      ],
      "execution_count": null,
      "outputs": [
        {
          "output_type": "execute_result",
          "data": {
            "text/plain": [
              "array(['no', 'yes'], dtype=object)"
            ]
          },
          "metadata": {
            "tags": []
          },
          "execution_count": 13
        }
      ]
    },
    {
      "cell_type": "code",
      "metadata": {
        "colab": {
          "base_uri": "https://localhost:8080/"
        },
        "id": "KkQi_XCbwbjA",
        "outputId": "22784a2d-a29e-4a8d-ee44-6155d1030027"
      },
      "source": [
        "dataset[\"class\"].describe()"
      ],
      "execution_count": null,
      "outputs": [
        {
          "output_type": "execute_result",
          "data": {
            "text/plain": [
              "count     1318\n",
              "unique       2\n",
              "top         no\n",
              "freq       713\n",
              "Name: class, dtype: object"
            ]
          },
          "metadata": {
            "tags": []
          },
          "execution_count": 14
        }
      ]
    },
    {
      "cell_type": "code",
      "metadata": {
        "colab": {
          "base_uri": "https://localhost:8080/"
        },
        "id": "Pm-vHgoYbLTx",
        "outputId": "baef4bd9-35d1-4f7e-c418-7d089c453490"
      },
      "source": [
        "# Adding text-length as a field in the dataset\n",
        "dataset['text length'] = dataset['tweet'].apply(len)\n",
        "print(dataset.head())"
      ],
      "execution_count": null,
      "outputs": [
        {
          "output_type": "stream",
          "text": [
            "                                               tweet class  text length\n",
            "0  वक्त, इन्सान और इंग्लैंड का मौसम आपको कभी भी ध...    no           79\n",
            "1  #कांग्रेस के इस #कमीने की #करतूत को देखिए देश ...   yes          229\n",
            "2  पाकिस्तान को फेकना था फेका गया। जो हार कर भी द...   yes          156\n",
            "3  जो शब्द तूम आज किसी और औरत के लिए यूज कर रहे व...    no          265\n",
            "4  नेता जी हम समाजवादी सिपाही हमेशा आपके साथ है आ...    no          244\n"
          ],
          "name": "stdout"
        }
      ]
    },
    {
      "cell_type": "markdown",
      "metadata": {
        "id": "fR9VRU5fbt9D"
      },
      "source": [
        "#Visualization"
      ]
    },
    {
      "cell_type": "code",
      "metadata": {
        "colab": {
          "base_uri": "https://localhost:8080/",
          "height": 242
        },
        "id": "sFVCzLnOgOs_",
        "outputId": "aad65750-150d-456f-9ed7-31503fb16701"
      },
      "source": [
        "#Basic visualization of data using histograms\n",
        "# FacetGrid- Multi-plot grid for plotting conditional relationships\n",
        "import seaborn as sns\n",
        "import matplotlib.pyplot as plt\n",
        "graph = sns.FacetGrid(data=dataset, col='class')\n",
        "graph.map(plt.hist, 'text length', bins=50)"
      ],
      "execution_count": null,
      "outputs": [
        {
          "output_type": "execute_result",
          "data": {
            "text/plain": [
              "<seaborn.axisgrid.FacetGrid at 0x7f571b32c310>"
            ]
          },
          "metadata": {
            "tags": []
          },
          "execution_count": 16
        },
        {
          "output_type": "display_data",
          "data": {
            "image/png": "[encoded data removed]",
            "text/plain": [
              "<Figure size 432x216 with 2 Axes>"
            ]
          },
          "metadata": {
            "tags": [],
            "needs_background": "light"
          }
        }
      ]
    },
    {
      "cell_type": "code",
      "metadata": {
        "colab": {
          "base_uri": "https://localhost:8080/",
          "height": 282
        },
        "id": "H7qAPPAPXpRr",
        "outputId": "c2bbe562-b79b-499e-c874-fc5bb0868d63"
      },
      "source": [
        "dataset['class'].hist()"
      ],
      "execution_count": null,
      "outputs": [
        {
          "output_type": "execute_result",
          "data": {
            "text/plain": [
              "<matplotlib.axes._subplots.AxesSubplot at 0x7f5712476610>"
            ]
          },
          "metadata": {
            "tags": []
          },
          "execution_count": 17
        },
        {
          "output_type": "display_data",
          "data": {
            "image/png": "[encoded data removed]",
            "text/plain": [
              "<Figure size 432x288 with 1 Axes>"
            ]
          },
          "metadata": {
            "tags": [],
            "needs_background": "light"
          }
        }
      ]
    },
    {
      "cell_type": "code",
      "metadata": {
        "colab": {
          "base_uri": "https://localhost:8080/",
          "height": 296
        },
        "id": "UVNq4bFwgV1G",
        "outputId": "7ac87478-cebb-4b31-b8a9-26ae36bb52da"
      },
      "source": [
        "# Box-plot visvualization\n",
        "sns.boxplot(x='class', y='text length', data=dataset)"
      ],
      "execution_count": null,
      "outputs": [
        {
          "output_type": "execute_result",
          "data": {
            "text/plain": [
              "<matplotlib.axes._subplots.AxesSubplot at 0x7f57123f4a10>"
            ]
          },
          "metadata": {
            "tags": []
          },
          "execution_count": 18
        },
        {
          "output_type": "display_data",
          "data": {
            "image/png": "[encoded data removed]",
            "text/plain": [
              "<Figure size 432x288 with 1 Axes>"
            ]
          },
          "metadata": {
            "tags": [],
            "needs_background": "light"
          }
        }
      ]
    },
    {
      "cell_type": "code",
      "metadata": {
        "id": "8XgHqlQ1Ti3l"
      },
      "source": [
        "dataset[\"class\"]=dataset[\"class\"].replace(to_replace =['no'], value =0)\n",
        "dataset[\"class\"]=dataset[\"class\"].replace(to_replace =['yes'], value =1)"
      ],
      "execution_count": null,
      "outputs": []
    },
    {
      "cell_type": "code",
      "metadata": {
        "id": "FaI1A1ceTjQm"
      },
      "source": [
        "train = dataset.iloc[:1000,:] \n",
        "test = dataset.iloc[1000:,:] "
      ],
      "execution_count": null,
      "outputs": []
    },
    {
      "cell_type": "code",
      "metadata": {
        "colab": {
          "base_uri": "https://localhost:8080/",
          "height": 359
        },
        "id": "gDyGIkYZTjfK",
        "outputId": "76e67486-4531-4121-e61c-069a8e7cda19"
      },
      "source": [
        "train[train['class'] == 0].head(10)"
      ],
      "execution_count": null,
      "outputs": [
        {
          "output_type": "execute_result",
          "data": {
            "text/html": [
              "<div>\n",
              "<style scoped>\n",
              "    .dataframe tbody tr th:only-of-type {\n",
              "        vertical-align: middle;\n",
              "    }\n",
              "\n",
              "    .dataframe tbody tr th {\n",
              "        vertical-align: top;\n",
              "    }\n",
              "\n",
              "    .dataframe thead th {\n",
              "        text-align: right;\n",
              "    }\n",
              "</style>\n",
              "<table border=\"1\" class=\"dataframe\">\n",
              "  <thead>\n",
              "    <tr style=\"text-align: right;\">\n",
              "      <th></th>\n",
              "      <th>tweet</th>\n",
              "      <th>class</th>\n",
              "      <th>text length</th>\n",
              "    </tr>\n",
              "  </thead>\n",
              "  <tbody>\n",
              "    <tr>\n",
              "      <th>0</th>\n",
              "      <td>वक्त, इन्सान और इंग्लैंड का मौसम आपको कभी भी ध...</td>\n",
              "      <td>0</td>\n",
              "      <td>79</td>\n",
              "    </tr>\n",
              "    <tr>\n",
              "      <th>3</th>\n",
              "      <td>जो शब्द तूम आज किसी और औरत के लिए यूज कर रहे व...</td>\n",
              "      <td>0</td>\n",
              "      <td>265</td>\n",
              "    </tr>\n",
              "    <tr>\n",
              "      <th>4</th>\n",
              "      <td>नेता जी हम समाजवादी सिपाही हमेशा आपके साथ है आ...</td>\n",
              "      <td>0</td>\n",
              "      <td>244</td>\n",
              "    </tr>\n",
              "    <tr>\n",
              "      <th>6</th>\n",
              "      <td>#कुत्ते भी हो रहे हैं #किडनी और #डायबटीज जैसी ...</td>\n",
              "      <td>0</td>\n",
              "      <td>83</td>\n",
              "    </tr>\n",
              "    <tr>\n",
              "      <th>9</th>\n",
              "      <td>कश्मीर मे सेना पर पत्थर मारने वाले और पत्थरबाज...</td>\n",
              "      <td>0</td>\n",
              "      <td>278</td>\n",
              "    </tr>\n",
              "    <tr>\n",
              "      <th>14</th>\n",
              "      <td>Pakode talna chalu kr do... mudra scheme se pa...</td>\n",
              "      <td>0</td>\n",
              "      <td>73</td>\n",
              "    </tr>\n",
              "    <tr>\n",
              "      <th>16</th>\n",
              "      <td>आदरणीय राष्ट्रीय अध्यक्ष जी से विनम्र निवेदन ह...</td>\n",
              "      <td>0</td>\n",
              "      <td>201</td>\n",
              "    </tr>\n",
              "    <tr>\n",
              "      <th>19</th>\n",
              "      <td>संत कबीर डिग्रीधारी नहीं थे लेकिन धार्मिक आडंब...</td>\n",
              "      <td>0</td>\n",
              "      <td>168</td>\n",
              "    </tr>\n",
              "    <tr>\n",
              "      <th>25</th>\n",
              "      <td>दिल बड़ा कर पगली बाते तो मेरे #कमीने DOST भी ब...</td>\n",
              "      <td>0</td>\n",
              "      <td>79</td>\n",
              "    </tr>\n",
              "    <tr>\n",
              "      <th>26</th>\n",
              "      <td>जिन्होंने उर्दू अख़बार वन्दे मातरम् के 1931 एड...</td>\n",
              "      <td>0</td>\n",
              "      <td>279</td>\n",
              "    </tr>\n",
              "  </tbody>\n",
              "</table>\n",
              "</div>"
            ],
            "text/plain": [
              "                                                tweet  class  text length\n",
              "0   वक्त, इन्सान और इंग्लैंड का मौसम आपको कभी भी ध...      0           79\n",
              "3   जो शब्द तूम आज किसी और औरत के लिए यूज कर रहे व...      0          265\n",
              "4   नेता जी हम समाजवादी सिपाही हमेशा आपके साथ है आ...      0          244\n",
              "6   #कुत्ते भी हो रहे हैं #किडनी और #डायबटीज जैसी ...      0           83\n",
              "9   कश्मीर मे सेना पर पत्थर मारने वाले और पत्थरबाज...      0          278\n",
              "14  Pakode talna chalu kr do... mudra scheme se pa...      0           73\n",
              "16  आदरणीय राष्ट्रीय अध्यक्ष जी से विनम्र निवेदन ह...      0          201\n",
              "19  संत कबीर डिग्रीधारी नहीं थे लेकिन धार्मिक आडंब...      0          168\n",
              "25  दिल बड़ा कर पगली बाते तो मेरे #कमीने DOST भी ब...      0           79\n",
              "26  जिन्होंने उर्दू अख़बार वन्दे मातरम् के 1931 एड...      0          279"
            ]
          },
          "metadata": {
            "tags": []
          },
          "execution_count": 21
        }
      ]
    },
    {
      "cell_type": "code",
      "metadata": {
        "colab": {
          "base_uri": "https://localhost:8080/",
          "height": 359
        },
        "id": "Pyki9L9BT490",
        "outputId": "d7e5be75-418c-4b79-90c6-19e7631f71bf"
      },
      "source": [
        "train[train['class'] == 1].head(10)"
      ],
      "execution_count": null,
      "outputs": [
        {
          "output_type": "execute_result",
          "data": {
            "text/html": [
              "<div>\n",
              "<style scoped>\n",
              "    .dataframe tbody tr th:only-of-type {\n",
              "        vertical-align: middle;\n",
              "    }\n",
              "\n",
              "    .dataframe tbody tr th {\n",
              "        vertical-align: top;\n",
              "    }\n",
              "\n",
              "    .dataframe thead th {\n",
              "        text-align: right;\n",
              "    }\n",
              "</style>\n",
              "<table border=\"1\" class=\"dataframe\">\n",
              "  <thead>\n",
              "    <tr style=\"text-align: right;\">\n",
              "      <th></th>\n",
              "      <th>tweet</th>\n",
              "      <th>class</th>\n",
              "      <th>text length</th>\n",
              "    </tr>\n",
              "  </thead>\n",
              "  <tbody>\n",
              "    <tr>\n",
              "      <th>1</th>\n",
              "      <td>#कांग्रेस के इस #कमीने की #करतूत को देखिए देश ...</td>\n",
              "      <td>1</td>\n",
              "      <td>229</td>\n",
              "    </tr>\n",
              "    <tr>\n",
              "      <th>2</th>\n",
              "      <td>पाकिस्तान को फेकना था फेका गया। जो हार कर भी द...</td>\n",
              "      <td>1</td>\n",
              "      <td>156</td>\n",
              "    </tr>\n",
              "    <tr>\n",
              "      <th>5</th>\n",
              "      <td>@narendramodi @AmitShah @BJP4India @BharatKaPM...</td>\n",
              "      <td>1</td>\n",
              "      <td>234</td>\n",
              "    </tr>\n",
              "    <tr>\n",
              "      <th>7</th>\n",
              "      <td>VIVAHIT BaitION KO BHI Patrick KIRSI BHOOMI MA...</td>\n",
              "      <td>1</td>\n",
              "      <td>187</td>\n",
              "    </tr>\n",
              "    <tr>\n",
              "      <th>8</th>\n",
              "      <td>10 एजेंसियों को किसी भी कंप्यूटर की निगरानी और...</td>\n",
              "      <td>1</td>\n",
              "      <td>258</td>\n",
              "    </tr>\n",
              "    <tr>\n",
              "      <th>10</th>\n",
              "      <td>झोंपड़ी के, कुछ दिन पहले तक तो तू उस आदतन 'बाइ...</td>\n",
              "      <td>1</td>\n",
              "      <td>198</td>\n",
              "    </tr>\n",
              "    <tr>\n",
              "      <th>11</th>\n",
              "      <td>अभी सूअर 6 महीने में दिल्ली में विधानसभा चुनाव...</td>\n",
              "      <td>1</td>\n",
              "      <td>280</td>\n",
              "    </tr>\n",
              "    <tr>\n",
              "      <th>12</th>\n",
              "      <td>कुछ कमीने #नीच ग्रह में पैदा होते है और वो पैद...</td>\n",
              "      <td>1</td>\n",
              "      <td>243</td>\n",
              "    </tr>\n",
              "    <tr>\n",
              "      <th>13</th>\n",
              "      <td>भाई जैसे दिल्ली मे चुनाव आएगा हिन्दू-मुस्लिम क...</td>\n",
              "      <td>1</td>\n",
              "      <td>277</td>\n",
              "    </tr>\n",
              "    <tr>\n",
              "      <th>15</th>\n",
              "      <td>बेटा धोनी के बारे में कुछ बुरा बोले ना तो  क्र...</td>\n",
              "      <td>1</td>\n",
              "      <td>81</td>\n",
              "    </tr>\n",
              "  </tbody>\n",
              "</table>\n",
              "</div>"
            ],
            "text/plain": [
              "                                                tweet  class  text length\n",
              "1   #कांग्रेस के इस #कमीने की #करतूत को देखिए देश ...      1          229\n",
              "2   पाकिस्तान को फेकना था फेका गया। जो हार कर भी द...      1          156\n",
              "5   @narendramodi @AmitShah @BJP4India @BharatKaPM...      1          234\n",
              "7   VIVAHIT BaitION KO BHI Patrick KIRSI BHOOMI MA...      1          187\n",
              "8   10 एजेंसियों को किसी भी कंप्यूटर की निगरानी और...      1          258\n",
              "10  झोंपड़ी के, कुछ दिन पहले तक तो तू उस आदतन 'बाइ...      1          198\n",
              "11  अभी सूअर 6 महीने में दिल्ली में विधानसभा चुनाव...      1          280\n",
              "12  कुछ कमीने #नीच ग्रह में पैदा होते है और वो पैद...      1          243\n",
              "13  भाई जैसे दिल्ली मे चुनाव आएगा हिन्दू-मुस्लिम क...      1          277\n",
              "15  बेटा धोनी के बारे में कुछ बुरा बोले ना तो  क्र...      1           81"
            ]
          },
          "metadata": {
            "tags": []
          },
          "execution_count": 22
        }
      ]
    },
    {
      "cell_type": "code",
      "metadata": {
        "colab": {
          "base_uri": "https://localhost:8080/"
        },
        "id": "x5lFvHiiT_j1",
        "outputId": "d71ed82d-0361-4aa7-ef85-4015b1657d3c"
      },
      "source": [
        "train.shape, test.shape"
      ],
      "execution_count": null,
      "outputs": [
        {
          "output_type": "execute_result",
          "data": {
            "text/plain": [
              "((1000, 3), (318, 3))"
            ]
          },
          "metadata": {
            "tags": []
          },
          "execution_count": 23
        }
      ]
    },
    {
      "cell_type": "code",
      "metadata": {
        "colab": {
          "base_uri": "https://localhost:8080/"
        },
        "id": "CCRoM7oqT_z3",
        "outputId": "07a1d096-bd65-4b45-d1fc-e0efba389e5c"
      },
      "source": [
        "train[\"class\"].value_counts()"
      ],
      "execution_count": null,
      "outputs": [
        {
          "output_type": "execute_result",
          "data": {
            "text/plain": [
              "0    530\n",
              "1    470\n",
              "Name: class, dtype: int64"
            ]
          },
          "metadata": {
            "tags": []
          },
          "execution_count": 24
        }
      ]
    },
    {
      "cell_type": "code",
      "metadata": {
        "colab": {
          "base_uri": "https://localhost:8080/"
        },
        "id": "7egq57emUPHa",
        "outputId": "8a7f3bc4-f7b3-45f3-98ba-91d8766b13bc"
      },
      "source": [
        "combi = train.append(test, ignore_index=True, sort=True)\n",
        "combi.shape"
      ],
      "execution_count": null,
      "outputs": [
        {
          "output_type": "execute_result",
          "data": {
            "text/plain": [
              "(1318, 3)"
            ]
          },
          "metadata": {
            "tags": []
          },
          "execution_count": 25
        }
      ]
    },
    {
      "cell_type": "code",
      "metadata": {
        "id": "fSYFKhHqjOx8"
      },
      "source": [
        "tweet=dataset.tweet"
      ],
      "execution_count": null,
      "outputs": []
    },
    {
      "cell_type": "markdown",
      "metadata": {
        "id": "Cogxpd7PFVOx"
      },
      "source": [
        "#Remove special characters and digits"
      ]
    },
    {
      "cell_type": "code",
      "metadata": {
        "colab": {
          "base_uri": "https://localhost:8080/",
          "height": 204
        },
        "id": "-K8CDRIiCIsq",
        "outputId": "413c7407-7e1a-4a3f-b170-235621383262"
      },
      "source": [
        "dataset['tweet']=dataset['tweet'].apply(lambda x: x.lower())\n",
        "dataset['tweet']=dataset['tweet'].apply(lambda x: re.sub(\"'\", '', x))\n",
        "exclude = set(string.punctuation)\n",
        "dataset['tweet']=dataset['tweet'].apply(lambda x: ''.join(ch for ch in x if ch not in exclude))\n",
        "remove_digits = str.maketrans('', '', digits)\n",
        "dataset['tweet']=dataset['tweet'].apply(lambda x: x.translate(remove_digits))\n",
        "dataset['tweet'] = dataset['tweet'].apply(lambda x: re.sub(\"[२३०८१५७९४६]\", \"\", x))\n",
        "dataset['tweet']=dataset['tweet'].apply(lambda x: x.strip())\n",
        "dataset['tweet']=dataset['tweet'].apply(lambda x: re.sub(\" +\", \" \", x))\n",
        "dataset.head()"
      ],
      "execution_count": null,
      "outputs": [
        {
          "output_type": "execute_result",
          "data": {
            "text/html": [
              "<div>\n",
              "<style scoped>\n",
              "    .dataframe tbody tr th:only-of-type {\n",
              "        vertical-align: middle;\n",
              "    }\n",
              "\n",
              "    .dataframe tbody tr th {\n",
              "        vertical-align: top;\n",
              "    }\n",
              "\n",
              "    .dataframe thead th {\n",
              "        text-align: right;\n",
              "    }\n",
              "</style>\n",
              "<table border=\"1\" class=\"dataframe\">\n",
              "  <thead>\n",
              "    <tr style=\"text-align: right;\">\n",
              "      <th></th>\n",
              "      <th>tweet</th>\n",
              "      <th>class</th>\n",
              "      <th>text length</th>\n",
              "    </tr>\n",
              "  </thead>\n",
              "  <tbody>\n",
              "    <tr>\n",
              "      <th>0</th>\n",
              "      <td>वक्त इन्सान और इंग्लैंड का मौसम आपको कभी भी धो...</td>\n",
              "      <td>0</td>\n",
              "      <td>79</td>\n",
              "    </tr>\n",
              "    <tr>\n",
              "      <th>1</th>\n",
              "      <td>कांग्रेस के इस कमीने की करतूत को देखिए देश की ...</td>\n",
              "      <td>1</td>\n",
              "      <td>229</td>\n",
              "    </tr>\n",
              "    <tr>\n",
              "      <th>2</th>\n",
              "      <td>पाकिस्तान को फेकना था फेका गया। जो हार कर भी द...</td>\n",
              "      <td>1</td>\n",
              "      <td>156</td>\n",
              "    </tr>\n",
              "    <tr>\n",
              "      <th>3</th>\n",
              "      <td>जो शब्द तूम आज किसी और औरत के लिए यूज कर रहे व...</td>\n",
              "      <td>0</td>\n",
              "      <td>265</td>\n",
              "    </tr>\n",
              "    <tr>\n",
              "      <th>4</th>\n",
              "      <td>नेता जी हम समाजवादी सिपाही हमेशा आपके साथ है आ...</td>\n",
              "      <td>0</td>\n",
              "      <td>244</td>\n",
              "    </tr>\n",
              "  </tbody>\n",
              "</table>\n",
              "</div>"
            ],
            "text/plain": [
              "                                               tweet  class  text length\n",
              "0  वक्त इन्सान और इंग्लैंड का मौसम आपको कभी भी धो...      0           79\n",
              "1  कांग्रेस के इस कमीने की करतूत को देखिए देश की ...      1          229\n",
              "2  पाकिस्तान को फेकना था फेका गया। जो हार कर भी द...      1          156\n",
              "3  जो शब्द तूम आज किसी और औरत के लिए यूज कर रहे व...      0          265\n",
              "4  नेता जी हम समाजवादी सिपाही हमेशा आपके साथ है आ...      0          244"
            ]
          },
          "metadata": {
            "tags": []
          },
          "execution_count": 27
        }
      ]
    },
    {
      "cell_type": "code",
      "metadata": {
        "id": "seHgf30NDC7-"
      },
      "source": [
        "all_hindi_words=set()\n",
        "for hin in dataset['tweet']:\n",
        "    for word in hin.split():\n",
        "        if word not in all_hindi_words:\n",
        "            all_hindi_words.add(word)"
      ],
      "execution_count": null,
      "outputs": []
    },
    {
      "cell_type": "code",
      "metadata": {
        "colab": {
          "base_uri": "https://localhost:8080/"
        },
        "id": "sZoIZFeNEQ5g",
        "outputId": "51a82fb2-91a8-4cba-c4fd-fee81d6a39fc"
      },
      "source": [
        "len(all_hindi_words)"
      ],
      "execution_count": null,
      "outputs": [
        {
          "output_type": "execute_result",
          "data": {
            "text/plain": [
              "10101"
            ]
          },
          "metadata": {
            "tags": []
          },
          "execution_count": 29
        }
      ]
    },
    {
      "cell_type": "markdown",
      "metadata": {
        "id": "Cxl3WX_6FcLN"
      },
      "source": [
        "#Tokenization"
      ]
    },
    {
      "cell_type": "code",
      "metadata": {
        "colab": {
          "base_uri": "https://localhost:8080/"
        },
        "id": "t-686JYMkCY3",
        "outputId": "9d701ad8-eee5-45da-fd6c-01c039a80e6a"
      },
      "source": [
        "tokenized_tweet = dataset['tweet'].apply(lambda x: x.split())\n",
        "tokenized_tweet.head()"
      ],
      "execution_count": null,
      "outputs": [
        {
          "output_type": "execute_result",
          "data": {
            "text/plain": [
              "0    [वक्त, इन्सान, और, इंग्लैंड, का, मौसम, आपको, क...\n",
              "1    [कांग्रेस, के, इस, कमीने, की, करतूत, को, देखिए...\n",
              "2    [पाकिस्तान, को, फेकना, था, फेका, गया।, जो, हार...\n",
              "3    [जो, शब्द, तूम, आज, किसी, और, औरत, के, लिए, यू...\n",
              "4    [नेता, जी, हम, समाजवादी, सिपाही, हमेशा, आपके, ...\n",
              "Name: tweet, dtype: object"
            ]
          },
          "metadata": {
            "tags": []
          },
          "execution_count": 30
        }
      ]
    },
    {
      "cell_type": "markdown",
      "metadata": {
        "id": "bTnAZEQKFhy6"
      },
      "source": [
        "#Stemming"
      ]
    },
    {
      "cell_type": "code",
      "metadata": {
        "colab": {
          "base_uri": "https://localhost:8080/"
        },
        "id": "uiOIAQrFkLx2",
        "outputId": "bfafe5a5-70af-401e-8b10-15cc5216c51a"
      },
      "source": [
        "from nltk.stem.porter import *\n",
        "stemmer = PorterStemmer()\n",
        "\n",
        "tokenized_tweet = tokenized_tweet.apply(lambda x: [stemmer.stem(i) for i in x]) # stemming\n",
        "tokenized_tweet"
      ],
      "execution_count": null,
      "outputs": [
        {
          "output_type": "execute_result",
          "data": {
            "text/plain": [
              "0       [वक्त, इन्सान, और, इंग्लैंड, का, मौसम, आपको, क...\n",
              "1       [कांग्रेस, के, इस, कमीने, की, करतूत, को, देखिए...\n",
              "2       [पाकिस्तान, को, फेकना, था, फेका, गया।, जो, हार...\n",
              "3       [जो, शब्द, तूम, आज, किसी, और, औरत, के, लिए, यू...\n",
              "4       [नेता, जी, हम, समाजवादी, सिपाही, हमेशा, आपके, ...\n",
              "                              ...                        \n",
              "1313    [यह, काला, सूअर, भी, तो, जनपद, का, टॉयलेट, साफ...\n",
              "1314    [बेटा, यह, सवाल, अपनी, अम्मी, से, पूछना, जवाब,...\n",
              "1315    [आप, को, तो, पाकिस्तान, मे, होना, चाहिए, वहा, ...\n",
              "1316    [विजयमालिया, ललितमोदी, नीरवमोदी, आसारामबापू, ब...\n",
              "1317    [अप्रतिम, अद्वत, असाधारण, पराक्रम, से, भारत, क...\n",
              "Name: tweet, Length: 1318, dtype: object"
            ]
          },
          "metadata": {
            "tags": []
          },
          "execution_count": 31
        }
      ]
    },
    {
      "cell_type": "code",
      "metadata": {
        "colab": {
          "base_uri": "https://localhost:8080/"
        },
        "id": "MU2Jor13JCtt",
        "outputId": "495c0e2c-d077-4fa7-bcd7-a5474bfd988f"
      },
      "source": [
        "import numpy as np\n",
        "print(np.array(tokenized_tweet)) "
      ],
      "execution_count": null,
      "outputs": [
        {
          "output_type": "stream",
          "text": [
            "[list(['वक्त', 'इन्सान', 'और', 'इंग्लैंड', 'का', 'मौसम', 'आपको', 'कभी', 'भी', 'धोखा', 'दे', 'सकता', 'है।', 'indiavspakistan'])\n",
            " list(['कांग्रेस', 'के', 'इस', 'कमीने', 'की', 'करतूत', 'को', 'देखिए', 'देश', 'की', 'रक्षा', 'करते', 'शहीद', 'हुए', 'मां', 'भारती', 'के', 'सपूतों', 'का', 'ख्याल', 'भी', 'नहीं', 'रखा', 'दुश्मन', 'से', 'गले', 'मिल', 'गये', 'शर्मनाक', 'ये', 'पूरे', 'शहीद', 'का', 'अपमान', 'किया', 'है।', 'मैं', 'बहुत', 'कद्र', 'करते', 'थे', 'सिंधु', 'को', 'लेकिन', 'ये', 'तो', 'नकारा', 'है।'])\n",
            " list(['पाकिस्तान', 'को', 'फेकना', 'था', 'फेका', 'गया।', 'जो', 'हार', 'कर', 'भी', 'दुश्मन', 'को', 'हरा', 'दे', 'उसी', 'को', 'हमने', 'नाम', 'दिया।', 'bcci', 'ये', 'तुम्हारे', 'समझ', 'के', 'बाहर', 'हैं', 'तुम', 'बॉलीवुड', 'में', 'रंडी', 'रोओ', 'इधर', 'मत', 'घुसो।'])\n",
            " ...\n",
            " list(['आप', 'को', 'तो', 'पाकिस्तान', 'मे', 'होना', 'चाहिए', 'वहा', 'जो', 'यादव', 'की', 'महिलाए', 'कोठे', 'पर', 'सालो', 'से', 'दर', 'पिड़ी', 'जबर्दस्ती', 'बठाई', 'जाती', 'है', 'पाकिस्तान', 'के', 'माधरचोद', 'यादव', 'हिजड़े', 'होते', 'है', 'उन', 'माधरचोद', 'के', 'ताकत', 'बनो', 'आप', 'उनको', 'अधिकार', 'दोलाओ', 'पाकिस्तान', 'मे', 'पुरे', 'खानदान', 'के', 'साथ', 'चले', 'जाओ', 'अजादी', 'का', 'आनन्द', 'उठाओ', 'हरामी', 'भारत', 'मे', 'बहोत', 'तकलिफ', 'है'])\n",
            " list(['विजयमालिया', 'ललितमोदी', 'नीरवमोदी', 'आसारामबापू', 'बाबारामरहिम', 'पर', 'कोई', 'हमला', 'नही', 'हो', 'सकता', 'हमला', 'बस', 'तबरेजखान', 'पर', 'हो', 'सकता', 'है'])\n",
            " list(['अप्रतिम', 'अद्वत', 'असाधारण', 'पराक्रम', 'से', 'भारत', 'को', 'गौरवान्वित', 'करने', 'वाली', 'रानी', 'लक्ष्मीबाई', 'जी', 'की', 'पुण्यतिथि', 'पर', 'शत्', 'शत्', 'नमन', 'ranilakshmibai'])]\n"
          ],
          "name": "stdout"
        }
      ]
    },
    {
      "cell_type": "code",
      "metadata": {
        "colab": {
          "base_uri": "https://localhost:8080/"
        },
        "id": "i47d8aj0GmWH",
        "outputId": "c7911701-d0b3-4b08-82b6-f2b635167c4f"
      },
      "source": [
        "print(\"maximum length of Hindi Sentence \",max(dataset['tweet']))"
      ],
      "execution_count": null,
      "outputs": [
        {
          "output_type": "stream",
          "text": [
            "maximum length of Hindi Sentence  •drrpnishank जी से भेंट कर उन्हें बधाई दी और अपने क्षेत्र में नए सेंट्रल स्कूल खोलने पर चर्चा कीदेश के hrdमंत्री श्री निशंक जी ने खुले दिल से समर्थन दिया और कहा narendramodi जी के कार्याकाल में शिक्षा से कोई वंचित नहीं रहेगा बहुत आभारनॉर्थ ईस्ट दिल्ली की जनता को समर्पित\n"
          ],
          "name": "stdout"
        }
      ]
    },
    {
      "cell_type": "code",
      "metadata": {
        "colab": {
          "base_uri": "https://localhost:8080/"
        },
        "id": "a3A2oufVGLD0",
        "outputId": "8399c9f7-8595-46de-a331-0b5d6597d418"
      },
      "source": [
        "print(\"maximum length of Hindi Sentence \",max(dataset['text length']))"
      ],
      "execution_count": null,
      "outputs": [
        {
          "output_type": "stream",
          "text": [
            "maximum length of Hindi Sentence  505\n"
          ],
          "name": "stdout"
        }
      ]
    },
    {
      "cell_type": "code",
      "metadata": {
        "colab": {
          "base_uri": "https://localhost:8080/"
        },
        "id": "6-SWtrE1Vq1o",
        "outputId": "0f7db188-9476-4a35-e3fd-78cdaa5d3136"
      },
      "source": [
        "from sklearn.feature_extraction.text import TfidfVectorizer, CountVectorizer \n",
        "import gensim\n",
        "bow_vectorizer = CountVectorizer(max_df=0.90, min_df=2, max_features=1000)\n",
        "bow = bow_vectorizer.fit_transform(dataset['tweet'])\n",
        "bow.shape"
      ],
      "execution_count": null,
      "outputs": [
        {
          "output_type": "execute_result",
          "data": {
            "text/plain": [
              "(1318, 1000)"
            ]
          },
          "metadata": {
            "tags": []
          },
          "execution_count": 35
        }
      ]
    },
    {
      "cell_type": "code",
      "metadata": {
        "colab": {
          "base_uri": "https://localhost:8080/"
        },
        "id": "_lxxRfwCVrBu",
        "outputId": "9850e86a-a788-459b-c8ac-14c2c5957ef6"
      },
      "source": [
        "tfidf_vectorizer = TfidfVectorizer(max_df=0.90, min_df=2, max_features=1000)\n",
        "tfidf = tfidf_vectorizer.fit_transform(dataset['tweet'])\n",
        "tfidf.shape"
      ],
      "execution_count": null,
      "outputs": [
        {
          "output_type": "execute_result",
          "data": {
            "text/plain": [
              "(1318, 1000)"
            ]
          },
          "metadata": {
            "tags": []
          },
          "execution_count": 36
        }
      ]
    },
    {
      "cell_type": "markdown",
      "metadata": {
        "id": "8WE1CK34sJkg"
      },
      "source": [
        "#Word2Vec VECTOR CONVERSION"
      ]
    },
    {
      "cell_type": "code",
      "metadata": {
        "colab": {
          "base_uri": "https://localhost:8080/"
        },
        "id": "MN5iT31-sAl4",
        "outputId": "5502378a-32de-4589-a3d4-3cb3ea44b004"
      },
      "source": [
        "from gensim.models.word2vec import Word2Vec\n",
        "model_w2v = Word2Vec(\n",
        "            tokenized_tweet,\n",
        "            size=200, # desired no. of features/independent variables\n",
        "            window=5, # context window size\n",
        "            min_count=2, # Ignores all words with total frequency lower than 2.                                  \n",
        "            sg = 1, # 1 for skip-gram model\n",
        "            hs = 0,\n",
        "            negative = 10, # for negative sampling\n",
        "            workers= 32, # no.of cores\n",
        "            seed = 34\n",
        ") \n",
        "\n",
        "model_w2v.train(tokenized_tweet, total_examples= len(tokenized_tweet), epochs=20)"
      ],
      "execution_count": null,
      "outputs": [
        {
          "output_type": "execute_result",
          "data": {
            "text/plain": [
              "(639128, 920440)"
            ]
          },
          "metadata": {
            "tags": []
          },
          "execution_count": 37
        }
      ]
    },
    {
      "cell_type": "code",
      "metadata": {
        "colab": {
          "base_uri": "https://localhost:8080/"
        },
        "id": "dA9ncAu8sP1a",
        "outputId": "a4d58df5-e615-4160-ca8b-0b38768ccf11"
      },
      "source": [
        "model_w2v.wv.most_similar(positive=\"इन्सान\")"
      ],
      "execution_count": null,
      "outputs": [
        {
          "output_type": "execute_result",
          "data": {
            "text/plain": [
              "[('करले', 0.9413659572601318),\n",
              " ('कराना', 0.9368174076080322),\n",
              " ('बादशाह', 0.935349702835083),\n",
              " ('सत्तावन', 0.9347618818283081),\n",
              " ('प्रतिक्रिया', 0.9339395761489868),\n",
              " ('जलाने', 0.933341383934021),\n",
              " ('articl', 0.9328415393829346),\n",
              " ('विडंबना', 0.9325646758079529),\n",
              " ('बुखारी', 0.9301993250846863),\n",
              " ('जे', 0.9299325346946716)]"
            ]
          },
          "metadata": {
            "tags": []
          },
          "execution_count": 38
        }
      ]
    },
    {
      "cell_type": "code",
      "metadata": {
        "colab": {
          "base_uri": "https://localhost:8080/"
        },
        "id": "iOh5NpH1sUMd",
        "outputId": "eb8d9b24-bd88-4096-e3ac-42f584a4b287"
      },
      "source": [
        "model_w2v['इन्सान']"
      ],
      "execution_count": null,
      "outputs": [
        {
          "output_type": "stream",
          "text": [
            "/usr/local/lib/python3.7/dist-packages/ipykernel_launcher.py:1: DeprecationWarning: Call to deprecated `__getitem__` (Method will be removed in 4.0.0, use self.wv.__getitem__() instead).\n",
            "  \"\"\"Entry point for launching an IPython kernel.\n"
          ],
          "name": "stderr"
        },
        {
          "output_type": "execute_result",
          "data": {
            "text/plain": [
              "array([-0.01807923, -0.07690064, -0.07121973,  0.05852332,  0.04508375,\n",
              "        0.19990374, -0.16565862,  0.20424281,  0.00776256, -0.10731898,\n",
              "       -0.0634286 ,  0.0579996 , -0.14408113, -0.02427118, -0.11368673,\n",
              "       -0.03627405, -0.06231578, -0.15344627,  0.03814966, -0.13913494,\n",
              "        0.02881295, -0.0052234 ,  0.01340609,  0.32654488,  0.10202617,\n",
              "       -0.00251494, -0.00711411,  0.14493373,  0.01739144,  0.07042199,\n",
              "        0.10565399, -0.02725179, -0.02213104, -0.02541417, -0.07863902,\n",
              "        0.05294947,  0.14065126,  0.03507749, -0.12703376,  0.13527939,\n",
              "       -0.20226146, -0.25411627,  0.00761436, -0.07246399, -0.02680191,\n",
              "       -0.02566341,  0.03188893, -0.07418466, -0.12912904,  0.18499902,\n",
              "       -0.02467237, -0.04472859, -0.06310274,  0.04120259, -0.00768384,\n",
              "       -0.05557574,  0.0647141 ,  0.01650552, -0.04909573, -0.06918275,\n",
              "       -0.03664113, -0.04728643, -0.04653442,  0.0104848 , -0.01221819,\n",
              "        0.1621578 , -0.1156904 ,  0.12343574,  0.04099977,  0.12402526,\n",
              "       -0.1533078 ,  0.06221994,  0.01157385,  0.11764406,  0.09482052,\n",
              "       -0.07820479,  0.09037752, -0.12193639, -0.02652826, -0.09620636,\n",
              "       -0.08214377,  0.11238075, -0.03104503, -0.01475989,  0.11421856,\n",
              "       -0.03168857, -0.06069706,  0.2147967 , -0.1732688 , -0.16485643,\n",
              "        0.04526611, -0.12900205, -0.20083255, -0.00259552,  0.0848197 ,\n",
              "        0.01804911,  0.26701882,  0.05593811, -0.06154893,  0.05906765,\n",
              "       -0.05276867,  0.04555322, -0.04227536, -0.09181171,  0.09850435,\n",
              "       -0.2393494 , -0.04591914, -0.04889704, -0.08210693,  0.106653  ,\n",
              "        0.03316493,  0.19018362,  0.0846284 , -0.06356504,  0.16606872,\n",
              "       -0.15683658,  0.18420836,  0.06537788, -0.0673156 , -0.05110111,\n",
              "        0.07114114,  0.03519956, -0.0458402 , -0.12589514, -0.05013769,\n",
              "        0.12942104,  0.10231877,  0.16823702,  0.05020471, -0.19971676,\n",
              "       -0.1288738 ,  0.19025369, -0.03797634, -0.20186053, -0.23089036,\n",
              "       -0.12394111, -0.153236  , -0.01252987,  0.15226796, -0.08736484,\n",
              "       -0.05071821,  0.167646  , -0.18764111, -0.08717956, -0.16356084,\n",
              "       -0.02558663,  0.0633782 ,  0.03568428, -0.01413894,  0.00058422,\n",
              "       -0.11271051,  0.19311775,  0.03788418, -0.05940566,  0.18219419,\n",
              "        0.16342504,  0.16973285, -0.10570924, -0.09295201, -0.04790767,\n",
              "        0.09236745,  0.11706437,  0.01946145,  0.05434573, -0.01939352,\n",
              "        0.05161492, -0.00836347,  0.03479916, -0.00415133,  0.13099965,\n",
              "        0.05937835, -0.09465256,  0.28485444,  0.09081856, -0.12333488,\n",
              "        0.08465084, -0.1579281 ,  0.01610847, -0.12376363,  0.12127113,\n",
              "        0.09255194, -0.01152257,  0.06300009, -0.04910793,  0.00722365,\n",
              "       -0.20493397, -0.05729891, -0.1539545 , -0.2504873 ,  0.05667301,\n",
              "        0.15011184, -0.1441778 , -0.11326249, -0.2490119 ,  0.0882952 ,\n",
              "       -0.12086037,  0.11287305,  0.001863  , -0.05558286,  0.1307184 ],\n",
              "      dtype=float32)"
            ]
          },
          "metadata": {
            "tags": []
          },
          "execution_count": 39
        }
      ]
    },
    {
      "cell_type": "code",
      "metadata": {
        "colab": {
          "base_uri": "https://localhost:8080/"
        },
        "id": "AicVU3uWsamx",
        "outputId": "054fef46-aac2-4115-e47c-0d6f67be3419"
      },
      "source": [
        "semantically_similar_words = {words: [item[0] for item in model_w2v.wv.most_similar([words], topn=4)]\n",
        "                  for words in ['बुरा', 'कसम', 'तोड़', 'पाकिस्तान', 'काला']}\n",
        "\n",
        "for k,v in semantically_similar_words.items():\n",
        "    print(k+\":\"+str(v))"
      ],
      "execution_count": null,
      "outputs": [
        {
          "output_type": "stream",
          "text": [
            "बुरा:['ज़माने', 'हिंदुस्तानी', 'ढूंढ', 'चलेगा']\n",
            "कसम:['खुदा', 'शक्ल', 'मुझको', 'चश्मा']\n",
            "तोड़:['फोड़', 'मन्दिर', 'पत्थर', 'विधवा']\n",
            "पाकिस्तान:['नाबालिग', 'पार', 'बराबर', 'पत्थरबाजी']\n",
            "काला:['रचा', 'emerg', 'सिखाया', 'उम्मीदवार']\n"
          ],
          "name": "stdout"
        }
      ]
    },
    {
      "cell_type": "code",
      "metadata": {
        "id": "KHlFXB84tGoq"
      },
      "source": [
        "def word_vector(tokens, size):\n",
        "    vec = np.zeros(size).reshape((1, size))\n",
        "    count = 0\n",
        "    for word in tokens:\n",
        "        try:\n",
        "            vec += model_w2v[word].reshape((1, size))\n",
        "            count += 1.\n",
        "        except KeyError:  # handling the case where the token is not in vocabulary\n",
        "            continue\n",
        "    if count != 0:\n",
        "        vec /= count\n",
        "    return vec"
      ],
      "execution_count": null,
      "outputs": []
    },
    {
      "cell_type": "code",
      "metadata": {
        "colab": {
          "base_uri": "https://localhost:8080/"
        },
        "id": "6T66oNIOtKtZ",
        "outputId": "01643fd3-0fa2-41d2-8c49-fdb046f19d65"
      },
      "source": [
        "import numpy as np\n",
        "wordvec_arrays = np.zeros((len(tokenized_tweet), 200)) \n",
        "for i in range(len(tokenized_tweet)):\n",
        "  wordvec_arrays[i,:] = word_vector(tokenized_tweet[i], 200)\n",
        "wordvec_df = pd.DataFrame(wordvec_arrays)\n",
        "wordvec_df.shape"
      ],
      "execution_count": null,
      "outputs": [
        {
          "output_type": "stream",
          "text": [
            "/usr/local/lib/python3.7/dist-packages/ipykernel_launcher.py:6: DeprecationWarning: Call to deprecated `__getitem__` (Method will be removed in 4.0.0, use self.wv.__getitem__() instead).\n",
            "  \n"
          ],
          "name": "stderr"
        },
        {
          "output_type": "execute_result",
          "data": {
            "text/plain": [
              "(1318, 200)"
            ]
          },
          "metadata": {
            "tags": []
          },
          "execution_count": 42
        }
      ]
    },
    {
      "cell_type": "code",
      "metadata": {
        "colab": {
          "base_uri": "https://localhost:8080/",
          "height": 439
        },
        "id": "vnwy8vJizN8m",
        "outputId": "2b43fb3a-6802-4381-fa18-01afeb572de1"
      },
      "source": [
        "wordvec_df"
      ],
      "execution_count": null,
      "outputs": [
        {
          "output_type": "execute_result",
          "data": {
            "text/html": [
              "<div>\n",
              "<style scoped>\n",
              "    .dataframe tbody tr th:only-of-type {\n",
              "        vertical-align: middle;\n",
              "    }\n",
              "\n",
              "    .dataframe tbody tr th {\n",
              "        vertical-align: top;\n",
              "    }\n",
              "\n",
              "    .dataframe thead th {\n",
              "        text-align: right;\n",
              "    }\n",
              "</style>\n",
              "<table border=\"1\" class=\"dataframe\">\n",
              "  <thead>\n",
              "    <tr style=\"text-align: right;\">\n",
              "      <th></th>\n",
              "      <th>0</th>\n",
              "      <th>1</th>\n",
              "      <th>2</th>\n",
              "      <th>3</th>\n",
              "      <th>4</th>\n",
              "      <th>5</th>\n",
              "      <th>6</th>\n",
              "      <th>7</th>\n",
              "      <th>8</th>\n",
              "      <th>9</th>\n",
              "      <th>10</th>\n",
              "      <th>11</th>\n",
              "      <th>12</th>\n",
              "      <th>13</th>\n",
              "      <th>14</th>\n",
              "      <th>15</th>\n",
              "      <th>16</th>\n",
              "      <th>17</th>\n",
              "      <th>18</th>\n",
              "      <th>19</th>\n",
              "      <th>20</th>\n",
              "      <th>21</th>\n",
              "      <th>22</th>\n",
              "      <th>23</th>\n",
              "      <th>24</th>\n",
              "      <th>25</th>\n",
              "      <th>26</th>\n",
              "      <th>27</th>\n",
              "      <th>28</th>\n",
              "      <th>29</th>\n",
              "      <th>30</th>\n",
              "      <th>31</th>\n",
              "      <th>32</th>\n",
              "      <th>33</th>\n",
              "      <th>34</th>\n",
              "      <th>35</th>\n",
              "      <th>36</th>\n",
              "      <th>37</th>\n",
              "      <th>38</th>\n",
              "      <th>39</th>\n",
              "      <th>...</th>\n",
              "      <th>160</th>\n",
              "      <th>161</th>\n",
              "      <th>162</th>\n",
              "      <th>163</th>\n",
              "      <th>164</th>\n",
              "      <th>165</th>\n",
              "      <th>166</th>\n",
              "      <th>167</th>\n",
              "      <th>168</th>\n",
              "      <th>169</th>\n",
              "      <th>170</th>\n",
              "      <th>171</th>\n",
              "      <th>172</th>\n",
              "      <th>173</th>\n",
              "      <th>174</th>\n",
              "      <th>175</th>\n",
              "      <th>176</th>\n",
              "      <th>177</th>\n",
              "      <th>178</th>\n",
              "      <th>179</th>\n",
              "      <th>180</th>\n",
              "      <th>181</th>\n",
              "      <th>182</th>\n",
              "      <th>183</th>\n",
              "      <th>184</th>\n",
              "      <th>185</th>\n",
              "      <th>186</th>\n",
              "      <th>187</th>\n",
              "      <th>188</th>\n",
              "      <th>189</th>\n",
              "      <th>190</th>\n",
              "      <th>191</th>\n",
              "      <th>192</th>\n",
              "      <th>193</th>\n",
              "      <th>194</th>\n",
              "      <th>195</th>\n",
              "      <th>196</th>\n",
              "      <th>197</th>\n",
              "      <th>198</th>\n",
              "      <th>199</th>\n",
              "    </tr>\n",
              "  </thead>\n",
              "  <tbody>\n",
              "    <tr>\n",
              "      <th>0</th>\n",
              "      <td>-0.039952</td>\n",
              "      <td>-0.079004</td>\n",
              "      <td>-0.037546</td>\n",
              "      <td>0.168024</td>\n",
              "      <td>0.055608</td>\n",
              "      <td>0.221515</td>\n",
              "      <td>-0.185732</td>\n",
              "      <td>0.192577</td>\n",
              "      <td>0.076227</td>\n",
              "      <td>-0.039084</td>\n",
              "      <td>-0.084647</td>\n",
              "      <td>-0.056352</td>\n",
              "      <td>-0.122316</td>\n",
              "      <td>0.028821</td>\n",
              "      <td>-0.160290</td>\n",
              "      <td>-0.058172</td>\n",
              "      <td>-0.051985</td>\n",
              "      <td>-0.083006</td>\n",
              "      <td>-0.009761</td>\n",
              "      <td>-0.102441</td>\n",
              "      <td>-0.016707</td>\n",
              "      <td>-0.059600</td>\n",
              "      <td>-0.026638</td>\n",
              "      <td>0.271364</td>\n",
              "      <td>0.137134</td>\n",
              "      <td>0.049682</td>\n",
              "      <td>0.073197</td>\n",
              "      <td>0.115378</td>\n",
              "      <td>-0.037352</td>\n",
              "      <td>0.001977</td>\n",
              "      <td>0.013817</td>\n",
              "      <td>-0.048399</td>\n",
              "      <td>-0.048361</td>\n",
              "      <td>-0.047336</td>\n",
              "      <td>-0.119347</td>\n",
              "      <td>0.011865</td>\n",
              "      <td>0.058557</td>\n",
              "      <td>0.025554</td>\n",
              "      <td>-0.138784</td>\n",
              "      <td>0.123619</td>\n",
              "      <td>...</td>\n",
              "      <td>0.073303</td>\n",
              "      <td>0.181423</td>\n",
              "      <td>0.053779</td>\n",
              "      <td>0.037929</td>\n",
              "      <td>0.063419</td>\n",
              "      <td>0.003960</td>\n",
              "      <td>0.034809</td>\n",
              "      <td>-0.025757</td>\n",
              "      <td>-0.002376</td>\n",
              "      <td>0.044208</td>\n",
              "      <td>0.128167</td>\n",
              "      <td>-0.067176</td>\n",
              "      <td>0.239510</td>\n",
              "      <td>0.052231</td>\n",
              "      <td>-0.079391</td>\n",
              "      <td>0.031596</td>\n",
              "      <td>-0.183449</td>\n",
              "      <td>0.060406</td>\n",
              "      <td>-0.090189</td>\n",
              "      <td>0.140444</td>\n",
              "      <td>0.126455</td>\n",
              "      <td>0.082569</td>\n",
              "      <td>0.097037</td>\n",
              "      <td>-0.088066</td>\n",
              "      <td>-0.030928</td>\n",
              "      <td>-0.148685</td>\n",
              "      <td>-0.047827</td>\n",
              "      <td>-0.084426</td>\n",
              "      <td>-0.206614</td>\n",
              "      <td>0.016843</td>\n",
              "      <td>0.178210</td>\n",
              "      <td>-0.215169</td>\n",
              "      <td>-0.131880</td>\n",
              "      <td>-0.291045</td>\n",
              "      <td>0.158847</td>\n",
              "      <td>-0.209526</td>\n",
              "      <td>0.111611</td>\n",
              "      <td>-0.032685</td>\n",
              "      <td>-0.061793</td>\n",
              "      <td>0.205131</td>\n",
              "    </tr>\n",
              "    <tr>\n",
              "      <th>1</th>\n",
              "      <td>-0.061662</td>\n",
              "      <td>-0.018048</td>\n",
              "      <td>-0.040346</td>\n",
              "      <td>0.084357</td>\n",
              "      <td>0.059220</td>\n",
              "      <td>0.213927</td>\n",
              "      <td>-0.172788</td>\n",
              "      <td>0.151173</td>\n",
              "      <td>0.064877</td>\n",
              "      <td>-0.023819</td>\n",
              "      <td>-0.095527</td>\n",
              "      <td>-0.012046</td>\n",
              "      <td>-0.076238</td>\n",
              "      <td>0.000214</td>\n",
              "      <td>-0.175601</td>\n",
              "      <td>-0.051068</td>\n",
              "      <td>-0.075085</td>\n",
              "      <td>-0.064731</td>\n",
              "      <td>-0.007208</td>\n",
              "      <td>-0.087888</td>\n",
              "      <td>0.043050</td>\n",
              "      <td>0.069275</td>\n",
              "      <td>0.031663</td>\n",
              "      <td>0.307860</td>\n",
              "      <td>0.048358</td>\n",
              "      <td>0.005631</td>\n",
              "      <td>0.089484</td>\n",
              "      <td>0.110972</td>\n",
              "      <td>-0.045918</td>\n",
              "      <td>0.011792</td>\n",
              "      <td>0.013745</td>\n",
              "      <td>0.042509</td>\n",
              "      <td>-0.070641</td>\n",
              "      <td>-0.047744</td>\n",
              "      <td>-0.140660</td>\n",
              "      <td>0.085892</td>\n",
              "      <td>0.042883</td>\n",
              "      <td>-0.017926</td>\n",
              "      <td>-0.096970</td>\n",
              "      <td>0.013338</td>\n",
              "      <td>...</td>\n",
              "      <td>0.004994</td>\n",
              "      <td>0.200029</td>\n",
              "      <td>0.032639</td>\n",
              "      <td>0.065147</td>\n",
              "      <td>0.075184</td>\n",
              "      <td>-0.040659</td>\n",
              "      <td>0.110846</td>\n",
              "      <td>0.010276</td>\n",
              "      <td>-0.035831</td>\n",
              "      <td>0.008434</td>\n",
              "      <td>0.110532</td>\n",
              "      <td>-0.070661</td>\n",
              "      <td>0.248299</td>\n",
              "      <td>0.087249</td>\n",
              "      <td>-0.052772</td>\n",
              "      <td>0.172885</td>\n",
              "      <td>-0.266332</td>\n",
              "      <td>0.058155</td>\n",
              "      <td>-0.024899</td>\n",
              "      <td>0.079771</td>\n",
              "      <td>0.130889</td>\n",
              "      <td>0.015936</td>\n",
              "      <td>0.035125</td>\n",
              "      <td>-0.067223</td>\n",
              "      <td>-0.029323</td>\n",
              "      <td>-0.198783</td>\n",
              "      <td>-0.059136</td>\n",
              "      <td>-0.107785</td>\n",
              "      <td>-0.119361</td>\n",
              "      <td>0.009978</td>\n",
              "      <td>0.143472</td>\n",
              "      <td>-0.131323</td>\n",
              "      <td>-0.026413</td>\n",
              "      <td>-0.108598</td>\n",
              "      <td>0.083382</td>\n",
              "      <td>-0.196520</td>\n",
              "      <td>0.046196</td>\n",
              "      <td>0.066596</td>\n",
              "      <td>0.007783</td>\n",
              "      <td>0.230782</td>\n",
              "    </tr>\n",
              "    <tr>\n",
              "      <th>2</th>\n",
              "      <td>-0.037037</td>\n",
              "      <td>-0.038938</td>\n",
              "      <td>0.021536</td>\n",
              "      <td>0.146989</td>\n",
              "      <td>0.101025</td>\n",
              "      <td>0.229479</td>\n",
              "      <td>-0.097116</td>\n",
              "      <td>0.188298</td>\n",
              "      <td>0.026090</td>\n",
              "      <td>-0.094343</td>\n",
              "      <td>-0.147734</td>\n",
              "      <td>0.021655</td>\n",
              "      <td>-0.088338</td>\n",
              "      <td>0.005571</td>\n",
              "      <td>-0.096966</td>\n",
              "      <td>-0.023163</td>\n",
              "      <td>-0.073632</td>\n",
              "      <td>-0.014298</td>\n",
              "      <td>0.076624</td>\n",
              "      <td>-0.099074</td>\n",
              "      <td>0.078025</td>\n",
              "      <td>0.059856</td>\n",
              "      <td>0.024286</td>\n",
              "      <td>0.325379</td>\n",
              "      <td>0.111538</td>\n",
              "      <td>-0.060420</td>\n",
              "      <td>0.054317</td>\n",
              "      <td>0.126725</td>\n",
              "      <td>-0.110381</td>\n",
              "      <td>0.040359</td>\n",
              "      <td>0.064711</td>\n",
              "      <td>0.044763</td>\n",
              "      <td>-0.090555</td>\n",
              "      <td>-0.027469</td>\n",
              "      <td>-0.080661</td>\n",
              "      <td>0.028652</td>\n",
              "      <td>0.103226</td>\n",
              "      <td>0.022570</td>\n",
              "      <td>-0.141060</td>\n",
              "      <td>0.039162</td>\n",
              "      <td>...</td>\n",
              "      <td>-0.007424</td>\n",
              "      <td>0.198784</td>\n",
              "      <td>0.061875</td>\n",
              "      <td>0.082445</td>\n",
              "      <td>0.059650</td>\n",
              "      <td>0.019879</td>\n",
              "      <td>0.084339</td>\n",
              "      <td>-0.010081</td>\n",
              "      <td>0.038101</td>\n",
              "      <td>0.047220</td>\n",
              "      <td>0.106456</td>\n",
              "      <td>-0.042381</td>\n",
              "      <td>0.230622</td>\n",
              "      <td>0.094790</td>\n",
              "      <td>-0.066524</td>\n",
              "      <td>0.178342</td>\n",
              "      <td>-0.243716</td>\n",
              "      <td>0.076578</td>\n",
              "      <td>-0.061971</td>\n",
              "      <td>0.122871</td>\n",
              "      <td>0.185510</td>\n",
              "      <td>0.001875</td>\n",
              "      <td>0.092705</td>\n",
              "      <td>-0.042592</td>\n",
              "      <td>-0.043257</td>\n",
              "      <td>-0.231194</td>\n",
              "      <td>-0.007659</td>\n",
              "      <td>-0.118295</td>\n",
              "      <td>-0.203020</td>\n",
              "      <td>0.061138</td>\n",
              "      <td>0.105198</td>\n",
              "      <td>-0.132178</td>\n",
              "      <td>-0.007996</td>\n",
              "      <td>-0.217221</td>\n",
              "      <td>0.152443</td>\n",
              "      <td>-0.169987</td>\n",
              "      <td>0.037271</td>\n",
              "      <td>0.033238</td>\n",
              "      <td>0.045056</td>\n",
              "      <td>0.177810</td>\n",
              "    </tr>\n",
              "    <tr>\n",
              "      <th>3</th>\n",
              "      <td>0.033931</td>\n",
              "      <td>-0.034729</td>\n",
              "      <td>0.035315</td>\n",
              "      <td>0.050500</td>\n",
              "      <td>0.092864</td>\n",
              "      <td>0.185736</td>\n",
              "      <td>-0.077253</td>\n",
              "      <td>0.165076</td>\n",
              "      <td>0.026300</td>\n",
              "      <td>-0.126292</td>\n",
              "      <td>-0.138630</td>\n",
              "      <td>-0.012467</td>\n",
              "      <td>-0.145546</td>\n",
              "      <td>0.016385</td>\n",
              "      <td>-0.089915</td>\n",
              "      <td>-0.042152</td>\n",
              "      <td>0.008351</td>\n",
              "      <td>0.002391</td>\n",
              "      <td>0.077774</td>\n",
              "      <td>-0.128711</td>\n",
              "      <td>0.102897</td>\n",
              "      <td>-0.039875</td>\n",
              "      <td>0.027897</td>\n",
              "      <td>0.369346</td>\n",
              "      <td>0.083838</td>\n",
              "      <td>-0.045929</td>\n",
              "      <td>0.008049</td>\n",
              "      <td>0.161197</td>\n",
              "      <td>-0.062765</td>\n",
              "      <td>0.028737</td>\n",
              "      <td>0.024928</td>\n",
              "      <td>0.047388</td>\n",
              "      <td>-0.070597</td>\n",
              "      <td>-0.071262</td>\n",
              "      <td>-0.103112</td>\n",
              "      <td>0.025618</td>\n",
              "      <td>0.151055</td>\n",
              "      <td>0.056396</td>\n",
              "      <td>-0.144463</td>\n",
              "      <td>0.053011</td>\n",
              "      <td>...</td>\n",
              "      <td>0.027166</td>\n",
              "      <td>0.139944</td>\n",
              "      <td>0.054649</td>\n",
              "      <td>0.063464</td>\n",
              "      <td>0.029792</td>\n",
              "      <td>0.003371</td>\n",
              "      <td>0.032570</td>\n",
              "      <td>0.012409</td>\n",
              "      <td>0.045805</td>\n",
              "      <td>0.112634</td>\n",
              "      <td>0.074577</td>\n",
              "      <td>-0.051525</td>\n",
              "      <td>0.319333</td>\n",
              "      <td>0.084770</td>\n",
              "      <td>-0.109932</td>\n",
              "      <td>0.145159</td>\n",
              "      <td>-0.179075</td>\n",
              "      <td>0.076843</td>\n",
              "      <td>-0.047292</td>\n",
              "      <td>0.142623</td>\n",
              "      <td>0.137776</td>\n",
              "      <td>0.022686</td>\n",
              "      <td>0.118902</td>\n",
              "      <td>-0.015736</td>\n",
              "      <td>-0.016071</td>\n",
              "      <td>-0.201919</td>\n",
              "      <td>-0.018168</td>\n",
              "      <td>-0.161184</td>\n",
              "      <td>-0.181493</td>\n",
              "      <td>0.005605</td>\n",
              "      <td>0.146560</td>\n",
              "      <td>-0.078395</td>\n",
              "      <td>-0.071575</td>\n",
              "      <td>-0.196579</td>\n",
              "      <td>0.120415</td>\n",
              "      <td>-0.132227</td>\n",
              "      <td>0.073814</td>\n",
              "      <td>0.057236</td>\n",
              "      <td>0.025910</td>\n",
              "      <td>0.197016</td>\n",
              "    </tr>\n",
              "    <tr>\n",
              "      <th>4</th>\n",
              "      <td>0.074318</td>\n",
              "      <td>-0.114403</td>\n",
              "      <td>0.057290</td>\n",
              "      <td>0.021747</td>\n",
              "      <td>0.088419</td>\n",
              "      <td>0.185113</td>\n",
              "      <td>-0.109413</td>\n",
              "      <td>0.172972</td>\n",
              "      <td>0.029255</td>\n",
              "      <td>-0.011605</td>\n",
              "      <td>-0.062128</td>\n",
              "      <td>0.010210</td>\n",
              "      <td>-0.129410</td>\n",
              "      <td>0.026866</td>\n",
              "      <td>-0.176150</td>\n",
              "      <td>-0.040590</td>\n",
              "      <td>-0.104328</td>\n",
              "      <td>0.016344</td>\n",
              "      <td>0.032885</td>\n",
              "      <td>-0.043010</td>\n",
              "      <td>0.067433</td>\n",
              "      <td>-0.032110</td>\n",
              "      <td>-0.016984</td>\n",
              "      <td>0.383272</td>\n",
              "      <td>0.112370</td>\n",
              "      <td>0.035096</td>\n",
              "      <td>0.019448</td>\n",
              "      <td>0.194856</td>\n",
              "      <td>0.005239</td>\n",
              "      <td>0.087443</td>\n",
              "      <td>0.075291</td>\n",
              "      <td>-0.040312</td>\n",
              "      <td>-0.004212</td>\n",
              "      <td>-0.075516</td>\n",
              "      <td>-0.106218</td>\n",
              "      <td>0.046460</td>\n",
              "      <td>0.141836</td>\n",
              "      <td>0.008467</td>\n",
              "      <td>-0.130126</td>\n",
              "      <td>0.078146</td>\n",
              "      <td>...</td>\n",
              "      <td>0.028389</td>\n",
              "      <td>0.203752</td>\n",
              "      <td>0.013601</td>\n",
              "      <td>0.045189</td>\n",
              "      <td>0.114005</td>\n",
              "      <td>0.036127</td>\n",
              "      <td>0.076148</td>\n",
              "      <td>-0.041540</td>\n",
              "      <td>-0.006548</td>\n",
              "      <td>0.035943</td>\n",
              "      <td>0.047627</td>\n",
              "      <td>-0.073605</td>\n",
              "      <td>0.297983</td>\n",
              "      <td>0.114112</td>\n",
              "      <td>-0.045794</td>\n",
              "      <td>0.073813</td>\n",
              "      <td>-0.154568</td>\n",
              "      <td>0.097754</td>\n",
              "      <td>-0.019227</td>\n",
              "      <td>0.105207</td>\n",
              "      <td>0.099205</td>\n",
              "      <td>-0.068980</td>\n",
              "      <td>0.130232</td>\n",
              "      <td>-0.038812</td>\n",
              "      <td>-0.072870</td>\n",
              "      <td>-0.140759</td>\n",
              "      <td>0.008659</td>\n",
              "      <td>-0.136186</td>\n",
              "      <td>-0.156937</td>\n",
              "      <td>0.103745</td>\n",
              "      <td>0.124622</td>\n",
              "      <td>-0.160996</td>\n",
              "      <td>-0.101617</td>\n",
              "      <td>-0.195141</td>\n",
              "      <td>0.166932</td>\n",
              "      <td>-0.261918</td>\n",
              "      <td>0.061170</td>\n",
              "      <td>-0.045914</td>\n",
              "      <td>-0.069625</td>\n",
              "      <td>0.182238</td>\n",
              "    </tr>\n",
              "    <tr>\n",
              "      <th>...</th>\n",
              "      <td>...</td>\n",
              "      <td>...</td>\n",
              "      <td>...</td>\n",
              "      <td>...</td>\n",
              "      <td>...</td>\n",
              "      <td>...</td>\n",
              "      <td>...</td>\n",
              "      <td>...</td>\n",
              "      <td>...</td>\n",
              "      <td>...</td>\n",
              "      <td>...</td>\n",
              "      <td>...</td>\n",
              "      <td>...</td>\n",
              "      <td>...</td>\n",
              "      <td>...</td>\n",
              "      <td>...</td>\n",
              "      <td>...</td>\n",
              "      <td>...</td>\n",
              "      <td>...</td>\n",
              "      <td>...</td>\n",
              "      <td>...</td>\n",
              "      <td>...</td>\n",
              "      <td>...</td>\n",
              "      <td>...</td>\n",
              "      <td>...</td>\n",
              "      <td>...</td>\n",
              "      <td>...</td>\n",
              "      <td>...</td>\n",
              "      <td>...</td>\n",
              "      <td>...</td>\n",
              "      <td>...</td>\n",
              "      <td>...</td>\n",
              "      <td>...</td>\n",
              "      <td>...</td>\n",
              "      <td>...</td>\n",
              "      <td>...</td>\n",
              "      <td>...</td>\n",
              "      <td>...</td>\n",
              "      <td>...</td>\n",
              "      <td>...</td>\n",
              "      <td>...</td>\n",
              "      <td>...</td>\n",
              "      <td>...</td>\n",
              "      <td>...</td>\n",
              "      <td>...</td>\n",
              "      <td>...</td>\n",
              "      <td>...</td>\n",
              "      <td>...</td>\n",
              "      <td>...</td>\n",
              "      <td>...</td>\n",
              "      <td>...</td>\n",
              "      <td>...</td>\n",
              "      <td>...</td>\n",
              "      <td>...</td>\n",
              "      <td>...</td>\n",
              "      <td>...</td>\n",
              "      <td>...</td>\n",
              "      <td>...</td>\n",
              "      <td>...</td>\n",
              "      <td>...</td>\n",
              "      <td>...</td>\n",
              "      <td>...</td>\n",
              "      <td>...</td>\n",
              "      <td>...</td>\n",
              "      <td>...</td>\n",
              "      <td>...</td>\n",
              "      <td>...</td>\n",
              "      <td>...</td>\n",
              "      <td>...</td>\n",
              "      <td>...</td>\n",
              "      <td>...</td>\n",
              "      <td>...</td>\n",
              "      <td>...</td>\n",
              "      <td>...</td>\n",
              "      <td>...</td>\n",
              "      <td>...</td>\n",
              "      <td>...</td>\n",
              "      <td>...</td>\n",
              "      <td>...</td>\n",
              "      <td>...</td>\n",
              "      <td>...</td>\n",
              "    </tr>\n",
              "    <tr>\n",
              "      <th>1313</th>\n",
              "      <td>-0.078115</td>\n",
              "      <td>-0.019731</td>\n",
              "      <td>-0.056430</td>\n",
              "      <td>-0.092204</td>\n",
              "      <td>0.135027</td>\n",
              "      <td>0.153680</td>\n",
              "      <td>-0.183881</td>\n",
              "      <td>0.132117</td>\n",
              "      <td>0.064671</td>\n",
              "      <td>-0.021591</td>\n",
              "      <td>-0.070894</td>\n",
              "      <td>0.067551</td>\n",
              "      <td>-0.071078</td>\n",
              "      <td>-0.061094</td>\n",
              "      <td>-0.158462</td>\n",
              "      <td>-0.047366</td>\n",
              "      <td>-0.049345</td>\n",
              "      <td>-0.123574</td>\n",
              "      <td>0.087238</td>\n",
              "      <td>-0.103186</td>\n",
              "      <td>0.124244</td>\n",
              "      <td>-0.008886</td>\n",
              "      <td>0.019149</td>\n",
              "      <td>0.384814</td>\n",
              "      <td>0.055724</td>\n",
              "      <td>-0.063951</td>\n",
              "      <td>0.039950</td>\n",
              "      <td>0.111316</td>\n",
              "      <td>0.020100</td>\n",
              "      <td>0.034051</td>\n",
              "      <td>0.027991</td>\n",
              "      <td>0.066626</td>\n",
              "      <td>-0.066202</td>\n",
              "      <td>-0.061860</td>\n",
              "      <td>-0.126764</td>\n",
              "      <td>0.062630</td>\n",
              "      <td>-0.042179</td>\n",
              "      <td>0.012987</td>\n",
              "      <td>-0.115500</td>\n",
              "      <td>0.083634</td>\n",
              "      <td>...</td>\n",
              "      <td>-0.052986</td>\n",
              "      <td>0.122950</td>\n",
              "      <td>0.019675</td>\n",
              "      <td>0.082476</td>\n",
              "      <td>0.036811</td>\n",
              "      <td>0.015776</td>\n",
              "      <td>0.101389</td>\n",
              "      <td>0.025879</td>\n",
              "      <td>0.108280</td>\n",
              "      <td>0.143833</td>\n",
              "      <td>0.100504</td>\n",
              "      <td>-0.082076</td>\n",
              "      <td>0.295964</td>\n",
              "      <td>-0.010024</td>\n",
              "      <td>-0.070068</td>\n",
              "      <td>0.124143</td>\n",
              "      <td>-0.248712</td>\n",
              "      <td>0.067559</td>\n",
              "      <td>-0.119552</td>\n",
              "      <td>0.080994</td>\n",
              "      <td>0.006640</td>\n",
              "      <td>0.040100</td>\n",
              "      <td>0.049227</td>\n",
              "      <td>0.013231</td>\n",
              "      <td>0.053015</td>\n",
              "      <td>-0.248367</td>\n",
              "      <td>-0.064731</td>\n",
              "      <td>-0.175173</td>\n",
              "      <td>-0.239465</td>\n",
              "      <td>0.014926</td>\n",
              "      <td>0.153986</td>\n",
              "      <td>-0.182672</td>\n",
              "      <td>-0.110434</td>\n",
              "      <td>-0.157597</td>\n",
              "      <td>0.038171</td>\n",
              "      <td>-0.107293</td>\n",
              "      <td>0.032623</td>\n",
              "      <td>0.035654</td>\n",
              "      <td>-0.038981</td>\n",
              "      <td>0.172511</td>\n",
              "    </tr>\n",
              "    <tr>\n",
              "      <th>1314</th>\n",
              "      <td>0.012795</td>\n",
              "      <td>-0.001863</td>\n",
              "      <td>-0.073967</td>\n",
              "      <td>0.065063</td>\n",
              "      <td>0.120394</td>\n",
              "      <td>0.163845</td>\n",
              "      <td>-0.124406</td>\n",
              "      <td>0.170630</td>\n",
              "      <td>0.107003</td>\n",
              "      <td>-0.092466</td>\n",
              "      <td>-0.098722</td>\n",
              "      <td>-0.033103</td>\n",
              "      <td>-0.097930</td>\n",
              "      <td>-0.014110</td>\n",
              "      <td>-0.108103</td>\n",
              "      <td>-0.066680</td>\n",
              "      <td>-0.076068</td>\n",
              "      <td>-0.022735</td>\n",
              "      <td>0.062566</td>\n",
              "      <td>-0.146128</td>\n",
              "      <td>0.064580</td>\n",
              "      <td>-0.003438</td>\n",
              "      <td>0.083656</td>\n",
              "      <td>0.355867</td>\n",
              "      <td>0.068829</td>\n",
              "      <td>-0.074947</td>\n",
              "      <td>0.074985</td>\n",
              "      <td>0.182216</td>\n",
              "      <td>-0.037944</td>\n",
              "      <td>-0.002481</td>\n",
              "      <td>0.069319</td>\n",
              "      <td>0.074504</td>\n",
              "      <td>-0.112632</td>\n",
              "      <td>-0.027932</td>\n",
              "      <td>-0.049336</td>\n",
              "      <td>0.085502</td>\n",
              "      <td>0.090709</td>\n",
              "      <td>0.047103</td>\n",
              "      <td>-0.166686</td>\n",
              "      <td>0.127968</td>\n",
              "      <td>...</td>\n",
              "      <td>0.013230</td>\n",
              "      <td>0.124245</td>\n",
              "      <td>0.021448</td>\n",
              "      <td>0.091497</td>\n",
              "      <td>0.013676</td>\n",
              "      <td>0.022907</td>\n",
              "      <td>0.060176</td>\n",
              "      <td>0.022937</td>\n",
              "      <td>0.024225</td>\n",
              "      <td>0.051414</td>\n",
              "      <td>0.072020</td>\n",
              "      <td>-0.101910</td>\n",
              "      <td>0.271333</td>\n",
              "      <td>0.063544</td>\n",
              "      <td>-0.077762</td>\n",
              "      <td>0.162210</td>\n",
              "      <td>-0.205380</td>\n",
              "      <td>0.094111</td>\n",
              "      <td>-0.080358</td>\n",
              "      <td>0.065720</td>\n",
              "      <td>0.137954</td>\n",
              "      <td>-0.021069</td>\n",
              "      <td>0.035586</td>\n",
              "      <td>0.016224</td>\n",
              "      <td>-0.003069</td>\n",
              "      <td>-0.235400</td>\n",
              "      <td>-0.016592</td>\n",
              "      <td>-0.103609</td>\n",
              "      <td>-0.224015</td>\n",
              "      <td>0.023928</td>\n",
              "      <td>0.158293</td>\n",
              "      <td>-0.148674</td>\n",
              "      <td>-0.019254</td>\n",
              "      <td>-0.111756</td>\n",
              "      <td>0.108102</td>\n",
              "      <td>-0.155167</td>\n",
              "      <td>0.078431</td>\n",
              "      <td>0.045810</td>\n",
              "      <td>0.070194</td>\n",
              "      <td>0.179693</td>\n",
              "    </tr>\n",
              "    <tr>\n",
              "      <th>1315</th>\n",
              "      <td>-0.021119</td>\n",
              "      <td>-0.019611</td>\n",
              "      <td>-0.020700</td>\n",
              "      <td>0.005424</td>\n",
              "      <td>0.161305</td>\n",
              "      <td>0.229368</td>\n",
              "      <td>-0.042321</td>\n",
              "      <td>0.168187</td>\n",
              "      <td>0.087716</td>\n",
              "      <td>0.018652</td>\n",
              "      <td>-0.111531</td>\n",
              "      <td>-0.003160</td>\n",
              "      <td>-0.052745</td>\n",
              "      <td>-0.064411</td>\n",
              "      <td>-0.151604</td>\n",
              "      <td>-0.037730</td>\n",
              "      <td>-0.096154</td>\n",
              "      <td>0.035737</td>\n",
              "      <td>0.033224</td>\n",
              "      <td>-0.100211</td>\n",
              "      <td>0.095342</td>\n",
              "      <td>0.014910</td>\n",
              "      <td>0.008364</td>\n",
              "      <td>0.389404</td>\n",
              "      <td>0.087987</td>\n",
              "      <td>-0.028888</td>\n",
              "      <td>0.073775</td>\n",
              "      <td>0.209715</td>\n",
              "      <td>-0.091461</td>\n",
              "      <td>0.031710</td>\n",
              "      <td>0.033944</td>\n",
              "      <td>0.040883</td>\n",
              "      <td>-0.013460</td>\n",
              "      <td>-0.080825</td>\n",
              "      <td>-0.111988</td>\n",
              "      <td>0.100738</td>\n",
              "      <td>0.153631</td>\n",
              "      <td>-0.006848</td>\n",
              "      <td>-0.123727</td>\n",
              "      <td>0.081393</td>\n",
              "      <td>...</td>\n",
              "      <td>-0.040141</td>\n",
              "      <td>0.192232</td>\n",
              "      <td>-0.013074</td>\n",
              "      <td>0.068533</td>\n",
              "      <td>0.060097</td>\n",
              "      <td>-0.011113</td>\n",
              "      <td>0.066677</td>\n",
              "      <td>0.029057</td>\n",
              "      <td>-0.023952</td>\n",
              "      <td>0.085232</td>\n",
              "      <td>0.103451</td>\n",
              "      <td>-0.060892</td>\n",
              "      <td>0.292781</td>\n",
              "      <td>0.087957</td>\n",
              "      <td>-0.061949</td>\n",
              "      <td>0.124524</td>\n",
              "      <td>-0.162948</td>\n",
              "      <td>0.083898</td>\n",
              "      <td>-0.016975</td>\n",
              "      <td>0.071366</td>\n",
              "      <td>0.115691</td>\n",
              "      <td>-0.063449</td>\n",
              "      <td>0.094079</td>\n",
              "      <td>-0.025578</td>\n",
              "      <td>-0.017469</td>\n",
              "      <td>-0.187550</td>\n",
              "      <td>-0.035419</td>\n",
              "      <td>-0.096507</td>\n",
              "      <td>-0.180712</td>\n",
              "      <td>0.006676</td>\n",
              "      <td>0.107597</td>\n",
              "      <td>-0.134772</td>\n",
              "      <td>-0.027940</td>\n",
              "      <td>-0.095217</td>\n",
              "      <td>0.113644</td>\n",
              "      <td>-0.189437</td>\n",
              "      <td>0.039346</td>\n",
              "      <td>0.044376</td>\n",
              "      <td>0.047604</td>\n",
              "      <td>0.133129</td>\n",
              "    </tr>\n",
              "    <tr>\n",
              "      <th>1316</th>\n",
              "      <td>-0.054319</td>\n",
              "      <td>0.019243</td>\n",
              "      <td>0.012354</td>\n",
              "      <td>0.086508</td>\n",
              "      <td>0.135222</td>\n",
              "      <td>0.202238</td>\n",
              "      <td>-0.199620</td>\n",
              "      <td>0.086922</td>\n",
              "      <td>0.070940</td>\n",
              "      <td>0.002355</td>\n",
              "      <td>-0.114170</td>\n",
              "      <td>0.114389</td>\n",
              "      <td>-0.064669</td>\n",
              "      <td>-0.061987</td>\n",
              "      <td>-0.179903</td>\n",
              "      <td>-0.083839</td>\n",
              "      <td>-0.133660</td>\n",
              "      <td>-0.098629</td>\n",
              "      <td>0.141345</td>\n",
              "      <td>-0.198330</td>\n",
              "      <td>0.091770</td>\n",
              "      <td>0.074616</td>\n",
              "      <td>0.044903</td>\n",
              "      <td>0.239303</td>\n",
              "      <td>-0.052739</td>\n",
              "      <td>-0.065746</td>\n",
              "      <td>0.023745</td>\n",
              "      <td>0.137235</td>\n",
              "      <td>-0.146106</td>\n",
              "      <td>-0.048676</td>\n",
              "      <td>0.067585</td>\n",
              "      <td>-0.022513</td>\n",
              "      <td>-0.002406</td>\n",
              "      <td>0.029157</td>\n",
              "      <td>0.000383</td>\n",
              "      <td>0.070118</td>\n",
              "      <td>0.004588</td>\n",
              "      <td>0.058144</td>\n",
              "      <td>-0.109894</td>\n",
              "      <td>0.181234</td>\n",
              "      <td>...</td>\n",
              "      <td>-0.014646</td>\n",
              "      <td>0.199808</td>\n",
              "      <td>0.021525</td>\n",
              "      <td>0.161723</td>\n",
              "      <td>-0.010889</td>\n",
              "      <td>0.119681</td>\n",
              "      <td>-0.086349</td>\n",
              "      <td>0.104439</td>\n",
              "      <td>-0.038127</td>\n",
              "      <td>0.101290</td>\n",
              "      <td>0.085885</td>\n",
              "      <td>-0.112143</td>\n",
              "      <td>0.328633</td>\n",
              "      <td>0.076504</td>\n",
              "      <td>-0.106370</td>\n",
              "      <td>0.081561</td>\n",
              "      <td>-0.172753</td>\n",
              "      <td>0.074102</td>\n",
              "      <td>-0.100684</td>\n",
              "      <td>0.048316</td>\n",
              "      <td>0.037645</td>\n",
              "      <td>0.058630</td>\n",
              "      <td>0.162805</td>\n",
              "      <td>0.011360</td>\n",
              "      <td>-0.087451</td>\n",
              "      <td>-0.193841</td>\n",
              "      <td>-0.006317</td>\n",
              "      <td>-0.189937</td>\n",
              "      <td>-0.192503</td>\n",
              "      <td>0.040064</td>\n",
              "      <td>0.096565</td>\n",
              "      <td>-0.065845</td>\n",
              "      <td>-0.168084</td>\n",
              "      <td>-0.151638</td>\n",
              "      <td>0.107166</td>\n",
              "      <td>-0.114618</td>\n",
              "      <td>0.104612</td>\n",
              "      <td>0.096587</td>\n",
              "      <td>0.003402</td>\n",
              "      <td>0.106300</td>\n",
              "    </tr>\n",
              "    <tr>\n",
              "      <th>1317</th>\n",
              "      <td>-0.288578</td>\n",
              "      <td>-0.010394</td>\n",
              "      <td>0.003096</td>\n",
              "      <td>0.055705</td>\n",
              "      <td>0.059752</td>\n",
              "      <td>0.172414</td>\n",
              "      <td>-0.220053</td>\n",
              "      <td>0.192483</td>\n",
              "      <td>0.088171</td>\n",
              "      <td>0.019939</td>\n",
              "      <td>-0.114332</td>\n",
              "      <td>0.098104</td>\n",
              "      <td>-0.099204</td>\n",
              "      <td>0.014030</td>\n",
              "      <td>-0.234826</td>\n",
              "      <td>-0.069160</td>\n",
              "      <td>-0.272514</td>\n",
              "      <td>-0.254281</td>\n",
              "      <td>-0.051095</td>\n",
              "      <td>-0.292095</td>\n",
              "      <td>-0.124481</td>\n",
              "      <td>0.075870</td>\n",
              "      <td>0.000248</td>\n",
              "      <td>0.346487</td>\n",
              "      <td>0.178497</td>\n",
              "      <td>0.109170</td>\n",
              "      <td>0.315610</td>\n",
              "      <td>0.250820</td>\n",
              "      <td>0.089041</td>\n",
              "      <td>0.060474</td>\n",
              "      <td>0.178532</td>\n",
              "      <td>-0.075557</td>\n",
              "      <td>-0.082705</td>\n",
              "      <td>0.137937</td>\n",
              "      <td>-0.084050</td>\n",
              "      <td>0.130661</td>\n",
              "      <td>0.071425</td>\n",
              "      <td>0.044152</td>\n",
              "      <td>-0.248085</td>\n",
              "      <td>0.216365</td>\n",
              "      <td>...</td>\n",
              "      <td>-0.072269</td>\n",
              "      <td>0.263943</td>\n",
              "      <td>-0.068633</td>\n",
              "      <td>0.175485</td>\n",
              "      <td>0.100489</td>\n",
              "      <td>-0.066816</td>\n",
              "      <td>0.211180</td>\n",
              "      <td>0.092893</td>\n",
              "      <td>-0.129650</td>\n",
              "      <td>0.070594</td>\n",
              "      <td>0.067053</td>\n",
              "      <td>-0.155358</td>\n",
              "      <td>0.260984</td>\n",
              "      <td>0.037566</td>\n",
              "      <td>-0.070552</td>\n",
              "      <td>0.163813</td>\n",
              "      <td>-0.359759</td>\n",
              "      <td>0.180922</td>\n",
              "      <td>-0.157562</td>\n",
              "      <td>0.164252</td>\n",
              "      <td>0.136877</td>\n",
              "      <td>-0.131884</td>\n",
              "      <td>0.085354</td>\n",
              "      <td>-0.137138</td>\n",
              "      <td>0.014684</td>\n",
              "      <td>-0.194648</td>\n",
              "      <td>-0.077765</td>\n",
              "      <td>-0.208659</td>\n",
              "      <td>-0.130542</td>\n",
              "      <td>0.201422</td>\n",
              "      <td>0.025417</td>\n",
              "      <td>-0.126632</td>\n",
              "      <td>0.192929</td>\n",
              "      <td>-0.102705</td>\n",
              "      <td>0.172700</td>\n",
              "      <td>-0.103810</td>\n",
              "      <td>0.111591</td>\n",
              "      <td>0.088216</td>\n",
              "      <td>-0.085364</td>\n",
              "      <td>0.135415</td>\n",
              "    </tr>\n",
              "  </tbody>\n",
              "</table>\n",
              "<p>1318 rows × 200 columns</p>\n",
              "</div>"
            ],
            "text/plain": [
              "           0         1         2    ...       197       198       199\n",
              "0    -0.039952 -0.079004 -0.037546  ... -0.032685 -0.061793  0.205131\n",
              "1    -0.061662 -0.018048 -0.040346  ...  0.066596  0.007783  0.230782\n",
              "2    -0.037037 -0.038938  0.021536  ...  0.033238  0.045056  0.177810\n",
              "3     0.033931 -0.034729  0.035315  ...  0.057236  0.025910  0.197016\n",
              "4     0.074318 -0.114403  0.057290  ... -0.045914 -0.069625  0.182238\n",
              "...        ...       ...       ...  ...       ...       ...       ...\n",
              "1313 -0.078115 -0.019731 -0.056430  ...  0.035654 -0.038981  0.172511\n",
              "1314  0.012795 -0.001863 -0.073967  ...  0.045810  0.070194  0.179693\n",
              "1315 -0.021119 -0.019611 -0.020700  ...  0.044376  0.047604  0.133129\n",
              "1316 -0.054319  0.019243  0.012354  ...  0.096587  0.003402  0.106300\n",
              "1317 -0.288578 -0.010394  0.003096  ...  0.088216 -0.085364  0.135415\n",
              "\n",
              "[1318 rows x 200 columns]"
            ]
          },
          "metadata": {
            "tags": []
          },
          "execution_count": 43
        }
      ]
    },
    {
      "cell_type": "markdown",
      "metadata": {
        "id": "I8eBQDEiWCDq"
      },
      "source": [
        "#Fasttext Vector Conversion"
      ]
    },
    {
      "cell_type": "code",
      "metadata": {
        "colab": {
          "base_uri": "https://localhost:8080/"
        },
        "id": "bfNJwW1pZWK9",
        "outputId": "29c435bd-385f-41c3-e429-dc06c004595c"
      },
      "source": [
        "pip install fastText"
      ],
      "execution_count": null,
      "outputs": [
        {
          "output_type": "stream",
          "text": [
            "Collecting fastText\n",
            "  Downloading fasttext-0.9.2.tar.gz (68 kB)\n",
            "\u001b[?25l\r\u001b[K     |████▊                           | 10 kB 21.0 MB/s eta 0:00:01\r\u001b[K     |█████████▌                      | 20 kB 10.6 MB/s eta 0:00:01\r\u001b[K     |██████████████▎                 | 30 kB 8.2 MB/s eta 0:00:01\r\u001b[K     |███████████████████             | 40 kB 7.6 MB/s eta 0:00:01\r\u001b[K     |███████████████████████▉        | 51 kB 5.2 MB/s eta 0:00:01\r\u001b[K     |████████████████████████████▋   | 61 kB 5.3 MB/s eta 0:00:01\r\u001b[K     |████████████████████████████████| 68 kB 3.3 MB/s \n",
            "\u001b[?25hCollecting pybind11>=2.2\n",
            "  Using cached pybind11-2.7.0-py2.py3-none-any.whl (199 kB)\n",
            "Requirement already satisfied: setuptools>=0.7.0 in /usr/local/lib/python3.7/dist-packages (from fastText) (57.2.0)\n",
            "Requirement already satisfied: numpy in /usr/local/lib/python3.7/dist-packages (from fastText) (1.19.5)\n",
            "Building wheels for collected packages: fastText\n",
            "  Building wheel for fastText (setup.py) ... \u001b[?25l\u001b[?25hdone\n",
            "  Created wheel for fastText: filename=fasttext-0.9.2-cp37-cp37m-linux_x86_64.whl size=3093533 sha256=2910ef932a953924adf90c021d1f4b4e20c68cdca187cb5e49b8dd05fbea2d16\n",
            "  Stored in directory: /root/.cache/pip/wheels/4e/ca/bf/b020d2be95f7641801a6597a29c8f4f19e38f9c02a345bab9b\n",
            "Successfully built fastText\n",
            "Installing collected packages: pybind11, fastText\n",
            "Successfully installed fastText-0.9.2 pybind11-2.7.0\n"
          ],
          "name": "stdout"
        }
      ]
    },
    {
      "cell_type": "code",
      "metadata": {
        "id": "acqzukbxVekz"
      },
      "source": [
        "embedding_size = 60\n",
        "window_size = 40\n",
        "min_word = 5\n",
        "down_sampling = 1e-2"
      ],
      "execution_count": null,
      "outputs": []
    },
    {
      "cell_type": "code",
      "metadata": {
        "id": "GtOvOJb4abtq"
      },
      "source": [
        "from gensim.models.fasttext import FastText\n",
        "ft_model = FastText(tokenized_tweet,\n",
        "                      size=embedding_size,\n",
        "                      window=window_size,\n",
        "                      min_count=min_word,\n",
        "                      sample=down_sampling,\n",
        "                      sg=1,\n",
        "                      iter=100)"
      ],
      "execution_count": null,
      "outputs": []
    },
    {
      "cell_type": "code",
      "metadata": {
        "colab": {
          "base_uri": "https://localhost:8080/"
        },
        "id": "E5YA-SJaVkfj",
        "outputId": "64781b29-f8f2-4716-cb23-69c516249bbd"
      },
      "source": [
        "print(ft_model.wv['बेटा धोनी के बारे में कुछ बुरा बोले ना तो  क्रिकेट की कसम तुमारी गांड तोड़ देंगे'])"
      ],
      "execution_count": null,
      "outputs": [
        {
          "output_type": "stream",
          "text": [
            "[-0.17159644  0.03175003  0.0599951   0.34252837 -0.13873287 -0.5620301\n",
            "  0.07740642 -0.5507802  -0.07572628 -0.12549134 -0.5142197   0.40350175\n",
            "  0.13465223  0.07387622 -0.60802716 -0.52292854  0.13025995  0.09105202\n",
            " -0.3862038   0.4340768  -0.06978016  0.23362039 -0.4379673   0.02683445\n",
            "  0.25912505 -0.12967132 -0.40982625 -0.2929204   0.06684594  0.20967248\n",
            "  0.34074956 -0.19728397  0.9018847   0.3090386   0.38382486  0.25535172\n",
            " -0.2574884  -0.33378503  0.03430269 -0.3421931   0.06771199  0.3494286\n",
            "  0.0445867   0.2496289   0.00298356  0.08932813  0.61518955 -0.50388974\n",
            " -0.02932963 -0.5880194   0.28760812  0.47769055 -0.3151773  -0.90694463\n",
            " -0.4519198   0.00714432  0.64705515 -0.4461562  -0.40359092  0.11656582]\n"
          ],
          "name": "stdout"
        }
      ]
    },
    {
      "cell_type": "code",
      "metadata": {
        "colab": {
          "base_uri": "https://localhost:8080/"
        },
        "id": "rRK0OTNyVnXH",
        "outputId": "8a433f4f-77dc-4457-e234-a2365f8b793b"
      },
      "source": [
        "semantically_similar_words = {words: [item[0] for item in ft_model.wv.most_similar([words], topn=5)]\n",
        "                  for words in ['पाकिस्तान','करतूत','धोखा','बुरा', 'कसम']}\n",
        "\n",
        "for k,v in semantically_similar_words.items():\n",
        "    print(k+\":\"+str(v))"
      ],
      "execution_count": null,
      "outputs": [
        {
          "output_type": "stream",
          "text": [
            "पाकिस्तान:['नमक', 'चले', 'पार', 'अपनाने', 'भारत']\n",
            "करतूत:['करती', 'से', 'करते', 'भगवान', 'प्रदान']\n",
            "धोखा:['खा', 'रखा', 'दिखा', 'बीवी', 'लिखा']\n",
            "बुरा:['बोले', 'अतीक', 'साबित', 'मिला', 'दल']\n",
            "कसम:['खून', 'भगवा', 'हिन्दुओं', 'बताएं', 'हो।']\n"
          ],
          "name": "stdout"
        }
      ]
    },
    {
      "cell_type": "markdown",
      "metadata": {
        "id": "wdGPTzh1xaHR"
      },
      "source": [
        "#Doc2Vec Vector Conversion"
      ]
    },
    {
      "cell_type": "code",
      "metadata": {
        "colab": {
          "base_uri": "https://localhost:8080/"
        },
        "id": "CPh4tRGVbndU",
        "outputId": "750cc4cf-7dc9-44a8-b19b-35734eb9f466"
      },
      "source": [
        "from tqdm import tqdm \n",
        "tqdm.pandas(desc=\"progress-bar\") \n",
        "from gensim.models.doc2vec import LabeledSentence\n",
        "\n",
        "from gensim.models.doc2vec import Doc2Vec"
      ],
      "execution_count": null,
      "outputs": [
        {
          "output_type": "stream",
          "text": [
            "/usr/local/lib/python3.7/dist-packages/tqdm/std.py:658: FutureWarning: The Panel class is removed from pandas. Accessing it from the top-level namespace will also be removed in the next version\n",
            "  from pandas import Panel\n"
          ],
          "name": "stderr"
        }
      ]
    },
    {
      "cell_type": "code",
      "metadata": {
        "colab": {
          "base_uri": "https://localhost:8080/"
        },
        "id": "t2zb983CbntH",
        "outputId": "07f8f008-b4f4-4670-f58e-98e59b7c95b0"
      },
      "source": [
        "def add_label(twt):\n",
        "    output = []\n",
        "    for i, s in zip(twt.index, twt):\n",
        "        output.append(LabeledSentence(s, [\"tweet_\" + str(i)]))\n",
        "    return output\n",
        "\n",
        "labeled_tweets = add_label(tokenized_tweet) # label all the tweets"
      ],
      "execution_count": null,
      "outputs": [
        {
          "output_type": "stream",
          "text": [
            "/usr/local/lib/python3.7/dist-packages/ipykernel_launcher.py:4: DeprecationWarning: Call to deprecated `LabeledSentence` (Class will be removed in 4.0.0, use TaggedDocument instead).\n",
            "  after removing the cwd from sys.path.\n"
          ],
          "name": "stderr"
        }
      ]
    },
    {
      "cell_type": "code",
      "metadata": {
        "colab": {
          "base_uri": "https://localhost:8080/"
        },
        "id": "FonfwpznC_G1",
        "outputId": "b06167b2-d911-4588-ed29-83fc661113fa"
      },
      "source": [
        "labeled_tweets[:6]"
      ],
      "execution_count": null,
      "outputs": [
        {
          "output_type": "execute_result",
          "data": {
            "text/plain": [
              "[LabeledSentence(words=['वक्त', 'इन्सान', 'और', 'इंग्लैंड', 'का', 'मौसम', 'आपको', 'कभी', 'भी', 'धोखा', 'दे', 'सकता', 'है।', 'indiavspakistan'], tags=['tweet_0']),\n",
              " LabeledSentence(words=['कांग्रेस', 'के', 'इस', 'कमीने', 'की', 'करतूत', 'को', 'देखिए', 'देश', 'की', 'रक्षा', 'करते', 'शहीद', 'हुए', 'मां', 'भारती', 'के', 'सपूतों', 'का', 'ख्याल', 'भी', 'नहीं', 'रखा', 'दुश्मन', 'से', 'गले', 'मिल', 'गये', 'शर्मनाक', 'ये', 'पूरे', 'शहीद', 'का', 'अपमान', 'किया', 'है।', 'मैं', 'बहुत', 'कद्र', 'करते', 'थे', 'सिंधु', 'को', 'लेकिन', 'ये', 'तो', 'नकारा', 'है।'], tags=['tweet_1']),\n",
              " LabeledSentence(words=['पाकिस्तान', 'को', 'फेकना', 'था', 'फेका', 'गया।', 'जो', 'हार', 'कर', 'भी', 'दुश्मन', 'को', 'हरा', 'दे', 'उसी', 'को', 'हमने', 'नाम', 'दिया।', 'bcci', 'ये', 'तुम्हारे', 'समझ', 'के', 'बाहर', 'हैं', 'तुम', 'बॉलीवुड', 'में', 'रंडी', 'रोओ', 'इधर', 'मत', 'घुसो।'], tags=['tweet_2']),\n",
              " LabeledSentence(words=['जो', 'शब्द', 'तूम', 'आज', 'किसी', 'और', 'औरत', 'के', 'लिए', 'यूज', 'कर', 'रहे', 'वो', 'बचाकर', 'रखना', 'क्योंकि', 'यही', 'कल', 'कोई', 'और', 'कल', 'तुम्हारी', 'माँ', 'बहन', 'और', 'बेटी', 'के', 'लिये', 'यूज', 'करेगा', 'तब', 'गुस्सा', 'न', 'करना', 'क्योंकि', 'वो', 'तुम्हारे', 'फेंके', 'शब्द', 'तुम्ही', 'को', 'मारेगा', 'ये', 'सलाय', 'नहीं', 'सच्चाई', 'है', 'आज', 'के', 'ट्विटर', 'की', 'इतना', 'गिरा', 'दिया', 'है', 'कि', 'पूछो', 'मत'], tags=['tweet_3']),\n",
              " LabeledSentence(words=['नेता', 'जी', 'हम', 'समाजवादी', 'सिपाही', 'हमेशा', 'आपके', 'साथ', 'है', 'आपका', 'हर', 'लिया', 'गया', 'निर्णय', 'हमे', 'स्वीकार', 'है', 'निवेदन', 'है', 'कि', 'कार्यकर्ताओं', 'पे', 'वरिष्ठ', 'नेता', 'ध्यान', 'दे', 'ये', 'चुनाव', 'भी', 'एक', 'सबक', 'है', 'हमारे', 'लिए', 'कही', 'न', 'कही', 'कार्यकर्ताओं', 'को', 'नजरअंदाज', 'करना', 'भी', 'रख', 'सबब', 'बनाजय', 'समाजवाद', 'जय', 'अखिलेश', 'भइया'], tags=['tweet_4']),\n",
              " LabeledSentence(words=['narendramodi', 'amitshah', 'bjpindia', 'bharatkapm', 'teamdeol', 'aayegatohmodihi', 'bjpindia', 'bjp', 'कन्हैयाकुमार', 'ने', 'खोदा', 'कुआँ', 'सिंधिया', 'हारे', 'जुआ', 'शत्रुघ्न', 'खामोश', 'हुआ', 'राज', 'बब्बर', 'बना', 'चूहा', 'राज्य', 'ने', 'छुआ', 'खैर', 'जो', 'हुआ', 'सो', 'हुआ', 'केजरीवाल', 'भी', 'बदहाल', 'हुआ'], tags=['tweet_5'])]"
            ]
          },
          "metadata": {
            "tags": []
          },
          "execution_count": 46
        }
      ]
    },
    {
      "cell_type": "code",
      "metadata": {
        "colab": {
          "base_uri": "https://localhost:8080/"
        },
        "id": "hd2DwHm6boJ_",
        "outputId": "49c48ae7-5754-419d-c5d5-a3f1734f6583"
      },
      "source": [
        "model_d2v = Doc2Vec(dm=1, # dm = 1 for ‘distributed memory’ model\n",
        "                                  dm_mean=1, # dm_mean = 1 for using mean of the context word vectors\n",
        "                                  vector_size=200, # no. of desired features\n",
        "                                  window=5, # width of the context window                                  \n",
        "                                  negative=7, # if > 0 then negative sampling will be used\n",
        "                                  min_count=5, # Ignores all words with total frequency lower than 5.                                  \n",
        "                                  workers=32, # no. of cores                                  \n",
        "                                  alpha=0.1, # learning rate                                  \n",
        "                                  seed = 23, # for reproducibility\n",
        "                                 ) \n",
        "\n",
        "model_d2v.build_vocab([i for i in tqdm(labeled_tweets)])\n",
        "\n",
        "model_d2v.train(labeled_tweets, total_examples= len(tokenized_tweet), epochs=15)"
      ],
      "execution_count": null,
      "outputs": [
        {
          "output_type": "stream",
          "text": [
            "100%|██████████| 1318/1318 [00:00<00:00, 937918.68it/s]\n"
          ],
          "name": "stderr"
        }
      ]
    },
    {
      "cell_type": "code",
      "metadata": {
        "colab": {
          "base_uri": "https://localhost:8080/"
        },
        "id": "BMogO4VCxnx4",
        "outputId": "d37122fe-7ba7-459e-c45f-76adb102462c"
      },
      "source": [
        "docvec_arrays = np.zeros((len(tokenized_tweet), 200)) \n",
        "for i in range(len(tokenized_tweet)):\n",
        "    docvec_arrays[i,:] = model_d2v.docvecs[i].reshape((1,200))    \n",
        "\n",
        "docvec_df = pd.DataFrame(docvec_arrays) \n",
        "docvec_df.shape"
      ],
      "execution_count": null,
      "outputs": [
        {
          "output_type": "execute_result",
          "data": {
            "text/plain": [
              "(1318, 200)"
            ]
          },
          "metadata": {
            "tags": []
          },
          "execution_count": 48
        }
      ]
    },
    {
      "cell_type": "code",
      "metadata": {
        "colab": {
          "base_uri": "https://localhost:8080/",
          "height": 439
        },
        "id": "GbCkyeRXxn-X",
        "outputId": "47e311ac-e062-4858-cf5d-bf701450a474"
      },
      "source": [
        "docvec_df"
      ],
      "execution_count": null,
      "outputs": [
        {
          "output_type": "execute_result",
          "data": {
            "text/html": [
              "<div>\n",
              "<style scoped>\n",
              "    .dataframe tbody tr th:only-of-type {\n",
              "        vertical-align: middle;\n",
              "    }\n",
              "\n",
              "    .dataframe tbody tr th {\n",
              "        vertical-align: top;\n",
              "    }\n",
              "\n",
              "    .dataframe thead th {\n",
              "        text-align: right;\n",
              "    }\n",
              "</style>\n",
              "<table border=\"1\" class=\"dataframe\">\n",
              "  <thead>\n",
              "    <tr style=\"text-align: right;\">\n",
              "      <th></th>\n",
              "      <th>0</th>\n",
              "      <th>1</th>\n",
              "      <th>2</th>\n",
              "      <th>3</th>\n",
              "      <th>4</th>\n",
              "      <th>5</th>\n",
              "      <th>6</th>\n",
              "      <th>7</th>\n",
              "      <th>8</th>\n",
              "      <th>9</th>\n",
              "      <th>10</th>\n",
              "      <th>11</th>\n",
              "      <th>12</th>\n",
              "      <th>13</th>\n",
              "      <th>14</th>\n",
              "      <th>15</th>\n",
              "      <th>16</th>\n",
              "      <th>17</th>\n",
              "      <th>18</th>\n",
              "      <th>19</th>\n",
              "      <th>20</th>\n",
              "      <th>21</th>\n",
              "      <th>22</th>\n",
              "      <th>23</th>\n",
              "      <th>24</th>\n",
              "      <th>25</th>\n",
              "      <th>26</th>\n",
              "      <th>27</th>\n",
              "      <th>28</th>\n",
              "      <th>29</th>\n",
              "      <th>30</th>\n",
              "      <th>31</th>\n",
              "      <th>32</th>\n",
              "      <th>33</th>\n",
              "      <th>34</th>\n",
              "      <th>35</th>\n",
              "      <th>36</th>\n",
              "      <th>37</th>\n",
              "      <th>38</th>\n",
              "      <th>39</th>\n",
              "      <th>...</th>\n",
              "      <th>160</th>\n",
              "      <th>161</th>\n",
              "      <th>162</th>\n",
              "      <th>163</th>\n",
              "      <th>164</th>\n",
              "      <th>165</th>\n",
              "      <th>166</th>\n",
              "      <th>167</th>\n",
              "      <th>168</th>\n",
              "      <th>169</th>\n",
              "      <th>170</th>\n",
              "      <th>171</th>\n",
              "      <th>172</th>\n",
              "      <th>173</th>\n",
              "      <th>174</th>\n",
              "      <th>175</th>\n",
              "      <th>176</th>\n",
              "      <th>177</th>\n",
              "      <th>178</th>\n",
              "      <th>179</th>\n",
              "      <th>180</th>\n",
              "      <th>181</th>\n",
              "      <th>182</th>\n",
              "      <th>183</th>\n",
              "      <th>184</th>\n",
              "      <th>185</th>\n",
              "      <th>186</th>\n",
              "      <th>187</th>\n",
              "      <th>188</th>\n",
              "      <th>189</th>\n",
              "      <th>190</th>\n",
              "      <th>191</th>\n",
              "      <th>192</th>\n",
              "      <th>193</th>\n",
              "      <th>194</th>\n",
              "      <th>195</th>\n",
              "      <th>196</th>\n",
              "      <th>197</th>\n",
              "      <th>198</th>\n",
              "      <th>199</th>\n",
              "    </tr>\n",
              "  </thead>\n",
              "  <tbody>\n",
              "    <tr>\n",
              "      <th>0</th>\n",
              "      <td>-0.114126</td>\n",
              "      <td>-0.161617</td>\n",
              "      <td>0.034409</td>\n",
              "      <td>-0.154707</td>\n",
              "      <td>0.112289</td>\n",
              "      <td>0.094823</td>\n",
              "      <td>-0.018980</td>\n",
              "      <td>0.075990</td>\n",
              "      <td>-0.179662</td>\n",
              "      <td>0.129586</td>\n",
              "      <td>-0.084008</td>\n",
              "      <td>-0.105695</td>\n",
              "      <td>-0.180839</td>\n",
              "      <td>-0.001812</td>\n",
              "      <td>0.050326</td>\n",
              "      <td>-0.076046</td>\n",
              "      <td>-0.052406</td>\n",
              "      <td>0.182377</td>\n",
              "      <td>0.227368</td>\n",
              "      <td>-0.229505</td>\n",
              "      <td>-0.041888</td>\n",
              "      <td>0.062399</td>\n",
              "      <td>-0.081050</td>\n",
              "      <td>-0.027491</td>\n",
              "      <td>-0.040619</td>\n",
              "      <td>-0.149097</td>\n",
              "      <td>0.060448</td>\n",
              "      <td>-0.219345</td>\n",
              "      <td>-0.012273</td>\n",
              "      <td>0.095200</td>\n",
              "      <td>0.035125</td>\n",
              "      <td>-0.024813</td>\n",
              "      <td>0.039458</td>\n",
              "      <td>0.036444</td>\n",
              "      <td>0.068856</td>\n",
              "      <td>-0.009518</td>\n",
              "      <td>-0.206214</td>\n",
              "      <td>0.070108</td>\n",
              "      <td>-0.012437</td>\n",
              "      <td>-0.086732</td>\n",
              "      <td>...</td>\n",
              "      <td>-0.091821</td>\n",
              "      <td>-0.039494</td>\n",
              "      <td>0.097734</td>\n",
              "      <td>0.037690</td>\n",
              "      <td>-0.065714</td>\n",
              "      <td>-0.142045</td>\n",
              "      <td>0.046945</td>\n",
              "      <td>0.094175</td>\n",
              "      <td>-0.002525</td>\n",
              "      <td>-0.017162</td>\n",
              "      <td>0.091101</td>\n",
              "      <td>0.096781</td>\n",
              "      <td>-0.040719</td>\n",
              "      <td>0.124409</td>\n",
              "      <td>-0.122944</td>\n",
              "      <td>0.215672</td>\n",
              "      <td>-0.061216</td>\n",
              "      <td>0.025450</td>\n",
              "      <td>-0.019072</td>\n",
              "      <td>-0.076230</td>\n",
              "      <td>0.084250</td>\n",
              "      <td>0.080966</td>\n",
              "      <td>0.206649</td>\n",
              "      <td>0.044706</td>\n",
              "      <td>0.084399</td>\n",
              "      <td>0.129446</td>\n",
              "      <td>0.092357</td>\n",
              "      <td>-0.191427</td>\n",
              "      <td>0.084637</td>\n",
              "      <td>0.182726</td>\n",
              "      <td>0.075693</td>\n",
              "      <td>0.047591</td>\n",
              "      <td>0.091931</td>\n",
              "      <td>0.173551</td>\n",
              "      <td>-0.162244</td>\n",
              "      <td>-0.171648</td>\n",
              "      <td>0.133945</td>\n",
              "      <td>-0.275458</td>\n",
              "      <td>0.234702</td>\n",
              "      <td>-0.066222</td>\n",
              "    </tr>\n",
              "    <tr>\n",
              "      <th>1</th>\n",
              "      <td>0.004738</td>\n",
              "      <td>-0.014192</td>\n",
              "      <td>0.008441</td>\n",
              "      <td>-0.021736</td>\n",
              "      <td>0.019794</td>\n",
              "      <td>-0.003829</td>\n",
              "      <td>0.011036</td>\n",
              "      <td>0.168498</td>\n",
              "      <td>-0.128557</td>\n",
              "      <td>0.070773</td>\n",
              "      <td>-0.116740</td>\n",
              "      <td>0.090700</td>\n",
              "      <td>0.067916</td>\n",
              "      <td>-0.119242</td>\n",
              "      <td>0.226419</td>\n",
              "      <td>-0.108777</td>\n",
              "      <td>-0.030281</td>\n",
              "      <td>0.310661</td>\n",
              "      <td>0.091239</td>\n",
              "      <td>-0.321626</td>\n",
              "      <td>0.296180</td>\n",
              "      <td>0.227138</td>\n",
              "      <td>-0.233617</td>\n",
              "      <td>0.187386</td>\n",
              "      <td>-0.006959</td>\n",
              "      <td>-0.100225</td>\n",
              "      <td>-0.144304</td>\n",
              "      <td>-0.114591</td>\n",
              "      <td>-0.048070</td>\n",
              "      <td>0.104982</td>\n",
              "      <td>0.078096</td>\n",
              "      <td>-0.012175</td>\n",
              "      <td>-0.056328</td>\n",
              "      <td>-0.130228</td>\n",
              "      <td>0.213930</td>\n",
              "      <td>-0.208448</td>\n",
              "      <td>-0.062486</td>\n",
              "      <td>0.405026</td>\n",
              "      <td>-0.034377</td>\n",
              "      <td>-0.261687</td>\n",
              "      <td>...</td>\n",
              "      <td>-0.024338</td>\n",
              "      <td>-0.004618</td>\n",
              "      <td>0.074887</td>\n",
              "      <td>0.107787</td>\n",
              "      <td>0.083143</td>\n",
              "      <td>-0.168437</td>\n",
              "      <td>0.179885</td>\n",
              "      <td>-0.360925</td>\n",
              "      <td>0.093245</td>\n",
              "      <td>-0.201882</td>\n",
              "      <td>0.176562</td>\n",
              "      <td>0.052506</td>\n",
              "      <td>0.008854</td>\n",
              "      <td>0.134847</td>\n",
              "      <td>-0.253352</td>\n",
              "      <td>0.068563</td>\n",
              "      <td>0.115148</td>\n",
              "      <td>-0.020286</td>\n",
              "      <td>-0.124975</td>\n",
              "      <td>-0.029514</td>\n",
              "      <td>0.084240</td>\n",
              "      <td>0.032739</td>\n",
              "      <td>0.401446</td>\n",
              "      <td>-0.026510</td>\n",
              "      <td>0.087614</td>\n",
              "      <td>0.080003</td>\n",
              "      <td>0.129790</td>\n",
              "      <td>-0.006837</td>\n",
              "      <td>0.017624</td>\n",
              "      <td>0.164047</td>\n",
              "      <td>0.031109</td>\n",
              "      <td>0.013311</td>\n",
              "      <td>0.215067</td>\n",
              "      <td>0.078740</td>\n",
              "      <td>-0.230153</td>\n",
              "      <td>-0.175408</td>\n",
              "      <td>0.014834</td>\n",
              "      <td>-0.177674</td>\n",
              "      <td>0.152768</td>\n",
              "      <td>-0.164687</td>\n",
              "    </tr>\n",
              "    <tr>\n",
              "      <th>2</th>\n",
              "      <td>-0.037562</td>\n",
              "      <td>-0.112645</td>\n",
              "      <td>0.117517</td>\n",
              "      <td>-0.080775</td>\n",
              "      <td>0.061061</td>\n",
              "      <td>0.108576</td>\n",
              "      <td>0.050480</td>\n",
              "      <td>0.007489</td>\n",
              "      <td>-0.075205</td>\n",
              "      <td>0.224825</td>\n",
              "      <td>-0.036372</td>\n",
              "      <td>-0.024524</td>\n",
              "      <td>0.010410</td>\n",
              "      <td>0.046925</td>\n",
              "      <td>0.004854</td>\n",
              "      <td>-0.049504</td>\n",
              "      <td>-0.032409</td>\n",
              "      <td>0.016572</td>\n",
              "      <td>-0.020678</td>\n",
              "      <td>-0.076527</td>\n",
              "      <td>-0.049783</td>\n",
              "      <td>0.074376</td>\n",
              "      <td>-0.006992</td>\n",
              "      <td>-0.152809</td>\n",
              "      <td>0.003668</td>\n",
              "      <td>-0.124042</td>\n",
              "      <td>0.130382</td>\n",
              "      <td>-0.014338</td>\n",
              "      <td>-0.042797</td>\n",
              "      <td>0.229829</td>\n",
              "      <td>-0.143417</td>\n",
              "      <td>0.079018</td>\n",
              "      <td>-0.006467</td>\n",
              "      <td>-0.045123</td>\n",
              "      <td>0.049356</td>\n",
              "      <td>0.009443</td>\n",
              "      <td>-0.085471</td>\n",
              "      <td>0.025779</td>\n",
              "      <td>0.031774</td>\n",
              "      <td>0.112410</td>\n",
              "      <td>...</td>\n",
              "      <td>-0.024590</td>\n",
              "      <td>-0.105635</td>\n",
              "      <td>-0.018469</td>\n",
              "      <td>0.066314</td>\n",
              "      <td>0.047494</td>\n",
              "      <td>0.059466</td>\n",
              "      <td>0.086754</td>\n",
              "      <td>0.203768</td>\n",
              "      <td>0.111314</td>\n",
              "      <td>0.174730</td>\n",
              "      <td>-0.006508</td>\n",
              "      <td>0.054657</td>\n",
              "      <td>0.156754</td>\n",
              "      <td>0.160662</td>\n",
              "      <td>-0.001237</td>\n",
              "      <td>0.054067</td>\n",
              "      <td>-0.009210</td>\n",
              "      <td>-0.034649</td>\n",
              "      <td>-0.120672</td>\n",
              "      <td>0.154057</td>\n",
              "      <td>0.085925</td>\n",
              "      <td>0.137734</td>\n",
              "      <td>-0.099035</td>\n",
              "      <td>0.158031</td>\n",
              "      <td>0.160333</td>\n",
              "      <td>0.000278</td>\n",
              "      <td>-0.003698</td>\n",
              "      <td>-0.153581</td>\n",
              "      <td>0.251371</td>\n",
              "      <td>0.000284</td>\n",
              "      <td>0.087554</td>\n",
              "      <td>-0.105040</td>\n",
              "      <td>0.024188</td>\n",
              "      <td>0.004418</td>\n",
              "      <td>0.050863</td>\n",
              "      <td>-0.036503</td>\n",
              "      <td>0.288897</td>\n",
              "      <td>-0.199621</td>\n",
              "      <td>-0.057713</td>\n",
              "      <td>0.015838</td>\n",
              "    </tr>\n",
              "    <tr>\n",
              "      <th>3</th>\n",
              "      <td>-0.165624</td>\n",
              "      <td>-0.215008</td>\n",
              "      <td>-0.014793</td>\n",
              "      <td>-0.245215</td>\n",
              "      <td>0.080711</td>\n",
              "      <td>0.108802</td>\n",
              "      <td>0.125793</td>\n",
              "      <td>-0.190343</td>\n",
              "      <td>-0.032696</td>\n",
              "      <td>0.519883</td>\n",
              "      <td>-0.054950</td>\n",
              "      <td>-0.110870</td>\n",
              "      <td>-0.171068</td>\n",
              "      <td>-0.139156</td>\n",
              "      <td>0.014817</td>\n",
              "      <td>-0.101274</td>\n",
              "      <td>-0.061482</td>\n",
              "      <td>0.236662</td>\n",
              "      <td>0.261171</td>\n",
              "      <td>-0.221583</td>\n",
              "      <td>0.145398</td>\n",
              "      <td>0.019362</td>\n",
              "      <td>-0.076092</td>\n",
              "      <td>0.043957</td>\n",
              "      <td>-0.059844</td>\n",
              "      <td>-0.375949</td>\n",
              "      <td>0.110671</td>\n",
              "      <td>0.004913</td>\n",
              "      <td>-0.195625</td>\n",
              "      <td>0.168039</td>\n",
              "      <td>-0.003592</td>\n",
              "      <td>0.247441</td>\n",
              "      <td>-0.115617</td>\n",
              "      <td>-0.293988</td>\n",
              "      <td>0.147039</td>\n",
              "      <td>-0.263905</td>\n",
              "      <td>-0.102280</td>\n",
              "      <td>0.348719</td>\n",
              "      <td>-0.037675</td>\n",
              "      <td>-0.033855</td>\n",
              "      <td>...</td>\n",
              "      <td>-0.007889</td>\n",
              "      <td>0.047694</td>\n",
              "      <td>0.062008</td>\n",
              "      <td>-0.193267</td>\n",
              "      <td>0.184172</td>\n",
              "      <td>0.078342</td>\n",
              "      <td>0.057729</td>\n",
              "      <td>0.056941</td>\n",
              "      <td>0.219654</td>\n",
              "      <td>0.132793</td>\n",
              "      <td>-0.090155</td>\n",
              "      <td>-0.054144</td>\n",
              "      <td>0.206322</td>\n",
              "      <td>0.188011</td>\n",
              "      <td>-0.293567</td>\n",
              "      <td>0.090476</td>\n",
              "      <td>-0.038211</td>\n",
              "      <td>0.068300</td>\n",
              "      <td>-0.143126</td>\n",
              "      <td>-0.249574</td>\n",
              "      <td>0.181466</td>\n",
              "      <td>0.078499</td>\n",
              "      <td>0.051753</td>\n",
              "      <td>0.252201</td>\n",
              "      <td>0.221352</td>\n",
              "      <td>-0.195779</td>\n",
              "      <td>0.256376</td>\n",
              "      <td>-0.103746</td>\n",
              "      <td>0.557381</td>\n",
              "      <td>0.211165</td>\n",
              "      <td>0.221074</td>\n",
              "      <td>-0.140865</td>\n",
              "      <td>0.203456</td>\n",
              "      <td>0.284532</td>\n",
              "      <td>0.179045</td>\n",
              "      <td>-0.167754</td>\n",
              "      <td>0.458136</td>\n",
              "      <td>-0.082915</td>\n",
              "      <td>-0.156040</td>\n",
              "      <td>0.071713</td>\n",
              "    </tr>\n",
              "    <tr>\n",
              "      <th>4</th>\n",
              "      <td>-0.216950</td>\n",
              "      <td>-0.323940</td>\n",
              "      <td>-0.000154</td>\n",
              "      <td>-0.392014</td>\n",
              "      <td>0.292059</td>\n",
              "      <td>0.211110</td>\n",
              "      <td>0.246033</td>\n",
              "      <td>-0.090255</td>\n",
              "      <td>-0.226754</td>\n",
              "      <td>-0.067360</td>\n",
              "      <td>-0.199563</td>\n",
              "      <td>-0.314035</td>\n",
              "      <td>-0.369474</td>\n",
              "      <td>0.071355</td>\n",
              "      <td>0.175055</td>\n",
              "      <td>-0.046768</td>\n",
              "      <td>-0.008095</td>\n",
              "      <td>0.321403</td>\n",
              "      <td>0.293390</td>\n",
              "      <td>-0.241614</td>\n",
              "      <td>0.040785</td>\n",
              "      <td>-0.280760</td>\n",
              "      <td>-0.124615</td>\n",
              "      <td>-0.021261</td>\n",
              "      <td>-0.114909</td>\n",
              "      <td>-0.209528</td>\n",
              "      <td>-0.084920</td>\n",
              "      <td>-0.503868</td>\n",
              "      <td>0.265887</td>\n",
              "      <td>-0.247841</td>\n",
              "      <td>0.173360</td>\n",
              "      <td>-0.105414</td>\n",
              "      <td>0.086486</td>\n",
              "      <td>-0.024426</td>\n",
              "      <td>0.026345</td>\n",
              "      <td>0.139206</td>\n",
              "      <td>-0.289803</td>\n",
              "      <td>0.016083</td>\n",
              "      <td>0.101769</td>\n",
              "      <td>-0.107297</td>\n",
              "      <td>...</td>\n",
              "      <td>-0.060234</td>\n",
              "      <td>0.032132</td>\n",
              "      <td>0.245303</td>\n",
              "      <td>0.090029</td>\n",
              "      <td>-0.199256</td>\n",
              "      <td>-0.396087</td>\n",
              "      <td>-0.284761</td>\n",
              "      <td>0.287432</td>\n",
              "      <td>-0.123547</td>\n",
              "      <td>-0.050199</td>\n",
              "      <td>0.227530</td>\n",
              "      <td>0.211128</td>\n",
              "      <td>-0.214216</td>\n",
              "      <td>-0.019595</td>\n",
              "      <td>-0.071204</td>\n",
              "      <td>0.395715</td>\n",
              "      <td>-0.219077</td>\n",
              "      <td>0.097860</td>\n",
              "      <td>0.112708</td>\n",
              "      <td>-0.091730</td>\n",
              "      <td>0.021958</td>\n",
              "      <td>0.077064</td>\n",
              "      <td>0.460642</td>\n",
              "      <td>-0.158351</td>\n",
              "      <td>-0.154208</td>\n",
              "      <td>0.037833</td>\n",
              "      <td>0.118871</td>\n",
              "      <td>-0.242107</td>\n",
              "      <td>-0.013767</td>\n",
              "      <td>0.154827</td>\n",
              "      <td>-0.137857</td>\n",
              "      <td>0.182771</td>\n",
              "      <td>-0.079407</td>\n",
              "      <td>0.216451</td>\n",
              "      <td>-0.403088</td>\n",
              "      <td>-0.175687</td>\n",
              "      <td>-0.111245</td>\n",
              "      <td>-0.085306</td>\n",
              "      <td>0.345601</td>\n",
              "      <td>-0.116623</td>\n",
              "    </tr>\n",
              "    <tr>\n",
              "      <th>...</th>\n",
              "      <td>...</td>\n",
              "      <td>...</td>\n",
              "      <td>...</td>\n",
              "      <td>...</td>\n",
              "      <td>...</td>\n",
              "      <td>...</td>\n",
              "      <td>...</td>\n",
              "      <td>...</td>\n",
              "      <td>...</td>\n",
              "      <td>...</td>\n",
              "      <td>...</td>\n",
              "      <td>...</td>\n",
              "      <td>...</td>\n",
              "      <td>...</td>\n",
              "      <td>...</td>\n",
              "      <td>...</td>\n",
              "      <td>...</td>\n",
              "      <td>...</td>\n",
              "      <td>...</td>\n",
              "      <td>...</td>\n",
              "      <td>...</td>\n",
              "      <td>...</td>\n",
              "      <td>...</td>\n",
              "      <td>...</td>\n",
              "      <td>...</td>\n",
              "      <td>...</td>\n",
              "      <td>...</td>\n",
              "      <td>...</td>\n",
              "      <td>...</td>\n",
              "      <td>...</td>\n",
              "      <td>...</td>\n",
              "      <td>...</td>\n",
              "      <td>...</td>\n",
              "      <td>...</td>\n",
              "      <td>...</td>\n",
              "      <td>...</td>\n",
              "      <td>...</td>\n",
              "      <td>...</td>\n",
              "      <td>...</td>\n",
              "      <td>...</td>\n",
              "      <td>...</td>\n",
              "      <td>...</td>\n",
              "      <td>...</td>\n",
              "      <td>...</td>\n",
              "      <td>...</td>\n",
              "      <td>...</td>\n",
              "      <td>...</td>\n",
              "      <td>...</td>\n",
              "      <td>...</td>\n",
              "      <td>...</td>\n",
              "      <td>...</td>\n",
              "      <td>...</td>\n",
              "      <td>...</td>\n",
              "      <td>...</td>\n",
              "      <td>...</td>\n",
              "      <td>...</td>\n",
              "      <td>...</td>\n",
              "      <td>...</td>\n",
              "      <td>...</td>\n",
              "      <td>...</td>\n",
              "      <td>...</td>\n",
              "      <td>...</td>\n",
              "      <td>...</td>\n",
              "      <td>...</td>\n",
              "      <td>...</td>\n",
              "      <td>...</td>\n",
              "      <td>...</td>\n",
              "      <td>...</td>\n",
              "      <td>...</td>\n",
              "      <td>...</td>\n",
              "      <td>...</td>\n",
              "      <td>...</td>\n",
              "      <td>...</td>\n",
              "      <td>...</td>\n",
              "      <td>...</td>\n",
              "      <td>...</td>\n",
              "      <td>...</td>\n",
              "      <td>...</td>\n",
              "      <td>...</td>\n",
              "      <td>...</td>\n",
              "      <td>...</td>\n",
              "    </tr>\n",
              "    <tr>\n",
              "      <th>1313</th>\n",
              "      <td>0.113930</td>\n",
              "      <td>-0.079899</td>\n",
              "      <td>-0.035010</td>\n",
              "      <td>-0.223588</td>\n",
              "      <td>0.235610</td>\n",
              "      <td>-0.075340</td>\n",
              "      <td>-0.027663</td>\n",
              "      <td>-0.101684</td>\n",
              "      <td>-0.040710</td>\n",
              "      <td>0.033567</td>\n",
              "      <td>0.003706</td>\n",
              "      <td>-0.009110</td>\n",
              "      <td>-0.179710</td>\n",
              "      <td>0.141899</td>\n",
              "      <td>-0.082530</td>\n",
              "      <td>-0.018434</td>\n",
              "      <td>-0.002911</td>\n",
              "      <td>-0.005171</td>\n",
              "      <td>0.204431</td>\n",
              "      <td>-0.240516</td>\n",
              "      <td>0.077052</td>\n",
              "      <td>0.045040</td>\n",
              "      <td>-0.334292</td>\n",
              "      <td>-0.160494</td>\n",
              "      <td>-0.034259</td>\n",
              "      <td>-0.298254</td>\n",
              "      <td>-0.199349</td>\n",
              "      <td>-0.058176</td>\n",
              "      <td>-0.029660</td>\n",
              "      <td>0.323780</td>\n",
              "      <td>0.139698</td>\n",
              "      <td>0.014667</td>\n",
              "      <td>-0.180493</td>\n",
              "      <td>-0.125123</td>\n",
              "      <td>-0.041035</td>\n",
              "      <td>-0.113746</td>\n",
              "      <td>-0.131968</td>\n",
              "      <td>0.081236</td>\n",
              "      <td>-0.280362</td>\n",
              "      <td>-0.006103</td>\n",
              "      <td>...</td>\n",
              "      <td>-0.001504</td>\n",
              "      <td>0.000073</td>\n",
              "      <td>0.025094</td>\n",
              "      <td>-0.137931</td>\n",
              "      <td>0.058271</td>\n",
              "      <td>0.150388</td>\n",
              "      <td>0.055721</td>\n",
              "      <td>-0.027426</td>\n",
              "      <td>0.027622</td>\n",
              "      <td>-0.208415</td>\n",
              "      <td>0.107377</td>\n",
              "      <td>-0.144446</td>\n",
              "      <td>-0.005376</td>\n",
              "      <td>-0.150018</td>\n",
              "      <td>-0.101993</td>\n",
              "      <td>0.005509</td>\n",
              "      <td>-0.028406</td>\n",
              "      <td>0.165835</td>\n",
              "      <td>-0.018385</td>\n",
              "      <td>0.018963</td>\n",
              "      <td>0.073118</td>\n",
              "      <td>-0.047999</td>\n",
              "      <td>0.101507</td>\n",
              "      <td>0.053432</td>\n",
              "      <td>0.274221</td>\n",
              "      <td>-0.045988</td>\n",
              "      <td>0.260896</td>\n",
              "      <td>-0.102682</td>\n",
              "      <td>0.071096</td>\n",
              "      <td>0.015877</td>\n",
              "      <td>0.034472</td>\n",
              "      <td>-0.074746</td>\n",
              "      <td>0.153616</td>\n",
              "      <td>0.347219</td>\n",
              "      <td>-0.281285</td>\n",
              "      <td>-0.091022</td>\n",
              "      <td>0.033334</td>\n",
              "      <td>-0.231182</td>\n",
              "      <td>0.160792</td>\n",
              "      <td>0.039742</td>\n",
              "    </tr>\n",
              "    <tr>\n",
              "      <th>1314</th>\n",
              "      <td>-0.132087</td>\n",
              "      <td>-0.178625</td>\n",
              "      <td>0.014493</td>\n",
              "      <td>-0.097831</td>\n",
              "      <td>0.111075</td>\n",
              "      <td>0.005094</td>\n",
              "      <td>-0.065801</td>\n",
              "      <td>0.001211</td>\n",
              "      <td>-0.187354</td>\n",
              "      <td>0.193843</td>\n",
              "      <td>0.134630</td>\n",
              "      <td>-0.093221</td>\n",
              "      <td>-0.007270</td>\n",
              "      <td>-0.059111</td>\n",
              "      <td>-0.021356</td>\n",
              "      <td>-0.039255</td>\n",
              "      <td>-0.074711</td>\n",
              "      <td>0.139509</td>\n",
              "      <td>0.136615</td>\n",
              "      <td>-0.156191</td>\n",
              "      <td>0.134643</td>\n",
              "      <td>0.241129</td>\n",
              "      <td>-0.200461</td>\n",
              "      <td>-0.108599</td>\n",
              "      <td>0.001504</td>\n",
              "      <td>-0.189870</td>\n",
              "      <td>-0.044303</td>\n",
              "      <td>-0.195926</td>\n",
              "      <td>-0.137244</td>\n",
              "      <td>0.232593</td>\n",
              "      <td>0.074428</td>\n",
              "      <td>0.151912</td>\n",
              "      <td>-0.129403</td>\n",
              "      <td>-0.045522</td>\n",
              "      <td>0.037244</td>\n",
              "      <td>-0.053179</td>\n",
              "      <td>-0.240005</td>\n",
              "      <td>0.095454</td>\n",
              "      <td>-0.104567</td>\n",
              "      <td>-0.077691</td>\n",
              "      <td>...</td>\n",
              "      <td>0.022457</td>\n",
              "      <td>-0.051647</td>\n",
              "      <td>0.130775</td>\n",
              "      <td>-0.155532</td>\n",
              "      <td>0.090487</td>\n",
              "      <td>0.118221</td>\n",
              "      <td>0.163794</td>\n",
              "      <td>-0.102428</td>\n",
              "      <td>0.018881</td>\n",
              "      <td>-0.059871</td>\n",
              "      <td>0.068864</td>\n",
              "      <td>0.034394</td>\n",
              "      <td>0.122702</td>\n",
              "      <td>0.115540</td>\n",
              "      <td>-0.101779</td>\n",
              "      <td>0.044495</td>\n",
              "      <td>0.036390</td>\n",
              "      <td>-0.004790</td>\n",
              "      <td>-0.065294</td>\n",
              "      <td>-0.054286</td>\n",
              "      <td>0.122810</td>\n",
              "      <td>0.107019</td>\n",
              "      <td>0.054699</td>\n",
              "      <td>0.234883</td>\n",
              "      <td>0.253221</td>\n",
              "      <td>0.064481</td>\n",
              "      <td>0.221708</td>\n",
              "      <td>-0.180284</td>\n",
              "      <td>0.233538</td>\n",
              "      <td>-0.089110</td>\n",
              "      <td>0.029376</td>\n",
              "      <td>-0.081197</td>\n",
              "      <td>0.247903</td>\n",
              "      <td>0.309444</td>\n",
              "      <td>0.045800</td>\n",
              "      <td>-0.095449</td>\n",
              "      <td>0.331735</td>\n",
              "      <td>-0.189589</td>\n",
              "      <td>0.081982</td>\n",
              "      <td>-0.061570</td>\n",
              "    </tr>\n",
              "    <tr>\n",
              "      <th>1315</th>\n",
              "      <td>0.136762</td>\n",
              "      <td>-0.293567</td>\n",
              "      <td>0.028266</td>\n",
              "      <td>0.032835</td>\n",
              "      <td>-0.105521</td>\n",
              "      <td>0.121821</td>\n",
              "      <td>0.370966</td>\n",
              "      <td>0.080043</td>\n",
              "      <td>0.031972</td>\n",
              "      <td>-0.315848</td>\n",
              "      <td>-0.082307</td>\n",
              "      <td>0.079461</td>\n",
              "      <td>-0.255628</td>\n",
              "      <td>-0.184332</td>\n",
              "      <td>0.002090</td>\n",
              "      <td>0.325612</td>\n",
              "      <td>0.274502</td>\n",
              "      <td>0.084895</td>\n",
              "      <td>-0.019164</td>\n",
              "      <td>-0.213764</td>\n",
              "      <td>0.070797</td>\n",
              "      <td>-0.334520</td>\n",
              "      <td>-0.321878</td>\n",
              "      <td>-0.021090</td>\n",
              "      <td>0.141689</td>\n",
              "      <td>-0.264829</td>\n",
              "      <td>-0.031837</td>\n",
              "      <td>-0.208388</td>\n",
              "      <td>0.022349</td>\n",
              "      <td>-0.047668</td>\n",
              "      <td>-0.236806</td>\n",
              "      <td>0.239532</td>\n",
              "      <td>0.138763</td>\n",
              "      <td>-0.113211</td>\n",
              "      <td>0.004517</td>\n",
              "      <td>0.105764</td>\n",
              "      <td>-0.112813</td>\n",
              "      <td>0.245836</td>\n",
              "      <td>-0.098903</td>\n",
              "      <td>-0.422654</td>\n",
              "      <td>...</td>\n",
              "      <td>-0.026596</td>\n",
              "      <td>0.044217</td>\n",
              "      <td>0.013414</td>\n",
              "      <td>0.102540</td>\n",
              "      <td>0.102839</td>\n",
              "      <td>-0.017318</td>\n",
              "      <td>0.052728</td>\n",
              "      <td>0.079719</td>\n",
              "      <td>-0.200934</td>\n",
              "      <td>-0.308019</td>\n",
              "      <td>0.108392</td>\n",
              "      <td>0.114927</td>\n",
              "      <td>-0.184907</td>\n",
              "      <td>-0.039901</td>\n",
              "      <td>0.144243</td>\n",
              "      <td>0.335152</td>\n",
              "      <td>-0.014663</td>\n",
              "      <td>-0.074730</td>\n",
              "      <td>0.151614</td>\n",
              "      <td>0.155507</td>\n",
              "      <td>0.233823</td>\n",
              "      <td>0.076211</td>\n",
              "      <td>0.230852</td>\n",
              "      <td>-0.058680</td>\n",
              "      <td>0.029269</td>\n",
              "      <td>0.034828</td>\n",
              "      <td>0.151838</td>\n",
              "      <td>0.098722</td>\n",
              "      <td>-0.014788</td>\n",
              "      <td>0.393897</td>\n",
              "      <td>0.018139</td>\n",
              "      <td>0.062762</td>\n",
              "      <td>-0.060325</td>\n",
              "      <td>0.098157</td>\n",
              "      <td>-0.332271</td>\n",
              "      <td>0.013724</td>\n",
              "      <td>-0.134338</td>\n",
              "      <td>-0.206883</td>\n",
              "      <td>0.120376</td>\n",
              "      <td>-0.111052</td>\n",
              "    </tr>\n",
              "    <tr>\n",
              "      <th>1316</th>\n",
              "      <td>0.042859</td>\n",
              "      <td>-0.083324</td>\n",
              "      <td>-0.043565</td>\n",
              "      <td>-0.090714</td>\n",
              "      <td>0.165120</td>\n",
              "      <td>-0.016153</td>\n",
              "      <td>-0.038971</td>\n",
              "      <td>-0.017683</td>\n",
              "      <td>-0.099436</td>\n",
              "      <td>0.171480</td>\n",
              "      <td>0.175529</td>\n",
              "      <td>-0.068835</td>\n",
              "      <td>-0.230682</td>\n",
              "      <td>0.023558</td>\n",
              "      <td>0.100107</td>\n",
              "      <td>-0.050020</td>\n",
              "      <td>0.059730</td>\n",
              "      <td>0.065145</td>\n",
              "      <td>0.274052</td>\n",
              "      <td>-0.181498</td>\n",
              "      <td>0.115002</td>\n",
              "      <td>0.061893</td>\n",
              "      <td>-0.060096</td>\n",
              "      <td>-0.080562</td>\n",
              "      <td>0.056299</td>\n",
              "      <td>-0.163931</td>\n",
              "      <td>0.055248</td>\n",
              "      <td>-0.102704</td>\n",
              "      <td>-0.091494</td>\n",
              "      <td>0.094929</td>\n",
              "      <td>-0.033039</td>\n",
              "      <td>-0.059447</td>\n",
              "      <td>-0.075002</td>\n",
              "      <td>-0.031903</td>\n",
              "      <td>0.133445</td>\n",
              "      <td>-0.075861</td>\n",
              "      <td>-0.132148</td>\n",
              "      <td>0.050687</td>\n",
              "      <td>-0.103640</td>\n",
              "      <td>0.022645</td>\n",
              "      <td>...</td>\n",
              "      <td>-0.014971</td>\n",
              "      <td>-0.005772</td>\n",
              "      <td>0.009753</td>\n",
              "      <td>0.083934</td>\n",
              "      <td>0.050664</td>\n",
              "      <td>-0.003311</td>\n",
              "      <td>0.028068</td>\n",
              "      <td>-0.015745</td>\n",
              "      <td>0.084407</td>\n",
              "      <td>-0.021248</td>\n",
              "      <td>0.030525</td>\n",
              "      <td>-0.003811</td>\n",
              "      <td>-0.006303</td>\n",
              "      <td>0.155136</td>\n",
              "      <td>-0.088568</td>\n",
              "      <td>0.050447</td>\n",
              "      <td>0.104608</td>\n",
              "      <td>0.060270</td>\n",
              "      <td>0.111106</td>\n",
              "      <td>-0.094391</td>\n",
              "      <td>0.281839</td>\n",
              "      <td>0.114842</td>\n",
              "      <td>0.073860</td>\n",
              "      <td>0.082974</td>\n",
              "      <td>0.073535</td>\n",
              "      <td>-0.011871</td>\n",
              "      <td>0.210562</td>\n",
              "      <td>-0.093513</td>\n",
              "      <td>0.166555</td>\n",
              "      <td>0.135650</td>\n",
              "      <td>0.008461</td>\n",
              "      <td>-0.072514</td>\n",
              "      <td>-0.030095</td>\n",
              "      <td>0.064709</td>\n",
              "      <td>-0.140568</td>\n",
              "      <td>-0.038126</td>\n",
              "      <td>0.081775</td>\n",
              "      <td>-0.291119</td>\n",
              "      <td>0.070710</td>\n",
              "      <td>-0.078528</td>\n",
              "    </tr>\n",
              "    <tr>\n",
              "      <th>1317</th>\n",
              "      <td>-0.067733</td>\n",
              "      <td>-0.119953</td>\n",
              "      <td>0.134843</td>\n",
              "      <td>-0.223818</td>\n",
              "      <td>0.228081</td>\n",
              "      <td>0.096197</td>\n",
              "      <td>-0.002320</td>\n",
              "      <td>0.167561</td>\n",
              "      <td>-0.159435</td>\n",
              "      <td>0.116517</td>\n",
              "      <td>-0.219246</td>\n",
              "      <td>0.174625</td>\n",
              "      <td>-0.206529</td>\n",
              "      <td>0.044599</td>\n",
              "      <td>0.044024</td>\n",
              "      <td>0.015709</td>\n",
              "      <td>-0.041784</td>\n",
              "      <td>-0.002457</td>\n",
              "      <td>0.101607</td>\n",
              "      <td>-0.407574</td>\n",
              "      <td>0.133962</td>\n",
              "      <td>0.070032</td>\n",
              "      <td>-0.223937</td>\n",
              "      <td>-0.166601</td>\n",
              "      <td>-0.020866</td>\n",
              "      <td>-0.055560</td>\n",
              "      <td>-0.094947</td>\n",
              "      <td>-0.152241</td>\n",
              "      <td>0.084598</td>\n",
              "      <td>0.121404</td>\n",
              "      <td>0.162052</td>\n",
              "      <td>-0.150143</td>\n",
              "      <td>-0.024701</td>\n",
              "      <td>-0.079186</td>\n",
              "      <td>-0.058331</td>\n",
              "      <td>-0.011218</td>\n",
              "      <td>-0.197283</td>\n",
              "      <td>0.154422</td>\n",
              "      <td>-0.182908</td>\n",
              "      <td>-0.260384</td>\n",
              "      <td>...</td>\n",
              "      <td>-0.064827</td>\n",
              "      <td>-0.050785</td>\n",
              "      <td>0.003341</td>\n",
              "      <td>-0.034749</td>\n",
              "      <td>-0.089192</td>\n",
              "      <td>-0.060403</td>\n",
              "      <td>-0.063503</td>\n",
              "      <td>0.050831</td>\n",
              "      <td>-0.091180</td>\n",
              "      <td>-0.263708</td>\n",
              "      <td>0.220286</td>\n",
              "      <td>-0.144340</td>\n",
              "      <td>-0.173045</td>\n",
              "      <td>-0.079127</td>\n",
              "      <td>-0.264288</td>\n",
              "      <td>0.091387</td>\n",
              "      <td>-0.192705</td>\n",
              "      <td>-0.133140</td>\n",
              "      <td>-0.119710</td>\n",
              "      <td>-0.136984</td>\n",
              "      <td>0.038453</td>\n",
              "      <td>0.075022</td>\n",
              "      <td>0.326033</td>\n",
              "      <td>-0.084599</td>\n",
              "      <td>0.096536</td>\n",
              "      <td>0.063916</td>\n",
              "      <td>0.145343</td>\n",
              "      <td>-0.176198</td>\n",
              "      <td>-0.033804</td>\n",
              "      <td>0.233908</td>\n",
              "      <td>0.039417</td>\n",
              "      <td>-0.125523</td>\n",
              "      <td>0.072219</td>\n",
              "      <td>0.338598</td>\n",
              "      <td>-0.271325</td>\n",
              "      <td>-0.321885</td>\n",
              "      <td>0.012214</td>\n",
              "      <td>-0.274996</td>\n",
              "      <td>0.281658</td>\n",
              "      <td>-0.078247</td>\n",
              "    </tr>\n",
              "  </tbody>\n",
              "</table>\n",
              "<p>1318 rows × 200 columns</p>\n",
              "</div>"
            ],
            "text/plain": [
              "           0         1         2    ...       197       198       199\n",
              "0    -0.114126 -0.161617  0.034409  ... -0.275458  0.234702 -0.066222\n",
              "1     0.004738 -0.014192  0.008441  ... -0.177674  0.152768 -0.164687\n",
              "2    -0.037562 -0.112645  0.117517  ... -0.199621 -0.057713  0.015838\n",
              "3    -0.165624 -0.215008 -0.014793  ... -0.082915 -0.156040  0.071713\n",
              "4    -0.216950 -0.323940 -0.000154  ... -0.085306  0.345601 -0.116623\n",
              "...        ...       ...       ...  ...       ...       ...       ...\n",
              "1313  0.113930 -0.079899 -0.035010  ... -0.231182  0.160792  0.039742\n",
              "1314 -0.132087 -0.178625  0.014493  ... -0.189589  0.081982 -0.061570\n",
              "1315  0.136762 -0.293567  0.028266  ... -0.206883  0.120376 -0.111052\n",
              "1316  0.042859 -0.083324 -0.043565  ... -0.291119  0.070710 -0.078528\n",
              "1317 -0.067733 -0.119953  0.134843  ... -0.274996  0.281658 -0.078247\n",
              "\n",
              "[1318 rows x 200 columns]"
            ]
          },
          "metadata": {
            "tags": []
          },
          "execution_count": 49
        }
      ]
    },
    {
      "cell_type": "markdown",
      "metadata": {
        "id": "itRW9Ax8dOxV"
      },
      "source": [
        "#Splitting Data Into Train and Test"
      ]
    },
    {
      "cell_type": "code",
      "metadata": {
        "id": "YFBu1QeTXQmc"
      },
      "source": [
        "from sklearn.model_selection import train_test_split\n",
        "from sklearn.metrics import f1_score\n",
        "\n",
        "from sklearn.metrics import classification_report,confusion_matrix\n",
        "from sklearn.metrics import plot_confusion_matrix, accuracy_score"
      ],
      "execution_count": null,
      "outputs": []
    },
    {
      "cell_type": "markdown",
      "metadata": {
        "id": "DFQodzo4dUHb"
      },
      "source": [
        "**Bow**"
      ]
    },
    {
      "cell_type": "code",
      "metadata": {
        "id": "HcFilE3qXQ3c"
      },
      "source": [
        "# Extracting train and test BoW features \n",
        "train_bow = bow[:1000,:] \n",
        "test_bow = bow[1000:,:] \n",
        "# splitting data into training and validation set \n",
        "xtrain_bow, xvalid_bow, ytrain, yvalid = train_test_split(train_bow, train['class'], random_state=42, test_size=0.2)"
      ],
      "execution_count": null,
      "outputs": []
    },
    {
      "cell_type": "markdown",
      "metadata": {
        "id": "LtYQTpu3dWqV"
      },
      "source": [
        "**TFIDF**"
      ]
    },
    {
      "cell_type": "code",
      "metadata": {
        "id": "U4hBwW6kXRHm"
      },
      "source": [
        "train_tfidf = tfidf[:1000,:]\n",
        "test_tfidf = tfidf[1000:,:] \n",
        "\n",
        "# splitting data into training and validation set \n",
        "xtrain_tfidf, xvalid_tfidf, ytrain, yvalid = train_test_split(train_tfidf, train['class'], random_state=42, test_size=0.2)"
      ],
      "execution_count": null,
      "outputs": []
    },
    {
      "cell_type": "markdown",
      "metadata": {
        "id": "f3DGNQw-dd7a"
      },
      "source": [
        "**Word2Vec**"
      ]
    },
    {
      "cell_type": "code",
      "metadata": {
        "id": "_3-EJPRFXo7m"
      },
      "source": [
        "train_w2v = wordvec_df.iloc[:1000,:]\n",
        "test_w2v = wordvec_df.iloc[1000:,:]\n",
        "\n",
        "# splitting data into training and validation set \n",
        "xtrain_w2v, xvalid_w2v, ytrain, yvalid = train_test_split(train_w2v, train['class'], random_state=42, test_size=0.2)"
      ],
      "execution_count": null,
      "outputs": []
    },
    {
      "cell_type": "markdown",
      "metadata": {
        "id": "2a6psrj5dg3c"
      },
      "source": [
        "**Doc2vec**"
      ]
    },
    {
      "cell_type": "code",
      "metadata": {
        "id": "fM2Jg81zXpME"
      },
      "source": [
        "train_d2v = docvec_df.iloc[:1000,:-1]\n",
        "test_d2v = docvec_df.iloc[1000:,:-1] \n",
        "\n",
        "# splitting data into training and validation set \n",
        "xtrain_d2v, xvalid_d2v, ytrain, yvalid = train_test_split(train_d2v, train['class'], random_state=42, test_size=0.2)\n"
      ],
      "execution_count": null,
      "outputs": []
    },
    {
      "cell_type": "markdown",
      "metadata": {
        "id": "yqaMSbDodnXZ"
      },
      "source": [
        "**Fastext**"
      ]
    },
    {
      "cell_type": "code",
      "metadata": {
        "id": "r2xrEmKmXpgD"
      },
      "source": [
        ""
      ],
      "execution_count": null,
      "outputs": []
    },
    {
      "cell_type": "markdown",
      "metadata": {
        "id": "jukH9WUcGLlZ"
      },
      "source": [
        "#Model Implementation\n",
        "\n",
        "\n"
      ]
    },
    {
      "cell_type": "markdown",
      "metadata": {
        "id": "mWRVYz44eGDG"
      },
      "source": [
        "#Word2vec"
      ]
    },
    {
      "cell_type": "markdown",
      "metadata": {
        "id": "_gSvYViweHo3"
      },
      "source": [
        "**1. SVM-RBF**"
      ]
    },
    {
      "cell_type": "code",
      "metadata": {
        "colab": {
          "base_uri": "https://localhost:8080/"
        },
        "id": "CkbPl_9LYknB",
        "outputId": "e3f546b9-f9cb-4ec7-f5c7-4980c370321a"
      },
      "source": [
        "from sklearn import svm\n",
        "svc = svm.SVC(kernel='rbf').fit(xtrain_w2v, ytrain) \n",
        "prediction = svc.predict(xvalid_w2v) \n",
        "f1_score(yvalid, prediction)\n",
        "\n",
        "#classifiction Report\n",
        "\n",
        "report = classification_report( yvalid, prediction)\n",
        "print(report)\n",
        "acc1=accuracy_score(yvalid,prediction)\n",
        "\n",
        "print(\"SVM-RBF(word2vec), Accuracy Score:\",acc1)"
      ],
      "execution_count": null,
      "outputs": [
        {
          "output_type": "stream",
          "text": [
            "              precision    recall  f1-score   support\n",
            "\n",
            "           0       0.75      0.81      0.78       100\n",
            "           1       0.79      0.73      0.76       100\n",
            "\n",
            "    accuracy                           0.77       200\n",
            "   macro avg       0.77      0.77      0.77       200\n",
            "weighted avg       0.77      0.77      0.77       200\n",
            "\n",
            "SVM-RBF(word2vec), Accuracy Score: 0.77\n"
          ],
          "name": "stdout"
        }
      ]
    },
    {
      "cell_type": "markdown",
      "metadata": {
        "id": "JSlaHBDJebHO"
      },
      "source": [
        "**Hyper Parameter tuning using Grid Search**"
      ]
    },
    {
      "cell_type": "code",
      "metadata": {
        "colab": {
          "base_uri": "https://localhost:8080/"
        },
        "id": "gUSdwCu2YqhZ",
        "outputId": "9e9cf0f6-a940-44e3-c0b6-a83b3cf6399f"
      },
      "source": [
        "from sklearn.model_selection import GridSearchCV\n",
        "parameters = [{'C': [1,10,100], 'kernel': ['linear','rbf']}]\n",
        "grid_search = GridSearchCV(estimator= svc,\n",
        "                          param_grid = parameters, scoring = 'accuracy',cv = 10)\n",
        "grid_search = grid_search.fit(xtrain_w2v, ytrain)\n",
        "print(grid_search.best_params_)\n",
        "prediction = grid_search.predict(xvalid_w2v)  \n",
        "\n",
        "#classifiction Report\n",
        "\n",
        "report = classification_report( yvalid, prediction)\n",
        "print(report)\n",
        "acc1=accuracy_score(yvalid,prediction)\n",
        "\n",
        "print(\"SVM(word2vec) after HT+GD, Accuracy Score:\",acc1)"
      ],
      "execution_count": null,
      "outputs": [
        {
          "output_type": "stream",
          "text": [
            "{'C': 10, 'kernel': 'rbf'}\n",
            "              precision    recall  f1-score   support\n",
            "\n",
            "           0       0.76      0.79      0.77       100\n",
            "           1       0.78      0.75      0.77       100\n",
            "\n",
            "    accuracy                           0.77       200\n",
            "   macro avg       0.77      0.77      0.77       200\n",
            "weighted avg       0.77      0.77      0.77       200\n",
            "\n",
            "SVM(word2vec) after HT+GD, Accuracy Score: 0.77\n"
          ],
          "name": "stdout"
        }
      ]
    },
    {
      "cell_type": "markdown",
      "metadata": {
        "id": "Xby9-AStel-e"
      },
      "source": [
        "**Accuracy and Confusion Matrix**"
      ]
    },
    {
      "cell_type": "code",
      "metadata": {
        "colab": {
          "base_uri": "https://localhost:8080/",
          "height": 703
        },
        "id": "fRPEzrMCYk5a",
        "outputId": "62519b24-f97a-4085-9011-488d22f1191b"
      },
      "source": [
        "from sklearn.metrics import confusion_matrix,classification_report,accuracy_score\n",
        "import seaborn as sns\n",
        "import pandas as pd\n",
        "import numpy as np\n",
        "labels=['0','1']\n",
        "f, ax = plt.subplots(figsize=(5,5))\n",
        "cm=confusion_matrix(yvalid,prediction)\n",
        "sns.heatmap(cm, annot=True,ax=ax,cmap=\"Blues\")\n",
        "#labels, title and ticks\n",
        "ax.set_xlabel('Predicted labels')\n",
        "ax.set_ylabel('True labels')\n",
        "score = grid_search.score(xvalid_w2v, yvalid)\n",
        "ax.set_title('Accuracy Score: {0} \\n Confusion Matrix'.format(np.round(score,2)))\n",
        "ax.xaxis.set_ticklabels(labels)\n",
        "ax.yaxis.set_ticklabels(labels)\n",
        "plt.show()\n",
        "f, ax = plt.subplots(figsize=(5,5))\n",
        "class_report=classification_report(yvalid,prediction,target_names=labels, output_dict=True)\n",
        "sns.heatmap(pd.DataFrame(class_report).iloc[:-1, :].T, annot=True,ax=ax,cmap=\"Blues\")\n",
        "ax.set_title('Classification Report')\n",
        "plt.show()"
      ],
      "execution_count": null,
      "outputs": [
        {
          "output_type": "display_data",
          "data": {
            "image/png": "[encoded data removed]",
            "text/plain": [
              "<Figure size 360x360 with 2 Axes>"
            ]
          },
          "metadata": {
            "tags": [],
            "needs_background": "light"
          }
        },
        {
          "output_type": "display_data",
          "data": {
            "image/png": "[encoded data removed]",
            "text/plain": [
              "<Figure size 360x360 with 2 Axes>"
            ]
          },
          "metadata": {
            "tags": [],
            "needs_background": "light"
          }
        }
      ]
    },
    {
      "cell_type": "markdown",
      "metadata": {
        "id": "qq4vzAFKer0i"
      },
      "source": [
        "**Hyper Parameter Tuning using Random Search**"
      ]
    },
    {
      "cell_type": "code",
      "metadata": {
        "colab": {
          "base_uri": "https://localhost:8080/"
        },
        "id": "5PIwY_77Y7Xu",
        "outputId": "9587c7eb-95f2-4b94-bdf5-210f120e4454"
      },
      "source": [
        "from sklearn.model_selection import RandomizedSearchCV\n",
        "svc = svm.SVC()\n",
        "\n",
        "# Create the random grid\n",
        "random_grid = {'C': [1,10,100], \n",
        "              'kernel': ['linear','rbf']}\n",
        "              \n",
        "rf_random = RandomizedSearchCV(estimator = svc, param_distributions = random_grid, n_iter = 100, cv = 3, verbose=2, random_state=42, n_jobs = -1)\n",
        "# Fit the random search model\n",
        "rf_random.fit(xtrain_w2v, ytrain)\n",
        "print(rf_random.best_params_)\n",
        "prediction = rf_random.predict(xvalid_w2v) \n",
        "\n",
        "#classifiction Report\n",
        "\n",
        "report = classification_report( yvalid, prediction)\n",
        "print(report)\n",
        "acc1=accuracy_score(yvalid,prediction)\n",
        "\n",
        "print(\"SVM(word2vec) after HT+RS, Accuracy Score:\",acc1)"
      ],
      "execution_count": null,
      "outputs": [
        {
          "output_type": "stream",
          "text": [
            "Fitting 3 folds for each of 6 candidates, totalling 18 fits\n"
          ],
          "name": "stdout"
        },
        {
          "output_type": "stream",
          "text": [
            "/usr/local/lib/python3.7/dist-packages/sklearn/model_selection/_search.py:281: UserWarning: The total space of parameters 6 is smaller than n_iter=100. Running 6 iterations. For exhaustive searches, use GridSearchCV.\n",
            "  % (grid_size, self.n_iter, grid_size), UserWarning)\n",
            "[Parallel(n_jobs=-1)]: Using backend LokyBackend with 2 concurrent workers.\n",
            "[Parallel(n_jobs=-1)]: Done  18 out of  18 | elapsed:    2.5s finished\n"
          ],
          "name": "stderr"
        },
        {
          "output_type": "stream",
          "text": [
            "{'kernel': 'rbf', 'C': 1}\n",
            "              precision    recall  f1-score   support\n",
            "\n",
            "           0       0.75      0.81      0.78       100\n",
            "           1       0.79      0.73      0.76       100\n",
            "\n",
            "    accuracy                           0.77       200\n",
            "   macro avg       0.77      0.77      0.77       200\n",
            "weighted avg       0.77      0.77      0.77       200\n",
            "\n",
            "SVM(word2vec) after HT+RS, Accuracy Score: 0.77\n"
          ],
          "name": "stdout"
        }
      ]
    },
    {
      "cell_type": "markdown",
      "metadata": {
        "id": "CuHd-ykKe19o"
      },
      "source": [
        "**Accuracy and Confusion Matrix**"
      ]
    },
    {
      "cell_type": "code",
      "metadata": {
        "colab": {
          "base_uri": "https://localhost:8080/",
          "height": 703
        },
        "id": "4rrrmXH5Y7rD",
        "outputId": "f285e9fc-eb92-4011-ba4f-27cf6c989ca7"
      },
      "source": [
        "from sklearn.metrics import confusion_matrix,classification_report,accuracy_score\n",
        "import seaborn as sns\n",
        "import pandas as pd\n",
        "import numpy as np\n",
        "labels=['0','1']\n",
        "f, ax = plt.subplots(figsize=(5,5))\n",
        "cm=confusion_matrix(yvalid,prediction)\n",
        "sns.heatmap(cm, annot=True,ax=ax,cmap=\"Blues\")\n",
        "#labels, title and ticks\n",
        "ax.set_xlabel('Predicted labels')\n",
        "ax.set_ylabel('True labels')\n",
        "score =rf_random.score(xvalid_w2v, yvalid)\n",
        "ax.set_title('Accuracy Score: {0} \\n Confusion Matrix'.format(np.round(score,2)))\n",
        "ax.xaxis.set_ticklabels(labels)\n",
        "ax.yaxis.set_ticklabels(labels)\n",
        "plt.show()\n",
        "f, ax = plt.subplots(figsize=(5,5))\n",
        "class_report=classification_report(yvalid,prediction,target_names=labels, output_dict=True)\n",
        "sns.heatmap(pd.DataFrame(class_report).iloc[:-1, :].T, annot=True,ax=ax,cmap=\"Blues\")\n",
        "ax.set_title('Classification Report')\n",
        "plt.show()"
      ],
      "execution_count": null,
      "outputs": [
        {
          "output_type": "display_data",
          "data": {
            "image/png": "[encoded data removed]",
            "text/plain": [
              "<Figure size 360x360 with 2 Axes>"
            ]
          },
          "metadata": {
            "tags": [],
            "needs_background": "light"
          }
        },
        {
          "output_type": "display_data",
          "data": {
            "image/png": "[encoded data removed]",
            "text/plain": [
              "<Figure size 360x360 with 2 Axes>"
            ]
          },
          "metadata": {
            "tags": [],
            "needs_background": "light"
          }
        }
      ]
    },
    {
      "cell_type": "markdown",
      "metadata": {
        "id": "_k5sd_j5j8R7"
      },
      "source": [
        "**2.Random Forest**"
      ]
    },
    {
      "cell_type": "code",
      "metadata": {
        "colab": {
          "base_uri": "https://localhost:8080/"
        },
        "id": "lv-BEboykA6-",
        "outputId": "dbfb4aeb-a801-42c0-ffbf-283432b6bb29"
      },
      "source": [
        "from sklearn.ensemble import RandomForestClassifier\n",
        "rf = RandomForestClassifier(n_estimators=400, random_state=11).fit(xtrain_w2v, ytrain) \n",
        "prediction = rf.predict(xvalid_w2v)\n",
        "\n",
        "\n",
        "#classifiction Report\n",
        "\n",
        "report = classification_report( yvalid, prediction )\n",
        "print(report)\n",
        "acc1=accuracy_score(yvalid,prediction)\n",
        "\n",
        "print(\"RF(word2vec), Accuracy Score:\",acc1)"
      ],
      "execution_count": null,
      "outputs": [
        {
          "output_type": "stream",
          "text": [
            "              precision    recall  f1-score   support\n",
            "\n",
            "           0       0.74      0.79      0.76       100\n",
            "           1       0.77      0.72      0.75       100\n",
            "\n",
            "    accuracy                           0.76       200\n",
            "   macro avg       0.76      0.76      0.75       200\n",
            "weighted avg       0.76      0.76      0.75       200\n",
            "\n",
            "RF(word2vec), Accuracy Score: 0.755\n"
          ],
          "name": "stdout"
        }
      ]
    },
    {
      "cell_type": "markdown",
      "metadata": {
        "id": "5SdPrLlVlCUg"
      },
      "source": [
        "**Hyper Parameter Tuning using Random Search**"
      ]
    },
    {
      "cell_type": "code",
      "metadata": {
        "colab": {
          "base_uri": "https://localhost:8080/"
        },
        "id": "BxRKnLbUkBMK",
        "outputId": "50d4f533-1cc9-4f96-a46a-46ee316e47ba"
      },
      "source": [
        "from sklearn.model_selection import RandomizedSearchCV\n",
        "rf = RandomForestClassifier()\n",
        "#Number of trees in random forest\n",
        "n_estimators = [int(x) for x in np.linspace(start = 500, stop = 1000, num = 100)]\n",
        "# Number of features to consider at every split\n",
        "max_features = ['auto', 'sqrt']\n",
        "# Maximum number of levels in tree\n",
        "max_depth = [int(x) for x in np.linspace(10, 50, num = 10)]\n",
        "max_depth.append(None)\n",
        "# Minimum number of samples required to split a node\n",
        "min_samples_split = [2, 5, 10]\n",
        "# Minimum number of samples required at each leaf node\n",
        "min_samples_leaf = [1, 2, 4]\n",
        "# Method of selecting samples for training each tree\n",
        "bootstrap = [True]\n",
        "# Create the random grid\n",
        "random_grid = {'n_estimators': n_estimators,\n",
        "               'max_features': max_features,\n",
        "               'max_depth': max_depth,\n",
        "               'min_samples_split': min_samples_split,\n",
        "               'min_samples_leaf': min_samples_leaf,\n",
        "               'bootstrap': bootstrap}\n",
        "rf_random = RandomizedSearchCV(estimator = rf, param_distributions = random_grid, n_iter = 100, cv = 3, verbose=2, random_state=42, n_jobs = -1)\n",
        "# Fit the random search model\n",
        "rf_random.fit(xtrain_w2v, ytrain)\n",
        "\n",
        "print(\"best Params\")\n",
        "print(rf_random.best_params_)\n",
        "\n",
        "prediction = rf_random.predict(xvalid_w2v)\n",
        "\n",
        "#classifiction Report\n",
        "report = classification_report( yvalid, prediction )\n",
        "print(report)\n",
        "acc1=accuracy_score(yvalid,prediction)\n",
        "\n",
        "print(\"RF(word2vec) after HT+RS, Accuracy Score:\",acc1)"
      ],
      "execution_count": null,
      "outputs": [
        {
          "output_type": "stream",
          "text": [
            "Fitting 3 folds for each of 100 candidates, totalling 300 fits\n"
          ],
          "name": "stdout"
        },
        {
          "output_type": "stream",
          "text": [
            "[Parallel(n_jobs=-1)]: Using backend LokyBackend with 2 concurrent workers.\n",
            "[Parallel(n_jobs=-1)]: Done  37 tasks      | elapsed:  1.6min\n",
            "[Parallel(n_jobs=-1)]: Done 158 tasks      | elapsed:  6.7min\n",
            "[Parallel(n_jobs=-1)]: Done 300 out of 300 | elapsed: 13.0min finished\n"
          ],
          "name": "stderr"
        },
        {
          "output_type": "stream",
          "text": [
            "best Params\n",
            "{'n_estimators': 525, 'min_samples_split': 2, 'min_samples_leaf': 1, 'max_features': 'auto', 'max_depth': 36, 'bootstrap': True}\n",
            "              precision    recall  f1-score   support\n",
            "\n",
            "           0       0.76      0.78      0.77       100\n",
            "           1       0.77      0.75      0.76       100\n",
            "\n",
            "    accuracy                           0.77       200\n",
            "   macro avg       0.77      0.77      0.76       200\n",
            "weighted avg       0.77      0.77      0.76       200\n",
            "\n",
            "RF(word2vec) after HT+RS, Accuracy Score: 0.765\n"
          ],
          "name": "stdout"
        }
      ]
    },
    {
      "cell_type": "markdown",
      "metadata": {
        "id": "_eU34A8clK8l"
      },
      "source": [
        "**Accuracy and Confusion Matrix**"
      ]
    },
    {
      "cell_type": "code",
      "metadata": {
        "colab": {
          "base_uri": "https://localhost:8080/",
          "height": 703
        },
        "id": "zv9ztIelkBZo",
        "outputId": "591bc131-acf0-4e31-d7fe-9a058cf36434"
      },
      "source": [
        "from sklearn.metrics import confusion_matrix,classification_report,accuracy_score\n",
        "import seaborn as sns\n",
        "import pandas as pd\n",
        "import numpy as np\n",
        "labels=['0','1']\n",
        "f, ax = plt.subplots(figsize=(5,5))\n",
        "cm=confusion_matrix(yvalid,prediction)\n",
        "sns.heatmap(cm, annot=True,ax=ax,cmap=\"Blues\")\n",
        "#labels, title and ticks\n",
        "ax.set_xlabel('Predicted labels')\n",
        "ax.set_ylabel('True labels')\n",
        "score = rf_random.score(xvalid_w2v, yvalid)\n",
        "ax.set_title('Accuracy Score: {0} \\n Confusion Matrix'.format(np.round(score,2)))\n",
        "ax.xaxis.set_ticklabels(labels)\n",
        "ax.yaxis.set_ticklabels(labels)\n",
        "plt.show()\n",
        "f, ax = plt.subplots(figsize=(5,5))\n",
        "class_report=classification_report(yvalid,prediction,target_names=labels, output_dict=True)\n",
        "sns.heatmap(pd.DataFrame(class_report).iloc[:-1, :].T, annot=True,ax=ax,cmap=\"Blues\")\n",
        "ax.set_title('Classification Report')\n",
        "plt.show()"
      ],
      "execution_count": null,
      "outputs": [
        {
          "output_type": "display_data",
          "data": {
            "image/png": "[encoded data removed]",
            "text/plain": [
              "<Figure size 360x360 with 2 Axes>"
            ]
          },
          "metadata": {
            "tags": [],
            "needs_background": "light"
          }
        },
        {
          "output_type": "display_data",
          "data": {
            "image/png": "[encoded data removed]",
            "text/plain": [
              "<Figure size 360x360 with 2 Axes>"
            ]
          },
          "metadata": {
            "tags": [],
            "needs_background": "light"
          }
        }
      ]
    },
    {
      "cell_type": "markdown",
      "metadata": {
        "id": "po2KdI7clPyh"
      },
      "source": [
        "**Hyper Parameter tuning using Grid Search**"
      ]
    },
    {
      "cell_type": "code",
      "metadata": {
        "colab": {
          "base_uri": "https://localhost:8080/"
        },
        "id": "QntpL4BKkBm0",
        "outputId": "da2f1845-33d5-4ad9-9367-ef8df044b957"
      },
      "source": [
        "from sklearn.model_selection import GridSearchCV\n",
        "# Create the parameter grid \n",
        "param_grid = {\n",
        "    'bootstrap': [True],\n",
        "    'max_depth': [80, 90, 100, 110],\n",
        "    'max_features': [2, 3],\n",
        "    'min_samples_leaf': [3, 4, 5],\n",
        "    'min_samples_split': [8, 10, 12],\n",
        "    'n_estimators': [100, 200, 300, 1000]\n",
        "}\n",
        "# Create a based model\n",
        "rf = RandomForestClassifier()\n",
        "# Instantiate the grid search model\n",
        "grid_search = GridSearchCV(estimator = rf, param_grid = param_grid,cv = 3, n_jobs = -1, verbose = 2)\n",
        "# Fit the grid search to the data\n",
        "grid_search.fit(xtrain_w2v, ytrain)\n",
        "\n",
        "print(\"best Params\")\n",
        "print(grid_search.best_params_)\n",
        "\n",
        "prediction = grid_search.predict(xvalid_w2v)\n",
        "\n",
        "#classifiction Report\n",
        "\n",
        "report = classification_report( yvalid, prediction )\n",
        "print(report)\n",
        "acc1=accuracy_score(yvalid,prediction)\n",
        "\n",
        "print(\"RF(word2vec) after HT+GS, Accuracy Score:\",acc1)"
      ],
      "execution_count": null,
      "outputs": [
        {
          "output_type": "stream",
          "text": [
            "Fitting 3 folds for each of 288 candidates, totalling 864 fits\n"
          ],
          "name": "stdout"
        },
        {
          "output_type": "stream",
          "text": [
            "[Parallel(n_jobs=-1)]: Using backend LokyBackend with 2 concurrent workers.\n",
            "[Parallel(n_jobs=-1)]: Done  37 tasks      | elapsed:   26.3s\n",
            "[Parallel(n_jobs=-1)]: Done 158 tasks      | elapsed:  1.9min\n",
            "[Parallel(n_jobs=-1)]: Done 361 tasks      | elapsed:  4.4min\n",
            "[Parallel(n_jobs=-1)]: Done 644 tasks      | elapsed:  7.9min\n",
            "[Parallel(n_jobs=-1)]: Done 864 out of 864 | elapsed: 10.6min finished\n"
          ],
          "name": "stderr"
        },
        {
          "output_type": "stream",
          "text": [
            "best Params\n",
            "{'bootstrap': True, 'max_depth': 80, 'max_features': 3, 'min_samples_leaf': 3, 'min_samples_split': 10, 'n_estimators': 100}\n",
            "              precision    recall  f1-score   support\n",
            "\n",
            "           0       0.74      0.78      0.76       100\n",
            "           1       0.77      0.72      0.74       100\n",
            "\n",
            "    accuracy                           0.75       200\n",
            "   macro avg       0.75      0.75      0.75       200\n",
            "weighted avg       0.75      0.75      0.75       200\n",
            "\n",
            "RF(word2vec) after HT+GS, Accuracy Score: 0.75\n"
          ],
          "name": "stdout"
        }
      ]
    },
    {
      "cell_type": "markdown",
      "metadata": {
        "id": "yM0qaR6EkiBP"
      },
      "source": [
        "**Accuray and Confusion Matrix**"
      ]
    },
    {
      "cell_type": "code",
      "metadata": {
        "colab": {
          "base_uri": "https://localhost:8080/",
          "height": 703
        },
        "id": "uJgL8Xtxkedq",
        "outputId": "cd0eb061-4b3f-4888-c295-83f061d60de8"
      },
      "source": [
        "from sklearn.metrics import confusion_matrix,classification_report,accuracy_score\n",
        "import seaborn as sns\n",
        "import pandas as pd\n",
        "import numpy as np\n",
        "labels=['0','1']\n",
        "f, ax = plt.subplots(figsize=(5,5))\n",
        "cm=confusion_matrix(yvalid,prediction)\n",
        "sns.heatmap(cm, annot=True,ax=ax,cmap=\"Blues\")\n",
        "#labels, title and ticks\n",
        "ax.set_xlabel('Predicted labels')\n",
        "ax.set_ylabel('True labels')\n",
        "score = grid_search.score(xvalid_w2v, yvalid)\n",
        "ax.set_title('Accuracy Score: {0} \\n Confusion Matrix'.format(np.round(score,2)))\n",
        "ax.xaxis.set_ticklabels(labels)\n",
        "ax.yaxis.set_ticklabels(labels)\n",
        "plt.show()\n",
        "f, ax = plt.subplots(figsize=(5,5))\n",
        "class_report=classification_report(yvalid,prediction,target_names=labels, output_dict=True)\n",
        "sns.heatmap(pd.DataFrame(class_report).iloc[:-1, :].T, annot=True,ax=ax,cmap=\"Blues\")\n",
        "ax.set_title('Classification Report')\n",
        "plt.show()"
      ],
      "execution_count": null,
      "outputs": [
        {
          "output_type": "display_data",
          "data": {
            "image/png": "[encoded data removed]",
            "text/plain": [
              "<Figure size 360x360 with 2 Axes>"
            ]
          },
          "metadata": {
            "tags": [],
            "needs_background": "light"
          }
        },
        {
          "output_type": "display_data",
          "data": {
            "image/png": "[encoded data removed]",
            "text/plain": [
              "<Figure size 360x360 with 2 Axes>"
            ]
          },
          "metadata": {
            "tags": [],
            "needs_background": "light"
          }
        }
      ]
    },
    {
      "cell_type": "markdown",
      "metadata": {
        "id": "LejqFnP2lXyN"
      },
      "source": [
        "**3.LSTM**"
      ]
    },
    {
      "cell_type": "code",
      "metadata": {
        "colab": {
          "base_uri": "https://localhost:8080/"
        },
        "id": "E0akpe3alej8",
        "outputId": "366eedbb-f0a2-4608-8ecf-39ab967c6108"
      },
      "source": [
        "from keras.layers import Dense, Embedding, LSTM, SpatialDropout1D,Flatten\n",
        "from keras.models import Sequential\n",
        "model = Sequential()\n",
        "model.add(Embedding(200, 50, input_length = xtrain_w2v.shape[1]))\n",
        "model.add(LSTM(100, dropout=0.1, recurrent_dropout=0.1))\n",
        "model.add(Dense(1,activation='softmax'))\n",
        "model.compile(loss = 'categorical_crossentropy', optimizer='adam', metrics = ['accuracy'])\n",
        "print(model.summary())"
      ],
      "execution_count": null,
      "outputs": [
        {
          "output_type": "stream",
          "text": [
            "Model: \"sequential\"\n",
            "_________________________________________________________________\n",
            "Layer (type)                 Output Shape              Param #   \n",
            "=================================================================\n",
            "embedding (Embedding)        (None, 200, 50)           10000     \n",
            "_________________________________________________________________\n",
            "lstm (LSTM)                  (None, 100)               60400     \n",
            "_________________________________________________________________\n",
            "dense (Dense)                (None, 1)                 101       \n",
            "=================================================================\n",
            "Total params: 70,501\n",
            "Trainable params: 70,501\n",
            "Non-trainable params: 0\n",
            "_________________________________________________________________\n",
            "None\n"
          ],
          "name": "stdout"
        }
      ]
    },
    {
      "cell_type": "code",
      "metadata": {
        "colab": {
          "base_uri": "https://localhost:8080/"
        },
        "id": "WlIweaWmle0j",
        "outputId": "dbbf69a7-82f6-4947-915f-f847aedd748b"
      },
      "source": [
        "batch_size=32\n",
        "model.fit(xtrain_w2v, ytrain, epochs = 5, batch_size=batch_size, verbose = 'auto')"
      ],
      "execution_count": null,
      "outputs": [
        {
          "output_type": "stream",
          "text": [
            "Epoch 1/5\n",
            "25/25 [==============================] - 35s 340ms/step - loss: 0.0000e+00 - accuracy: 0.4687\n",
            "Epoch 2/5\n",
            "25/25 [==============================] - 8s 334ms/step - loss: 0.0000e+00 - accuracy: 0.4527\n",
            "Epoch 3/5\n",
            "25/25 [==============================] - 8s 337ms/step - loss: 0.0000e+00 - accuracy: 0.4701\n",
            "Epoch 4/5\n",
            "25/25 [==============================] - 8s 337ms/step - loss: 0.0000e+00 - accuracy: 0.4622\n",
            "Epoch 5/5\n",
            "25/25 [==============================] - 8s 334ms/step - loss: 0.0000e+00 - accuracy: 0.4719\n"
          ],
          "name": "stdout"
        },
        {
          "output_type": "execute_result",
          "data": {
            "text/plain": [
              "<keras.callbacks.History at 0x7f5707ee1610>"
            ]
          },
          "metadata": {
            "tags": []
          },
          "execution_count": 68
        }
      ]
    },
    {
      "cell_type": "code",
      "metadata": {
        "colab": {
          "base_uri": "https://localhost:8080/"
        },
        "id": "r4fkn8uolfBb",
        "outputId": "2bfd3912-3924-400f-d497-48b97edac76c"
      },
      "source": [
        "prediction = model.predict(xvalid_w2v)\n",
        "\n",
        "report = classification_report( yvalid, prediction )\n",
        "print(report)\n",
        "acc1=accuracy_score(yvalid,prediction)\n",
        "\n",
        "print(\"LSTM(word2vec), Accuracy Score:\",acc1)"
      ],
      "execution_count": null,
      "outputs": [
        {
          "output_type": "stream",
          "text": [
            "              precision    recall  f1-score   support\n",
            "\n",
            "           0       0.00      0.00      0.00       100\n",
            "           1       0.50      1.00      0.67       100\n",
            "\n",
            "    accuracy                           0.50       200\n",
            "   macro avg       0.25      0.50      0.33       200\n",
            "weighted avg       0.25      0.50      0.33       200\n",
            "\n",
            "LSTM(word2vec), Accuracy Score: 0.5\n"
          ],
          "name": "stdout"
        },
        {
          "output_type": "stream",
          "text": [
            "/usr/local/lib/python3.7/dist-packages/sklearn/metrics/_classification.py:1272: UndefinedMetricWarning: Precision and F-score are ill-defined and being set to 0.0 in labels with no predicted samples. Use `zero_division` parameter to control this behavior.\n",
            "  _warn_prf(average, modifier, msg_start, len(result))\n"
          ],
          "name": "stderr"
        }
      ]
    },
    {
      "cell_type": "code",
      "metadata": {
        "colab": {
          "base_uri": "https://localhost:8080/"
        },
        "id": "ZFz1rndjlfO9",
        "outputId": "33e0e196-6158-4426-c0c4-8debfd15d1ed"
      },
      "source": [
        "def build_model(var_activation='relu',var_optimizer='adam'):\n",
        "  model = Sequential()\n",
        "  model.add(Embedding(300, 150, input_length = xtrain_w2v.shape[1]))\n",
        "  model.add(LSTM(100, dropout=0.1, recurrent_dropout=0.1))\n",
        "  model.add(Flatten())\n",
        "  model.add(Dense(60,activation=var_activation))\n",
        "  model.add(Dense(5,activation=var_activation))\n",
        "  model.add(Dense(1,activation='softmax'))\n",
        "  model.compile(loss=\"binary_crossentropy\",\n",
        "                optimizer=var_optimizer,\n",
        "                metrics=[\"accuracy\"])\n",
        "  return model\n",
        "model_default = build_model()\n",
        "model_default.summary()"
      ],
      "execution_count": null,
      "outputs": [
        {
          "output_type": "stream",
          "text": [
            "Model: \"sequential_1\"\n",
            "_________________________________________________________________\n",
            "Layer (type)                 Output Shape              Param #   \n",
            "=================================================================\n",
            "embedding_1 (Embedding)      (None, 200, 150)          45000     \n",
            "_________________________________________________________________\n",
            "lstm_1 (LSTM)                (None, 100)               100400    \n",
            "_________________________________________________________________\n",
            "flatten (Flatten)            (None, 100)               0         \n",
            "_________________________________________________________________\n",
            "dense_1 (Dense)              (None, 60)                6060      \n",
            "_________________________________________________________________\n",
            "dense_2 (Dense)              (None, 5)                 305       \n",
            "_________________________________________________________________\n",
            "dense_3 (Dense)              (None, 1)                 6         \n",
            "=================================================================\n",
            "Total params: 151,771\n",
            "Trainable params: 151,771\n",
            "Non-trainable params: 0\n",
            "_________________________________________________________________\n"
          ],
          "name": "stdout"
        }
      ]
    },
    {
      "cell_type": "code",
      "metadata": {
        "colab": {
          "base_uri": "https://localhost:8080/"
        },
        "id": "zQKXQp-qlfbi",
        "outputId": "2c460efb-d7a9-466e-9491-c8c7888cd87a"
      },
      "source": [
        "_activations=['tanh','relu','selu']\n",
        "_optimizers=['sgd','adam']\n",
        "_batch_size=[16,32,64]\n",
        "params=dict(var_activation=_activations,\n",
        "            var_optimizer=_optimizers,\n",
        "            batch_size=_batch_size)\n",
        "print(params)"
      ],
      "execution_count": null,
      "outputs": [
        {
          "output_type": "stream",
          "text": [
            "{'var_activation': ['tanh', 'relu', 'selu'], 'var_optimizer': ['sgd', 'adam'], 'batch_size': [16, 32, 64]}\n"
          ],
          "name": "stdout"
        }
      ]
    },
    {
      "cell_type": "code",
      "metadata": {
        "id": "rH6j5_F7wBAx"
      },
      "source": [
        "from tensorflow.keras.wrappers.scikit_learn import KerasClassifier\n",
        "model = KerasClassifier(build_fn=build_model,epochs=4,batch_size=16)\n",
        "np.random.seed(42)"
      ],
      "execution_count": null,
      "outputs": []
    },
    {
      "cell_type": "code",
      "metadata": {
        "colab": {
          "base_uri": "https://localhost:8080/"
        },
        "id": "Q_m7JE0KwBp4",
        "outputId": "c6cdf9e9-ee3c-4478-eb8b-e68b0cba42da"
      },
      "source": [
        "rscv = RandomizedSearchCV(model, param_distributions=params, cv=3, n_iter=10)\n",
        "rscv_results = rscv.fit(xtrain_w2v,ytrain)\n",
        "print('Best score is: {} using {}'.format(rscv_results.best_score_,\n",
        "rscv_results.best_params_))"
      ],
      "execution_count": null,
      "outputs": [
        {
          "output_type": "stream",
          "text": [
            "Epoch 1/4\n",
            "34/34 [==============================] - 19s 407ms/step - loss: 0.6942 - accuracy: 0.4423\n",
            "Epoch 2/4\n",
            "34/34 [==============================] - 14s 404ms/step - loss: 0.6895 - accuracy: 0.4523\n",
            "Epoch 3/4\n",
            "34/34 [==============================] - 14s 405ms/step - loss: 0.6870 - accuracy: 0.4394\n",
            "Epoch 4/4\n",
            "34/34 [==============================] - 14s 407ms/step - loss: 0.6929 - accuracy: 0.4736\n",
            "17/17 [==============================] - 2s 54ms/step - loss: 0.6968 - accuracy: 0.4944\n",
            "Epoch 1/4\n",
            "34/34 [==============================] - 19s 413ms/step - loss: 0.6909 - accuracy: 0.4616\n",
            "Epoch 2/4\n",
            "34/34 [==============================] - 14s 409ms/step - loss: 0.6927 - accuracy: 0.4759\n",
            "Epoch 3/4\n",
            "34/34 [==============================] - 14s 420ms/step - loss: 0.6925 - accuracy: 0.4723\n",
            "Epoch 4/4\n",
            "34/34 [==============================] - 14s 409ms/step - loss: 0.6865 - accuracy: 0.4389\n",
            "17/17 [==============================] - 2s 54ms/step - loss: 0.6906 - accuracy: 0.4644\n",
            "Epoch 1/4\n",
            "34/34 [==============================] - 19s 407ms/step - loss: 0.6935 - accuracy: 0.4465\n",
            "Epoch 2/4\n",
            "34/34 [==============================] - 14s 408ms/step - loss: 0.6946 - accuracy: 0.4903\n",
            "Epoch 3/4\n",
            "34/34 [==============================] - 14s 413ms/step - loss: 0.6942 - accuracy: 0.4838\n",
            "Epoch 4/4\n",
            "34/34 [==============================] - 14s 416ms/step - loss: 0.6944 - accuracy: 0.4957\n",
            "17/17 [==============================] - 3s 54ms/step - loss: 0.6866 - accuracy: 0.4286\n",
            "Epoch 1/4\n",
            "34/34 [==============================] - 19s 415ms/step - loss: 0.7007 - accuracy: 0.4649\n",
            "Epoch 2/4\n",
            "34/34 [==============================] - 14s 417ms/step - loss: 0.6915 - accuracy: 0.4599\n",
            "Epoch 3/4\n",
            "34/34 [==============================] - 14s 416ms/step - loss: 0.6908 - accuracy: 0.4571\n",
            "Epoch 4/4\n",
            "34/34 [==============================] - 14s 415ms/step - loss: 0.6802 - accuracy: 0.4078\n",
            "17/17 [==============================] - 2s 56ms/step - loss: 0.6935 - accuracy: 0.4944\n",
            "Epoch 1/4\n",
            "34/34 [==============================] - 19s 419ms/step - loss: 0.6953 - accuracy: 0.4591\n",
            "Epoch 2/4\n",
            "34/34 [==============================] - 14s 426ms/step - loss: 0.6931 - accuracy: 0.4644\n",
            "Epoch 3/4\n",
            "34/34 [==============================] - 14s 418ms/step - loss: 0.6920 - accuracy: 0.4680\n",
            "Epoch 4/4\n",
            "34/34 [==============================] - 14s 415ms/step - loss: 0.6934 - accuracy: 0.4695\n",
            "17/17 [==============================] - 2s 54ms/step - loss: 0.6907 - accuracy: 0.4644\n",
            "Epoch 1/4\n",
            "34/34 [==============================] - 20s 410ms/step - loss: 0.6998 - accuracy: 0.4561\n",
            "Epoch 2/4\n",
            "34/34 [==============================] - 14s 407ms/step - loss: 0.6948 - accuracy: 0.4921\n",
            "Epoch 3/4\n",
            "34/34 [==============================] - 14s 407ms/step - loss: 0.6923 - accuracy: 0.4751\n",
            "Epoch 4/4\n",
            "34/34 [==============================] - 14s 412ms/step - loss: 0.6934 - accuracy: 0.4888\n",
            "17/17 [==============================] - 2s 48ms/step - loss: 0.6889 - accuracy: 0.4286\n",
            "Epoch 1/4\n",
            "17/17 [==============================] - 14s 490ms/step - loss: 0.6910 - accuracy: 0.4514\n",
            "Epoch 2/4\n",
            "17/17 [==============================] - 8s 495ms/step - loss: 0.6914 - accuracy: 0.4673\n",
            "Epoch 3/4\n",
            "17/17 [==============================] - 8s 493ms/step - loss: 0.6884 - accuracy: 0.4416\n",
            "Epoch 4/4\n",
            "17/17 [==============================] - 8s 494ms/step - loss: 0.6912 - accuracy: 0.4688\n",
            "9/9 [==============================] - 2s 70ms/step - loss: 0.6950 - accuracy: 0.4944\n",
            "Epoch 1/4\n",
            "17/17 [==============================] - 14s 495ms/step - loss: 0.6932 - accuracy: 0.4899\n",
            "Epoch 2/4\n",
            "17/17 [==============================] - 8s 495ms/step - loss: 0.6926 - accuracy: 0.4828\n",
            "Epoch 3/4\n",
            "17/17 [==============================] - 8s 494ms/step - loss: 0.6894 - accuracy: 0.4418\n",
            "Epoch 4/4\n",
            "17/17 [==============================] - 8s 492ms/step - loss: 0.6928 - accuracy: 0.4833\n",
            "9/9 [==============================] - 2s 68ms/step - loss: 0.6907 - accuracy: 0.4644\n",
            "Epoch 1/4\n",
            "17/17 [==============================] - 13s 498ms/step - loss: 0.6932 - accuracy: 0.5014\n",
            "Epoch 2/4\n",
            "17/17 [==============================] - 9s 501ms/step - loss: 0.6933 - accuracy: 0.4412\n",
            "Epoch 3/4\n",
            "17/17 [==============================] - 8s 494ms/step - loss: 0.6932 - accuracy: 0.4619\n",
            "Epoch 4/4\n",
            "17/17 [==============================] - 8s 496ms/step - loss: 0.6930 - accuracy: 0.4709\n",
            "9/9 [==============================] - 2s 70ms/step - loss: 0.6925 - accuracy: 0.4286\n",
            "Epoch 1/4\n",
            "34/34 [==============================] - 19s 408ms/step - loss: 0.6970 - accuracy: 0.4561\n",
            "Epoch 2/4\n",
            "34/34 [==============================] - 14s 411ms/step - loss: 0.6940 - accuracy: 0.4652\n",
            "Epoch 3/4\n",
            "34/34 [==============================] - 14s 409ms/step - loss: 0.6834 - accuracy: 0.4176\n",
            "Epoch 4/4\n",
            "34/34 [==============================] - 14s 409ms/step - loss: 0.6904 - accuracy: 0.4503\n",
            "17/17 [==============================] - 2s 55ms/step - loss: 0.6963 - accuracy: 0.4944\n",
            "Epoch 1/4\n",
            "34/34 [==============================] - 20s 413ms/step - loss: 0.6941 - accuracy: 0.4551\n",
            "Epoch 2/4\n",
            "34/34 [==============================] - 14s 410ms/step - loss: 0.6928 - accuracy: 0.4328\n",
            "Epoch 3/4\n",
            "34/34 [==============================] - 14s 416ms/step - loss: 0.6919 - accuracy: 0.4502\n",
            "Epoch 4/4\n",
            "34/34 [==============================] - 14s 415ms/step - loss: 0.6911 - accuracy: 0.4631\n",
            "17/17 [==============================] - 2s 52ms/step - loss: 0.6908 - accuracy: 0.4644\n",
            "Epoch 1/4\n",
            "34/34 [==============================] - 19s 413ms/step - loss: 0.7104 - accuracy: 0.5032\n",
            "Epoch 2/4\n",
            "34/34 [==============================] - 14s 411ms/step - loss: 0.7085 - accuracy: 0.4795\n",
            "Epoch 3/4\n",
            "34/34 [==============================] - 14s 413ms/step - loss: 0.6926 - accuracy: 0.4536\n",
            "Epoch 4/4\n",
            "34/34 [==============================] - 14s 416ms/step - loss: 0.6945 - accuracy: 0.5044\n",
            "17/17 [==============================] - 2s 53ms/step - loss: 0.6886 - accuracy: 0.4286\n",
            "Epoch 1/4\n",
            "34/34 [==============================] - 19s 412ms/step - loss: 0.6905 - accuracy: 0.4324\n",
            "Epoch 2/4\n",
            "34/34 [==============================] - 14s 420ms/step - loss: 0.6887 - accuracy: 0.4439\n",
            "Epoch 3/4\n",
            "34/34 [==============================] - 14s 412ms/step - loss: 0.6890 - accuracy: 0.4501\n",
            "Epoch 4/4\n",
            "34/34 [==============================] - 14s 414ms/step - loss: 0.6872 - accuracy: 0.4373\n",
            "17/17 [==============================] - 3s 57ms/step - loss: 0.6936 - accuracy: 0.4944\n",
            "Epoch 1/4\n",
            "34/34 [==============================] - 19s 413ms/step - loss: 0.6944 - accuracy: 0.4727\n",
            "Epoch 2/4\n",
            "34/34 [==============================] - 14s 424ms/step - loss: 0.6947 - accuracy: 0.4931\n",
            "Epoch 3/4\n",
            "34/34 [==============================] - 14s 416ms/step - loss: 0.6949 - accuracy: 0.4595\n",
            "Epoch 4/4\n",
            "34/34 [==============================] - 14s 415ms/step - loss: 0.6935 - accuracy: 0.4834\n",
            "17/17 [==============================] - 2s 53ms/step - loss: 0.6908 - accuracy: 0.4644\n",
            "Epoch 1/4\n",
            "34/34 [==============================] - 19s 416ms/step - loss: 0.6934 - accuracy: 0.4797\n",
            "Epoch 2/4\n",
            "34/34 [==============================] - 14s 419ms/step - loss: 0.6935 - accuracy: 0.4908\n",
            "Epoch 3/4\n",
            "34/34 [==============================] - 14s 415ms/step - loss: 0.6940 - accuracy: 0.5016\n",
            "Epoch 4/4\n",
            "34/34 [==============================] - 14s 414ms/step - loss: 0.6940 - accuracy: 0.4956\n",
            "17/17 [==============================] - 2s 53ms/step - loss: 0.6877 - accuracy: 0.4286\n",
            "Epoch 1/4\n",
            "9/9 [==============================] - 12s 667ms/step - loss: 0.6935 - accuracy: 0.4331\n",
            "Epoch 2/4\n",
            "9/9 [==============================] - 6s 651ms/step - loss: 0.6860 - accuracy: 0.4373\n",
            "Epoch 3/4\n",
            "9/9 [==============================] - 6s 661ms/step - loss: 0.6905 - accuracy: 0.4564\n",
            "Epoch 4/4\n",
            "9/9 [==============================] - 6s 643ms/step - loss: 0.6816 - accuracy: 0.4212\n",
            "5/5 [==============================] - 2s 87ms/step - loss: 0.6970 - accuracy: 0.4944\n",
            "Epoch 1/4\n",
            "9/9 [==============================] - 11s 644ms/step - loss: 0.6929 - accuracy: 0.4527\n",
            "Epoch 2/4\n",
            "9/9 [==============================] - 6s 654ms/step - loss: 0.6876 - accuracy: 0.4307\n",
            "Epoch 3/4\n",
            "9/9 [==============================] - 6s 641ms/step - loss: 0.6844 - accuracy: 0.4254\n",
            "Epoch 4/4\n",
            "9/9 [==============================] - 6s 644ms/step - loss: 0.6918 - accuracy: 0.4679\n",
            "5/5 [==============================] - 2s 87ms/step - loss: 0.6910 - accuracy: 0.4644\n",
            "Epoch 1/4\n",
            "9/9 [==============================] - 11s 652ms/step - loss: 0.6954 - accuracy: 0.4690\n",
            "Epoch 2/4\n",
            "9/9 [==============================] - 6s 645ms/step - loss: 0.6937 - accuracy: 0.4897\n",
            "Epoch 3/4\n",
            "9/9 [==============================] - 6s 651ms/step - loss: 0.6939 - accuracy: 0.4989\n",
            "Epoch 4/4\n",
            "9/9 [==============================] - 6s 643ms/step - loss: 0.6933 - accuracy: 0.4910\n",
            "5/5 [==============================] - 2s 89ms/step - loss: 0.6859 - accuracy: 0.4286\n",
            "Epoch 1/4\n",
            "9/9 [==============================] - 11s 645ms/step - loss: 0.6928 - accuracy: 0.4630\n",
            "Epoch 2/4\n",
            "9/9 [==============================] - 6s 659ms/step - loss: 0.6887 - accuracy: 0.4486\n",
            "Epoch 3/4\n",
            "9/9 [==============================] - 6s 649ms/step - loss: 0.6943 - accuracy: 0.4674\n",
            "Epoch 4/4\n",
            "9/9 [==============================] - 6s 658ms/step - loss: 0.6867 - accuracy: 0.4461\n",
            "5/5 [==============================] - 2s 89ms/step - loss: 0.6937 - accuracy: 0.4944\n",
            "Epoch 1/4\n",
            "9/9 [==============================] - 11s 647ms/step - loss: 0.6983 - accuracy: 0.4631\n",
            "Epoch 2/4\n",
            "9/9 [==============================] - 6s 644ms/step - loss: 0.6914 - accuracy: 0.4629\n",
            "Epoch 3/4\n",
            "9/9 [==============================] - 6s 651ms/step - loss: 0.6923 - accuracy: 0.4781\n",
            "Epoch 4/4\n",
            "9/9 [==============================] - 6s 642ms/step - loss: 0.6911 - accuracy: 0.4651\n",
            "5/5 [==============================] - 2s 92ms/step - loss: 0.6906 - accuracy: 0.4644\n",
            "Epoch 1/4\n",
            "9/9 [==============================] - 11s 662ms/step - loss: 0.6935 - accuracy: 0.4901\n",
            "Epoch 2/4\n",
            "9/9 [==============================] - 6s 668ms/step - loss: 0.6926 - accuracy: 0.4792\n",
            "Epoch 3/4\n",
            "9/9 [==============================] - 6s 655ms/step - loss: 0.6923 - accuracy: 0.4722\n",
            "Epoch 4/4\n",
            "9/9 [==============================] - 6s 645ms/step - loss: 0.6894 - accuracy: 0.4473\n",
            "5/5 [==============================] - 2s 89ms/step - loss: 0.6891 - accuracy: 0.4286\n",
            "Epoch 1/4\n",
            "9/9 [==============================] - 11s 661ms/step - loss: 0.6934 - accuracy: 0.4350\n",
            "Epoch 2/4\n",
            "9/9 [==============================] - 6s 642ms/step - loss: 0.6926 - accuracy: 0.4269\n",
            "Epoch 3/4\n",
            "9/9 [==============================] - 6s 649ms/step - loss: 0.6928 - accuracy: 0.4759\n",
            "Epoch 4/4\n",
            "9/9 [==============================] - 6s 651ms/step - loss: 0.6921 - accuracy: 0.4452\n",
            "5/5 [==============================] - 2s 92ms/step - loss: 0.6931 - accuracy: 0.4944\n",
            "Epoch 1/4\n",
            "9/9 [==============================] - 11s 654ms/step - loss: 0.6913 - accuracy: 0.4600\n",
            "Epoch 2/4\n",
            "9/9 [==============================] - 6s 655ms/step - loss: 0.6913 - accuracy: 0.4615\n",
            "Epoch 3/4\n",
            "9/9 [==============================] - 6s 643ms/step - loss: 0.6917 - accuracy: 0.4691\n",
            "Epoch 4/4\n",
            "9/9 [==============================] - 6s 653ms/step - loss: 0.6881 - accuracy: 0.4464\n",
            "5/5 [==============================] - 2s 93ms/step - loss: 0.6906 - accuracy: 0.4644\n",
            "Epoch 1/4\n",
            "9/9 [==============================] - 11s 652ms/step - loss: 0.6929 - accuracy: 0.4716\n",
            "Epoch 2/4\n",
            "9/9 [==============================] - 6s 654ms/step - loss: 0.6910 - accuracy: 0.4658\n",
            "Epoch 3/4\n",
            "9/9 [==============================] - 6s 652ms/step - loss: 0.6928 - accuracy: 0.4812\n",
            "Epoch 4/4\n",
            "9/9 [==============================] - 6s 659ms/step - loss: 0.6916 - accuracy: 0.4626\n",
            "5/5 [==============================] - 2s 89ms/step - loss: 0.6859 - accuracy: 0.4286\n",
            "Epoch 1/4\n",
            "17/17 [==============================] - 13s 497ms/step - loss: 0.7070 - accuracy: 0.4540\n",
            "Epoch 2/4\n",
            "17/17 [==============================] - 9s 503ms/step - loss: 0.6881 - accuracy: 0.4458\n",
            "Epoch 3/4\n",
            "17/17 [==============================] - 8s 497ms/step - loss: 0.6889 - accuracy: 0.4519\n",
            "Epoch 4/4\n",
            "17/17 [==============================] - 8s 498ms/step - loss: 0.6843 - accuracy: 0.4278\n",
            "9/9 [==============================] - 2s 70ms/step - loss: 0.6982 - accuracy: 0.4944\n",
            "Epoch 1/4\n",
            "17/17 [==============================] - 14s 505ms/step - loss: 0.6970 - accuracy: 0.4797\n",
            "Epoch 2/4\n",
            "17/17 [==============================] - 9s 501ms/step - loss: 0.6868 - accuracy: 0.4295\n",
            "Epoch 3/4\n",
            "17/17 [==============================] - 8s 496ms/step - loss: 0.6892 - accuracy: 0.4400\n",
            "Epoch 4/4\n",
            "17/17 [==============================] - 8s 491ms/step - loss: 0.6891 - accuracy: 0.4425\n",
            "9/9 [==============================] - 2s 70ms/step - loss: 0.6906 - accuracy: 0.4644\n",
            "Epoch 1/4\n",
            "17/17 [==============================] - 14s 500ms/step - loss: 0.6962 - accuracy: 0.4555\n",
            "Epoch 2/4\n",
            "17/17 [==============================] - 9s 504ms/step - loss: 0.7074 - accuracy: 0.4524\n",
            "Epoch 3/4\n",
            "17/17 [==============================] - 8s 498ms/step - loss: 0.6924 - accuracy: 0.4731\n",
            "Epoch 4/4\n",
            "17/17 [==============================] - 8s 495ms/step - loss: 0.6945 - accuracy: 0.4721\n",
            "9/9 [==============================] - 2s 69ms/step - loss: 0.6924 - accuracy: 0.4286\n",
            "Epoch 1/4\n",
            "34/34 [==============================] - 19s 412ms/step - loss: 0.6926 - accuracy: 0.4741\n",
            "Epoch 2/4\n",
            "34/34 [==============================] - 14s 417ms/step - loss: 0.6874 - accuracy: 0.4288\n",
            "Epoch 3/4\n",
            "34/34 [==============================] - 14s 411ms/step - loss: 0.6889 - accuracy: 0.4475\n",
            "Epoch 4/4\n",
            "34/34 [==============================] - 14s 413ms/step - loss: 0.6924 - accuracy: 0.4743\n",
            "17/17 [==============================] - 2s 55ms/step - loss: 0.6960 - accuracy: 0.4944\n",
            "Epoch 1/4\n",
            "34/34 [==============================] - 19s 414ms/step - loss: 0.6919 - accuracy: 0.4428\n",
            "Epoch 2/4\n",
            "34/34 [==============================] - 14s 416ms/step - loss: 0.6907 - accuracy: 0.4521\n",
            "Epoch 3/4\n",
            "34/34 [==============================] - 14s 416ms/step - loss: 0.6898 - accuracy: 0.4462\n",
            "Epoch 4/4\n",
            "34/34 [==============================] - 14s 418ms/step - loss: 0.6921 - accuracy: 0.4753\n",
            "17/17 [==============================] - 2s 56ms/step - loss: 0.6906 - accuracy: 0.4644\n",
            "Epoch 1/4\n",
            "34/34 [==============================] - 19s 414ms/step - loss: 0.6925 - accuracy: 0.4465\n",
            "Epoch 2/4\n",
            "34/34 [==============================] - 14s 413ms/step - loss: 0.6928 - accuracy: 0.4785\n",
            "Epoch 3/4\n",
            "34/34 [==============================] - 14s 410ms/step - loss: 0.6910 - accuracy: 0.4485\n",
            "Epoch 4/4\n",
            "34/34 [==============================] - 14s 415ms/step - loss: 0.6915 - accuracy: 0.4629\n",
            "17/17 [==============================] - 2s 57ms/step - loss: 0.6890 - accuracy: 0.4286\n",
            "Epoch 1/4\n",
            "50/50 [==============================] - 22s 357ms/step - loss: 0.6937 - accuracy: 0.5007\n",
            "Epoch 2/4\n",
            "50/50 [==============================] - 18s 357ms/step - loss: 0.6907 - accuracy: 0.4602\n",
            "Epoch 3/4\n",
            "50/50 [==============================] - 18s 356ms/step - loss: 0.6918 - accuracy: 0.4685\n",
            "Epoch 4/4\n",
            "50/50 [==============================] - 18s 358ms/step - loss: 0.6893 - accuracy: 0.4509\n",
            "Best score is: 0.4624576469262441 using {'var_optimizer': 'sgd', 'var_activation': 'tanh', 'batch_size': 16}\n"
          ],
          "name": "stdout"
        }
      ]
    },
    {
      "cell_type": "code",
      "metadata": {
        "colab": {
          "base_uri": "https://localhost:8080/"
        },
        "id": "TcxAJEtJwHpE",
        "outputId": "97f57e29-2434-47e6-82e4-be17760f996d"
      },
      "source": [
        "prediction = rscv_results.predict(xvalid_w2v)\n",
        "\n",
        "report = classification_report( yvalid, prediction )\n",
        "print(report)\n",
        "acc1=accuracy_score(yvalid,prediction)\n",
        "\n",
        "print(\"LSTM(word2vec), Accuracy Score:\",acc1)"
      ],
      "execution_count": null,
      "outputs": [
        {
          "output_type": "stream",
          "text": [
            "/usr/local/lib/python3.7/dist-packages/keras/engine/sequential.py:450: UserWarning: `model.predict_classes()` is deprecated and will be removed after 2021-01-01. Please use instead:* `np.argmax(model.predict(x), axis=-1)`,   if your model does multi-class classification   (e.g. if it uses a `softmax` last-layer activation).* `(model.predict(x) > 0.5).astype(\"int32\")`,   if your model does binary classification   (e.g. if it uses a `sigmoid` last-layer activation).\n",
            "  warnings.warn('`model.predict_classes()` is deprecated and '\n"
          ],
          "name": "stderr"
        },
        {
          "output_type": "stream",
          "text": [
            "              precision    recall  f1-score   support\n",
            "\n",
            "           0       0.00      0.00      0.00       100\n",
            "           1       0.50      1.00      0.67       100\n",
            "\n",
            "    accuracy                           0.50       200\n",
            "   macro avg       0.25      0.50      0.33       200\n",
            "weighted avg       0.25      0.50      0.33       200\n",
            "\n",
            "LSTM(word2vec), Accuracy Score: 0.5\n"
          ],
          "name": "stdout"
        },
        {
          "output_type": "stream",
          "text": [
            "/usr/local/lib/python3.7/dist-packages/sklearn/metrics/_classification.py:1272: UndefinedMetricWarning: Precision and F-score are ill-defined and being set to 0.0 in labels with no predicted samples. Use `zero_division` parameter to control this behavior.\n",
            "  _warn_prf(average, modifier, msg_start, len(result))\n"
          ],
          "name": "stderr"
        }
      ]
    },
    {
      "cell_type": "code",
      "metadata": {
        "colab": {
          "base_uri": "https://localhost:8080/",
          "height": 774
        },
        "id": "htPgsK1NwL7M",
        "outputId": "1f4c4dbb-f258-44fa-e7ff-f76a173d0b23"
      },
      "source": [
        "labels=['0','1']\n",
        "f, ax = plt.subplots(figsize=(5,5))\n",
        "cm=confusion_matrix(yvalid,prediction)\n",
        "sns.heatmap(cm, annot=True,ax=ax,cmap=\"Blues\")\n",
        "#labels, title and ticks\n",
        "ax.set_xlabel('Predicted labels')\n",
        "ax.set_ylabel('True labels')\n",
        "score = rscv_results.score(xvalid_w2v, yvalid)\n",
        "ax.set_title('Accuracy Score: {0} \\n Confusion Matrix'.format(np.round(score,2)))\n",
        "ax.xaxis.set_ticklabels(labels)\n",
        "ax.yaxis.set_ticklabels(labels)\n",
        "plt.show()\n",
        "f, ax = plt.subplots(figsize=(5,5))\n",
        "class_report=classification_report(yvalid,prediction,target_names=labels, output_dict=True)\n",
        "sns.heatmap(pd.DataFrame(class_report).iloc[:-1, :].T, annot=True,ax=ax,cmap=\"Blues\")\n",
        "ax.set_title('Classification Report')\n",
        "plt.show()"
      ],
      "execution_count": null,
      "outputs": [
        {
          "output_type": "stream",
          "text": [
            "13/13 [==============================] - 2s 54ms/step - loss: 0.6959 - accuracy: 0.5000\n"
          ],
          "name": "stdout"
        },
        {
          "output_type": "display_data",
          "data": {
            "image/png": "[encoded data removed]",
            "text/plain": [
              "<Figure size 360x360 with 2 Axes>"
            ]
          },
          "metadata": {
            "tags": [],
            "needs_background": "light"
          }
        },
        {
          "output_type": "stream",
          "text": [
            "/usr/local/lib/python3.7/dist-packages/sklearn/metrics/_classification.py:1272: UndefinedMetricWarning: Precision and F-score are ill-defined and being set to 0.0 in labels with no predicted samples. Use `zero_division` parameter to control this behavior.\n",
            "  _warn_prf(average, modifier, msg_start, len(result))\n"
          ],
          "name": "stderr"
        },
        {
          "output_type": "display_data",
          "data": {
            "image/png": "[encoded data removed]",
            "text/plain": [
              "<Figure size 360x360 with 2 Axes>"
            ]
          },
          "metadata": {
            "tags": [],
            "needs_background": "light"
          }
        }
      ]
    },
    {
      "cell_type": "markdown",
      "metadata": {
        "id": "pAB1-makDFOn"
      },
      "source": [
        "**Doc2vec lstm**"
      ]
    },
    {
      "cell_type": "code",
      "metadata": {
        "id": "vIkw-DwiDFpW"
      },
      "source": [
        ""
      ],
      "execution_count": null,
      "outputs": []
    },
    {
      "cell_type": "code",
      "metadata": {
        "colab": {
          "base_uri": "https://localhost:8080/"
        },
        "id": "VaRRoZ9qDF_k",
        "outputId": "d640589b-3760-4d69-a736-c517eeb22847"
      },
      "source": [
        "model = Sequential()\n",
        "model.add(Embedding(500, 120, input_length = xtrain_d2v.shape[1]))\n",
        "model.add(SpatialDropout1D(0.4))\n",
        "model.add(LSTM(176, dropout=0.2, recurrent_dropout=0.2))\n",
        "model.add(Dense(1,activation='softmax'))\n",
        "model.compile(loss = 'binary_crossentropy', optimizer='adam', metrics = ['accuracy'])\n",
        "print(model.summary())\n",
        "batch_size=32\n",
        "#model.fit(xtrain_d2v, ytrain, epochs = 10, batch_size=batch_size, verbose = 'auto')"
      ],
      "execution_count": null,
      "outputs": [
        {
          "output_type": "stream",
          "text": [
            "Model: \"sequential_35\"\n",
            "_________________________________________________________________\n",
            "Layer (type)                 Output Shape              Param #   \n",
            "=================================================================\n",
            "embedding_35 (Embedding)     (None, 199, 120)          60000     \n",
            "_________________________________________________________________\n",
            "spatial_dropout1d_2 (Spatial (None, 199, 120)          0         \n",
            "_________________________________________________________________\n",
            "lstm_35 (LSTM)               (None, 176)               209088    \n",
            "_________________________________________________________________\n",
            "dense_99 (Dense)             (None, 1)                 177       \n",
            "=================================================================\n",
            "Total params: 269,265\n",
            "Trainable params: 269,265\n",
            "Non-trainable params: 0\n",
            "_________________________________________________________________\n",
            "None\n"
          ],
          "name": "stdout"
        }
      ]
    },
    {
      "cell_type": "code",
      "metadata": {
        "id": "3nxcVFjUQAfv"
      },
      "source": [
        "model.fit(xtrain_d2v, ytrain, epochs = 10, batch_size=batch_size, verbose = 'auto')"
      ],
      "execution_count": null,
      "outputs": []
    },
    {
      "cell_type": "code",
      "metadata": {
        "id": "stPlPXukQPmD"
      },
      "source": [
        "model_default = build_model()\n",
        "_activations=['tanh','relu','selu']\n",
        "_optimizers=['sgd','adam']\n",
        "_batch_size=[16,32,64]\n",
        "params=dict(var_activation=_activations,\n",
        "            var_optimizer=_optimizers,\n",
        "            batch_size=_batch_size)\n",
        "print(params)\n",
        "\n",
        "model = KerasClassifier(build_fn=build_model,epochs=5,batch_size=16)\n",
        "np.random.seed(42)\n",
        "rscv = RandomizedSearchCV(model, param_distributions=params, cv=3, n_iter=6)\n",
        "rscv_results = rscv.fit(xtrain_d2v,ytrain)\n",
        "print('Best score is: {} using {}'.format(rscv_results.best_score_,\n",
        "rscv_results.best_params_))"
      ],
      "execution_count": null,
      "outputs": []
    },
    {
      "cell_type": "markdown",
      "metadata": {
        "id": "GHsph-TlfCvv"
      },
      "source": [
        "#Doc2vec"
      ]
    },
    {
      "cell_type": "markdown",
      "metadata": {
        "id": "rXN5NRwZfFs7"
      },
      "source": [
        "**1.SVM-RBF**"
      ]
    },
    {
      "cell_type": "code",
      "metadata": {
        "id": "ZzCmgKVUQUEt"
      },
      "source": [
        "svc = svm.SVC(kernel='rbf', C=1).fit(xtrain_d2v, ytrain) \n",
        "prediction = svc.predict(xvalid_d2v) \n",
        "\n",
        "#classifiction Report\n",
        "\n",
        "report = classification_report( yvalid, prediction )\n",
        "print(report)\n",
        "acc1=accuracy_score(yvalid,prediction)\n",
        "\n",
        "print(\"SVM-RBF(doc2vec), Accuracy Score:\",acc1)"
      ],
      "execution_count": null,
      "outputs": []
    },
    {
      "cell_type": "markdown",
      "metadata": {
        "id": "NgagFF2HfUt8"
      },
      "source": [
        "**Hyper Parameter tuning using Grid Search**"
      ]
    },
    {
      "cell_type": "code",
      "metadata": {
        "colab": {
          "base_uri": "https://localhost:8080/"
        },
        "id": "N0llJuZXZN9y",
        "outputId": "cf33f91f-79bb-44ae-be71-30234195374a"
      },
      "source": [
        "parameters = [{'C': [1,10,50,100], 'kernel': ['linear','rbf']}]\n",
        "grid_search = GridSearchCV(estimator= svc,\n",
        "                          param_grid = parameters, scoring = 'accuracy',cv = 10)\n",
        "grid_search = grid_search.fit(xtrain_d2v, ytrain)\n",
        "grid_search.best_params_\n",
        "prediction = grid_search.predict(xvalid_d2v) \n",
        "\n",
        "#classifiction Report\n",
        "\n",
        "report = classification_report( yvalid, prediction)\n",
        "print(report)\n",
        "acc1=accuracy_score(yvalid,prediction)\n",
        "\n",
        "\n",
        "print(\"SVM_RBF(doc2vec) after HT+GS, Accuracy Score:\",acc1)"
      ],
      "execution_count": null,
      "outputs": [
        {
          "output_type": "stream",
          "text": [
            "              precision    recall  f1-score   support\n",
            "\n",
            "           0       0.75      0.77      0.76       100\n",
            "           1       0.76      0.74      0.75       100\n",
            "\n",
            "    accuracy                           0.76       200\n",
            "   macro avg       0.76      0.76      0.75       200\n",
            "weighted avg       0.76      0.76      0.75       200\n",
            "\n",
            "SVM_RBF(doc2vec) after HT+GS, Accuracy Score: 0.755\n"
          ],
          "name": "stdout"
        }
      ]
    },
    {
      "cell_type": "code",
      "metadata": {
        "colab": {
          "base_uri": "https://localhost:8080/",
          "height": 703
        },
        "id": "OYI2LeHpYlGB",
        "outputId": "67c8f10c-2235-4a98-cba2-c3bf0293fc65"
      },
      "source": [
        "from sklearn.metrics import confusion_matrix,classification_report,accuracy_score\n",
        "import seaborn as sns\n",
        "import pandas as pd\n",
        "import numpy as np\n",
        "labels=['0','1']\n",
        "f, ax = plt.subplots(figsize=(5,5))\n",
        "cm=confusion_matrix(yvalid,prediction)\n",
        "sns.heatmap(cm, annot=True,ax=ax,cmap=\"Blues\")\n",
        "#labels, title and ticks\n",
        "ax.set_xlabel('Predicted labels')\n",
        "ax.set_ylabel('True labels')\n",
        "score = grid_search.score(xvalid_d2v, yvalid)\n",
        "ax.set_title('Accuracy Score: {0} \\n Confusion Matrix'.format(np.round(score,2)))\n",
        "ax.xaxis.set_ticklabels(labels)\n",
        "ax.yaxis.set_ticklabels(labels)\n",
        "plt.show()\n",
        "f, ax = plt.subplots(figsize=(5,5))\n",
        "class_report=classification_report(yvalid,prediction,target_names=labels, output_dict=True)\n",
        "sns.heatmap(pd.DataFrame(class_report).iloc[:-1, :].T, annot=True,ax=ax,cmap=\"Blues\")\n",
        "ax.set_title('Classification Report')\n",
        "plt.show()"
      ],
      "execution_count": null,
      "outputs": [
        {
          "output_type": "display_data",
          "data": {
            "image/png": "[encoded data removed]",
            "text/plain": [
              "<Figure size 360x360 with 2 Axes>"
            ]
          },
          "metadata": {
            "tags": []
          }
        },
        {
          "output_type": "display_data",
          "data": {
            "image/png": "[encoded data removed]",
            "text/plain": [
              "<Figure size 360x360 with 2 Axes>"
            ]
          },
          "metadata": {
            "tags": []
          }
        }
      ]
    },
    {
      "cell_type": "markdown",
      "metadata": {
        "id": "7fKFqOD_fbWu"
      },
      "source": [
        "**Hyper Parameter Tuning using Random Search**"
      ]
    },
    {
      "cell_type": "code",
      "metadata": {
        "colab": {
          "base_uri": "https://localhost:8080/"
        },
        "id": "sCbEk6B2Zg5g",
        "outputId": "3a92c9dd-762b-4e77-8075-08990e67fa8d"
      },
      "source": [
        "from sklearn.model_selection import RandomizedSearchCV\n",
        "#svc = svm.SVC()\n",
        "\n",
        "# Create the random grid\n",
        "random_grid = {'C': [0.1,1,10,100], \n",
        "              'kernel': ['linear','rbf']}\n",
        "              \n",
        "rf_random = RandomizedSearchCV(estimator = svc, param_distributions = random_grid, n_iter = 100, cv = 3, verbose=2, random_state=42, n_jobs = -1)\n",
        "# Fit the random search model\n",
        "rf_random.fit(xtrain_d2v, ytrain)\n",
        "print(\"best Params\")\n",
        "print(rf_random.best_params_)\n",
        "\n",
        "\n",
        "prediction = rf_random.predict(xvalid_d2v) \n",
        "\n",
        "#classifiction Report\n",
        "\n",
        "report = classification_report( yvalid, prediction)\n",
        "print(report)\n",
        "acc1=accuracy_score(yvalid,prediction)\n",
        "\n",
        "\n",
        "print(\"SVM_RBF(doc2vec) after HT+RS, Accuracy Score:\",acc1)"
      ],
      "execution_count": null,
      "outputs": [
        {
          "output_type": "stream",
          "text": [
            "Fitting 3 folds for each of 8 candidates, totalling 24 fits\n"
          ],
          "name": "stdout"
        },
        {
          "output_type": "stream",
          "text": [
            "/usr/local/lib/python3.7/dist-packages/sklearn/model_selection/_search.py:281: UserWarning: The total space of parameters 8 is smaller than n_iter=100. Running 8 iterations. For exhaustive searches, use GridSearchCV.\n",
            "  % (grid_size, self.n_iter, grid_size), UserWarning)\n",
            "[Parallel(n_jobs=-1)]: Using backend LokyBackend with 2 concurrent workers.\n",
            "[Parallel(n_jobs=-1)]: Done  24 out of  24 | elapsed:    3.7s finished\n"
          ],
          "name": "stderr"
        },
        {
          "output_type": "stream",
          "text": [
            "best Params\n",
            "{'kernel': 'linear', 'C': 0.1}\n",
            "              precision    recall  f1-score   support\n",
            "\n",
            "           0       0.72      0.78      0.75       100\n",
            "           1       0.76      0.70      0.73       100\n",
            "\n",
            "    accuracy                           0.74       200\n",
            "   macro avg       0.74      0.74      0.74       200\n",
            "weighted avg       0.74      0.74      0.74       200\n",
            "\n",
            "SVM_RBF(doc2vec) after HT+RS, Accuracy Score: 0.74\n"
          ],
          "name": "stdout"
        }
      ]
    },
    {
      "cell_type": "code",
      "metadata": {
        "colab": {
          "base_uri": "https://localhost:8080/",
          "height": 703
        },
        "id": "79H3-kJbZiPZ",
        "outputId": "2b70f02c-2a37-4f77-8186-ab75472fd6ff"
      },
      "source": [
        "from sklearn.metrics import confusion_matrix,classification_report,accuracy_score\n",
        "import seaborn as sns\n",
        "import pandas as pd\n",
        "import numpy as np\n",
        "labels=['0','1']\n",
        "f, ax = plt.subplots(figsize=(5,5))\n",
        "cm=confusion_matrix(yvalid,prediction)\n",
        "sns.heatmap(cm, annot=True,ax=ax,cmap=\"Blues\")\n",
        "#labels, title and ticks\n",
        "ax.set_xlabel('Predicted labels')\n",
        "ax.set_ylabel('True labels')\n",
        "score = rf_random.score(xvalid_d2v, yvalid)\n",
        "ax.set_title('Accuracy Score: {0} \\n Confusion Matrix'.format(np.round(score,2)))\n",
        "ax.xaxis.set_ticklabels(labels)\n",
        "ax.yaxis.set_ticklabels(labels)\n",
        "plt.show()\n",
        "f, ax = plt.subplots(figsize=(5,5))\n",
        "class_report=classification_report(yvalid,prediction,target_names=labels, output_dict=True)\n",
        "sns.heatmap(pd.DataFrame(class_report).iloc[:-1, :].T, annot=True,ax=ax,cmap=\"Blues\")\n",
        "ax.set_title('Classification Report')\n",
        "plt.show()"
      ],
      "execution_count": null,
      "outputs": [
        {
          "output_type": "display_data",
          "data": {
            "image/png": "[encoded data removed]",
            "text/plain": [
              "<Figure size 360x360 with 2 Axes>"
            ]
          },
          "metadata": {
            "tags": []
          }
        },
        {
          "output_type": "display_data",
          "data": {
            "image/png": "[encoded data removed]",
            "text/plain": [
              "<Figure size 360x360 with 2 Axes>"
            ]
          },
          "metadata": {
            "tags": []
          }
        }
      ]
    },
    {
      "cell_type": "markdown",
      "metadata": {
        "id": "LMeddclnfhzt"
      },
      "source": [
        "**2.Random Forest**"
      ]
    },
    {
      "cell_type": "code",
      "metadata": {
        "colab": {
          "base_uri": "https://localhost:8080/"
        },
        "id": "nSwCg7oWmIp0",
        "outputId": "703d74aa-78c3-40d3-bde7-c7e02c5d8311"
      },
      "source": [
        "rf = RandomForestClassifier(n_estimators=400, random_state=11).fit(xtrain_d2v, ytrain) \n",
        "prediction = rf.predict(xvalid_d2v)\n",
        "f1_score(yvalid, prediction)\n",
        "#classifiction Report\n",
        "\n",
        "report = classification_report( yvalid, prediction )\n",
        "print(report)\n",
        "acc1=accuracy_score(yvalid,prediction)\n",
        "\n",
        "print(\"RF(doc2vec), Accuracy Score:\",acc1)"
      ],
      "execution_count": null,
      "outputs": [
        {
          "output_type": "stream",
          "text": [
            "              precision    recall  f1-score   support\n",
            "\n",
            "           0       0.70      0.72      0.71       100\n",
            "           1       0.71      0.69      0.70       100\n",
            "\n",
            "    accuracy                           0.70       200\n",
            "   macro avg       0.71      0.70      0.70       200\n",
            "weighted avg       0.71      0.70      0.70       200\n",
            "\n",
            "RF(doc2vec), Accuracy Score: 0.705\n"
          ],
          "name": "stdout"
        }
      ]
    },
    {
      "cell_type": "markdown",
      "metadata": {
        "id": "XHnjMF27mdqS"
      },
      "source": [
        "**Hyper Parametr using Random Search**"
      ]
    },
    {
      "cell_type": "code",
      "metadata": {
        "colab": {
          "background_save": true,
          "base_uri": "https://localhost:8080/"
        },
        "id": "MIGbk_jEmI-_",
        "outputId": "7f0a0ee2-667a-43c8-9750-5125f84e47df"
      },
      "source": [
        "rf = RandomForestClassifier()\n",
        "#Number of trees in random forest\n",
        "n_estimators = [int(x) for x in np.linspace(start = 500, stop = 1000, num = 100)]\n",
        "# Number of features to consider at every split\n",
        "max_features = ['auto', 'sqrt']\n",
        "# Maximum number of levels in tree\n",
        "max_depth = [int(x) for x in np.linspace(10, 50, num = 10)]\n",
        "max_depth.append(None)\n",
        "# Minimum number of samples required to split a node\n",
        "min_samples_split = [2, 5, 10]\n",
        "# Minimum number of samples required at each leaf node\n",
        "min_samples_leaf = [1, 2, 4]\n",
        "# Method of selecting samples for training each tree\n",
        "bootstrap = [True]\n",
        "# Create the random grid\n",
        "random_grid = {'n_estimators': n_estimators,\n",
        "               'max_features': max_features,\n",
        "               'max_depth': max_depth,\n",
        "               'min_samples_split': min_samples_split,\n",
        "               'min_samples_leaf': min_samples_leaf,\n",
        "               'bootstrap': bootstrap}\n",
        "rf_random = RandomizedSearchCV(estimator = rf, param_distributions = random_grid, n_iter = 100, cv = 3, verbose=2, random_state=42, n_jobs = -1)\n",
        "# Fit the random search model\n",
        "rf_random.fit(xtrain_d2v, ytrain)\n",
        "\n",
        "print(\"best Params\")\n",
        "print(rf_random.best_params_)\n",
        "\n",
        "prediction = rf_random.predict(xvalid_d2v)\n",
        "\n",
        "#classifiction Report\n",
        "report = classification_report( yvalid, prediction )\n",
        "print(report)\n",
        "acc1=accuracy_score(yvalid,prediction)\n",
        "\n",
        "print(\"RF(Doc2vec) after HT+RS, Accuracy Score:\",acc1)"
      ],
      "execution_count": null,
      "outputs": [
        {
          "output_type": "stream",
          "text": [
            "Fitting 3 folds for each of 100 candidates, totalling 300 fits\n"
          ],
          "name": "stdout"
        },
        {
          "output_type": "stream",
          "text": [
            "[Parallel(n_jobs=-1)]: Using backend LokyBackend with 2 concurrent workers.\n",
            "[Parallel(n_jobs=-1)]: Done  37 tasks      | elapsed:  1.7min\n",
            "[Parallel(n_jobs=-1)]: Done 158 tasks      | elapsed:  7.0min\n",
            "[Parallel(n_jobs=-1)]: Done 300 out of 300 | elapsed: 13.3min finished\n"
          ],
          "name": "stderr"
        },
        {
          "output_type": "stream",
          "text": [
            "best Params\n",
            "{'n_estimators': 954, 'min_samples_split': 10, 'min_samples_leaf': 4, 'max_features': 'sqrt', 'max_depth': 18, 'bootstrap': True}\n",
            "              precision    recall  f1-score   support\n",
            "\n",
            "           0       0.70      0.72      0.71       100\n",
            "           1       0.71      0.69      0.70       100\n",
            "\n",
            "    accuracy                           0.70       200\n",
            "   macro avg       0.71      0.70      0.70       200\n",
            "weighted avg       0.71      0.70      0.70       200\n",
            "\n",
            "RF(Doc2vec) after HT+RS, Accuracy Score: 0.705\n"
          ],
          "name": "stdout"
        }
      ]
    },
    {
      "cell_type": "markdown",
      "metadata": {
        "id": "GT0U1zmxmm2N"
      },
      "source": [
        "**Accuracy and Confusion Matrix**"
      ]
    },
    {
      "cell_type": "code",
      "metadata": {
        "colab": {
          "background_save": true
        },
        "id": "tmeBA5yRmJME",
        "outputId": "6a8480d7-1b95-453f-e80b-83ef237cc6a6"
      },
      "source": [
        "from sklearn.metrics import confusion_matrix,classification_report,accuracy_score\n",
        "import seaborn as sns\n",
        "import pandas as pd\n",
        "import numpy as np\n",
        "labels=['0','1']\n",
        "f, ax = plt.subplots(figsize=(5,5))\n",
        "cm=confusion_matrix(yvalid,prediction)\n",
        "sns.heatmap(cm, annot=True,ax=ax,cmap=\"Blues\")\n",
        "#labels, title and ticks\n",
        "ax.set_xlabel('Predicted labels')\n",
        "ax.set_ylabel('True labels')\n",
        "score = rf_random.score(xvalid_w2v, yvalid)\n",
        "ax.set_title('Accuracy Score: {0} \\n Confusion Matrix'.format(np.round(score,2)))\n",
        "ax.xaxis.set_ticklabels(labels)\n",
        "ax.yaxis.set_ticklabels(labels)\n",
        "plt.show()\n",
        "f, ax = plt.subplots(figsize=(5,5))\n",
        "class_report=classification_report(yvalid,prediction,target_names=labels, output_dict=True)\n",
        "sns.heatmap(pd.DataFrame(class_report).iloc[:-1, :].T, annot=True,ax=ax,cmap=\"Blues\")\n",
        "ax.set_title('Classification Report')\n",
        "plt.show()"
      ],
      "execution_count": null,
      "outputs": [
        {
          "output_type": "display_data",
          "data": {
            "image/png": "[encoded data removed]",
            "text/plain": [
              "<Figure size 360x360 with 2 Axes>"
            ]
          },
          "metadata": {
            "tags": []
          }
        },
        {
          "output_type": "display_data",
          "data": {
            "image/png": "[encoded data removed]",
            "text/plain": [
              "<Figure size 360x360 with 2 Axes>"
            ]
          },
          "metadata": {
            "tags": []
          }
        }
      ]
    },
    {
      "cell_type": "markdown",
      "metadata": {
        "id": "YVuqNnlmmw8Z"
      },
      "source": [
        "**Hyper Parameter Tuning Using Grid Search**"
      ]
    },
    {
      "cell_type": "code",
      "metadata": {
        "id": "suQe1CaXmJa2"
      },
      "source": [
        "# Create the parameter grid \n",
        "param_grid = {\n",
        "    'bootstrap': [True],\n",
        "    'max_depth': [80, 90, 100, 110],\n",
        "    'max_features': [2, 3],\n",
        "    'min_samples_leaf': [3, 4, 5],\n",
        "    'min_samples_split': [8, 10, 12],\n",
        "    'n_estimators': [100, 50, 300, 1000]\n",
        "}\n",
        "# Create a based model\n",
        "rf = RandomForestClassifier()\n",
        "# Instantiate the grid search model\n",
        "grid_search = GridSearchCV(estimator = rf, param_grid = param_grid,cv = 3, n_jobs = -1, verbose = 2)\n",
        "# Fit the grid search to the data\n",
        "grid_search.fit(xtrain_d2v, ytrain)\n",
        "print(grid_search.best_params_)\n",
        "prediction = grid_search.predict(xvalid_d2v)\n",
        "\n",
        "#classifiction Report\n",
        "\n",
        "report = classification_report( yvalid, prediction )\n",
        "print(report)\n",
        "acc1=accuracy_score(yvalid,prediction)\n",
        "\n",
        "print(\"RF(doc2vec) after HT+GD, Accuracy Score:\",acc1)"
      ],
      "execution_count": null,
      "outputs": []
    },
    {
      "cell_type": "markdown",
      "metadata": {
        "id": "XUR9QG2Hm8Ba"
      },
      "source": [
        "**Accuracy and Confusion Matrix**"
      ]
    },
    {
      "cell_type": "code",
      "metadata": {
        "id": "4CJssX4HnAt5"
      },
      "source": [
        "from sklearn.metrics import confusion_matrix,classification_report,accuracy_score\n",
        "import seaborn as sns\n",
        "import pandas as pd\n",
        "import numpy as np\n",
        "labels=['0','1']\n",
        "f, ax = plt.subplots(figsize=(5,5))\n",
        "cm=confusion_matrix(yvalid,prediction)\n",
        "sns.heatmap(cm, annot=True,ax=ax,cmap=\"Blues\")\n",
        "#labels, title and ticks\n",
        "ax.set_xlabel('Predicted labels')\n",
        "ax.set_ylabel('True labels')\n",
        "score = grid_search.score(xvalid_d2v, yvalid)\n",
        "ax.set_title('Accuracy Score: {0} \\n Confusion Matrix'.format(np.round(score,2)))\n",
        "ax.xaxis.set_ticklabels(labels)\n",
        "ax.yaxis.set_ticklabels(labels)\n",
        "plt.show()\n",
        "f, ax = plt.subplots(figsize=(5,5))\n",
        "class_report=classification_report(yvalid,prediction,target_names=labels, output_dict=True)\n",
        "sns.heatmap(pd.DataFrame(class_report).iloc[:-1, :].T, annot=True,ax=ax,cmap=\"Blues\")\n",
        "ax.set_title('Classification Report')\n",
        "plt.show()"
      ],
      "execution_count": null,
      "outputs": []
    },
    {
      "cell_type": "markdown",
      "metadata": {
        "id": "z5dLIGO3wXeV"
      },
      "source": [
        "**3. LSTM**"
      ]
    },
    {
      "cell_type": "code",
      "metadata": {
        "colab": {
          "base_uri": "https://localhost:8080/",
          "height": 834
        },
        "id": "-Mkt0Nk3wZXM",
        "outputId": "504d58d7-db80-45fb-e84b-00f1c87afb40"
      },
      "source": [
        "model = Sequential()\n",
        "model.add(Embedding(500, 120, input_length = xtrain_d2v.shape[1]))\n",
        "model.add(SpatialDropout1D(0.4))\n",
        "model.add(LSTM(176, dropout=0.2, recurrent_dropout=0.2))\n",
        "model.add(Dense(1,activation='softmax'))\n",
        "model.compile(loss = 'binary_crossentropy', optimizer='adam', metrics = ['accuracy'])\n",
        "print(model.summary())\n",
        "batch_size=32\n",
        "model.fit(xtrain_d2v, ytrain, epochs = 10, batch_size=batch_size, verbose = 'auto')"
      ],
      "execution_count": null,
      "outputs": [
        {
          "output_type": "stream",
          "text": [
            "Model: \"sequential_42\"\n",
            "_________________________________________________________________\n",
            "Layer (type)                 Output Shape              Param #   \n",
            "=================================================================\n",
            "embedding_42 (Embedding)     (None, 200, 120)          60000     \n",
            "_________________________________________________________________\n",
            "spatial_dropout1d_1 (Spatial (None, 200, 120)          0         \n",
            "_________________________________________________________________\n",
            "lstm_42 (LSTM)               (None, 176)               209088    \n",
            "_________________________________________________________________\n",
            "dense_122 (Dense)            (None, 1)                 177       \n",
            "=================================================================\n",
            "Total params: 269,265\n",
            "Trainable params: 269,265\n",
            "Non-trainable params: 0\n",
            "_________________________________________________________________\n",
            "None\n",
            "Epoch 1/10\n",
            "12/23 [==============>...............] - ETA: 9s - loss: 0.6954 - accuracy: 0.5063 "
          ],
          "name": "stdout"
        },
        {
          "output_type": "error",
          "ename": "InvalidArgumentError",
          "evalue": "ignored",
          "traceback": [
            "\u001b[0;31m---------------------------------------------------------------------------\u001b[0m",
            "\u001b[0;31mInvalidArgumentError\u001b[0m                      Traceback (most recent call last)",
            "\u001b[0;32m<ipython-input-97-80af7d95434c>\u001b[0m in \u001b[0;36m<module>\u001b[0;34m()\u001b[0m\n\u001b[1;32m      7\u001b[0m \u001b[0mprint\u001b[0m\u001b[0;34m(\u001b[0m\u001b[0mmodel\u001b[0m\u001b[0;34m.\u001b[0m\u001b[0msummary\u001b[0m\u001b[0;34m(\u001b[0m\u001b[0;34m)\u001b[0m\u001b[0;34m)\u001b[0m\u001b[0;34m\u001b[0m\u001b[0;34m\u001b[0m\u001b[0m\n\u001b[1;32m      8\u001b[0m \u001b[0mbatch_size\u001b[0m\u001b[0;34m=\u001b[0m\u001b[0;36m32\u001b[0m\u001b[0;34m\u001b[0m\u001b[0;34m\u001b[0m\u001b[0m\n\u001b[0;32m----> 9\u001b[0;31m \u001b[0mmodel\u001b[0m\u001b[0;34m.\u001b[0m\u001b[0mfit\u001b[0m\u001b[0;34m(\u001b[0m\u001b[0mxtrain_d2v\u001b[0m\u001b[0;34m,\u001b[0m \u001b[0mytrain\u001b[0m\u001b[0;34m,\u001b[0m \u001b[0mepochs\u001b[0m \u001b[0;34m=\u001b[0m \u001b[0;36m10\u001b[0m\u001b[0;34m,\u001b[0m \u001b[0mbatch_size\u001b[0m\u001b[0;34m=\u001b[0m\u001b[0mbatch_size\u001b[0m\u001b[0;34m,\u001b[0m \u001b[0mverbose\u001b[0m \u001b[0;34m=\u001b[0m \u001b[0;34m'auto'\u001b[0m\u001b[0;34m)\u001b[0m\u001b[0;34m\u001b[0m\u001b[0;34m\u001b[0m\u001b[0m\n\u001b[0m",
            "\u001b[0;32m/usr/local/lib/python3.7/dist-packages/keras/engine/training.py\u001b[0m in \u001b[0;36mfit\u001b[0;34m(self, x, y, batch_size, epochs, verbose, callbacks, validation_split, validation_data, shuffle, class_weight, sample_weight, initial_epoch, steps_per_epoch, validation_steps, validation_batch_size, validation_freq, max_queue_size, workers, use_multiprocessing)\u001b[0m\n\u001b[1;32m   1156\u001b[0m                 _r=1):\n\u001b[1;32m   1157\u001b[0m               \u001b[0mcallbacks\u001b[0m\u001b[0;34m.\u001b[0m\u001b[0mon_train_batch_begin\u001b[0m\u001b[0;34m(\u001b[0m\u001b[0mstep\u001b[0m\u001b[0;34m)\u001b[0m\u001b[0;34m\u001b[0m\u001b[0;34m\u001b[0m\u001b[0m\n\u001b[0;32m-> 1158\u001b[0;31m               \u001b[0mtmp_logs\u001b[0m \u001b[0;34m=\u001b[0m \u001b[0mself\u001b[0m\u001b[0;34m.\u001b[0m\u001b[0mtrain_function\u001b[0m\u001b[0;34m(\u001b[0m\u001b[0miterator\u001b[0m\u001b[0;34m)\u001b[0m\u001b[0;34m\u001b[0m\u001b[0;34m\u001b[0m\u001b[0m\n\u001b[0m\u001b[1;32m   1159\u001b[0m               \u001b[0;32mif\u001b[0m \u001b[0mdata_handler\u001b[0m\u001b[0;34m.\u001b[0m\u001b[0mshould_sync\u001b[0m\u001b[0;34m:\u001b[0m\u001b[0;34m\u001b[0m\u001b[0;34m\u001b[0m\u001b[0m\n\u001b[1;32m   1160\u001b[0m                 \u001b[0mcontext\u001b[0m\u001b[0;34m.\u001b[0m\u001b[0masync_wait\u001b[0m\u001b[0;34m(\u001b[0m\u001b[0;34m)\u001b[0m\u001b[0;34m\u001b[0m\u001b[0;34m\u001b[0m\u001b[0m\n",
            "\u001b[0;32m/usr/local/lib/python3.7/dist-packages/tensorflow/python/eager/def_function.py\u001b[0m in \u001b[0;36m__call__\u001b[0;34m(self, *args, **kwds)\u001b[0m\n\u001b[1;32m    887\u001b[0m \u001b[0;34m\u001b[0m\u001b[0m\n\u001b[1;32m    888\u001b[0m       \u001b[0;32mwith\u001b[0m \u001b[0mOptionalXlaContext\u001b[0m\u001b[0;34m(\u001b[0m\u001b[0mself\u001b[0m\u001b[0;34m.\u001b[0m\u001b[0m_jit_compile\u001b[0m\u001b[0;34m)\u001b[0m\u001b[0;34m:\u001b[0m\u001b[0;34m\u001b[0m\u001b[0;34m\u001b[0m\u001b[0m\n\u001b[0;32m--> 889\u001b[0;31m         \u001b[0mresult\u001b[0m \u001b[0;34m=\u001b[0m \u001b[0mself\u001b[0m\u001b[0;34m.\u001b[0m\u001b[0m_call\u001b[0m\u001b[0;34m(\u001b[0m\u001b[0;34m*\u001b[0m\u001b[0margs\u001b[0m\u001b[0;34m,\u001b[0m \u001b[0;34m**\u001b[0m\u001b[0mkwds\u001b[0m\u001b[0;34m)\u001b[0m\u001b[0;34m\u001b[0m\u001b[0;34m\u001b[0m\u001b[0m\n\u001b[0m\u001b[1;32m    890\u001b[0m \u001b[0;34m\u001b[0m\u001b[0m\n\u001b[1;32m    891\u001b[0m       \u001b[0mnew_tracing_count\u001b[0m \u001b[0;34m=\u001b[0m \u001b[0mself\u001b[0m\u001b[0;34m.\u001b[0m\u001b[0mexperimental_get_tracing_count\u001b[0m\u001b[0;34m(\u001b[0m\u001b[0;34m)\u001b[0m\u001b[0;34m\u001b[0m\u001b[0;34m\u001b[0m\u001b[0m\n",
            "\u001b[0;32m/usr/local/lib/python3.7/dist-packages/tensorflow/python/eager/def_function.py\u001b[0m in \u001b[0;36m_call\u001b[0;34m(self, *args, **kwds)\u001b[0m\n\u001b[1;32m    915\u001b[0m       \u001b[0;31m# In this case we have created variables on the first call, so we run the\u001b[0m\u001b[0;34m\u001b[0m\u001b[0;34m\u001b[0m\u001b[0;34m\u001b[0m\u001b[0m\n\u001b[1;32m    916\u001b[0m       \u001b[0;31m# defunned version which is guaranteed to never create variables.\u001b[0m\u001b[0;34m\u001b[0m\u001b[0;34m\u001b[0m\u001b[0;34m\u001b[0m\u001b[0m\n\u001b[0;32m--> 917\u001b[0;31m       \u001b[0;32mreturn\u001b[0m \u001b[0mself\u001b[0m\u001b[0;34m.\u001b[0m\u001b[0m_stateless_fn\u001b[0m\u001b[0;34m(\u001b[0m\u001b[0;34m*\u001b[0m\u001b[0margs\u001b[0m\u001b[0;34m,\u001b[0m \u001b[0;34m**\u001b[0m\u001b[0mkwds\u001b[0m\u001b[0;34m)\u001b[0m  \u001b[0;31m# pylint: disable=not-callable\u001b[0m\u001b[0;34m\u001b[0m\u001b[0;34m\u001b[0m\u001b[0m\n\u001b[0m\u001b[1;32m    918\u001b[0m     \u001b[0;32melif\u001b[0m \u001b[0mself\u001b[0m\u001b[0;34m.\u001b[0m\u001b[0m_stateful_fn\u001b[0m \u001b[0;32mis\u001b[0m \u001b[0;32mnot\u001b[0m \u001b[0;32mNone\u001b[0m\u001b[0;34m:\u001b[0m\u001b[0;34m\u001b[0m\u001b[0;34m\u001b[0m\u001b[0m\n\u001b[1;32m    919\u001b[0m       \u001b[0;31m# Release the lock early so that multiple threads can perform the call\u001b[0m\u001b[0;34m\u001b[0m\u001b[0;34m\u001b[0m\u001b[0;34m\u001b[0m\u001b[0m\n",
            "\u001b[0;32m/usr/local/lib/python3.7/dist-packages/tensorflow/python/eager/function.py\u001b[0m in \u001b[0;36m__call__\u001b[0;34m(self, *args, **kwargs)\u001b[0m\n\u001b[1;32m   3022\u001b[0m        filtered_flat_args) = self._maybe_define_function(args, kwargs)\n\u001b[1;32m   3023\u001b[0m     return graph_function._call_flat(\n\u001b[0;32m-> 3024\u001b[0;31m         filtered_flat_args, captured_inputs=graph_function.captured_inputs)  # pylint: disable=protected-access\n\u001b[0m\u001b[1;32m   3025\u001b[0m \u001b[0;34m\u001b[0m\u001b[0m\n\u001b[1;32m   3026\u001b[0m   \u001b[0;34m@\u001b[0m\u001b[0mproperty\u001b[0m\u001b[0;34m\u001b[0m\u001b[0;34m\u001b[0m\u001b[0m\n",
            "\u001b[0;32m/usr/local/lib/python3.7/dist-packages/tensorflow/python/eager/function.py\u001b[0m in \u001b[0;36m_call_flat\u001b[0;34m(self, args, captured_inputs, cancellation_manager)\u001b[0m\n\u001b[1;32m   1959\u001b[0m       \u001b[0;31m# No tape is watching; skip to running the function.\u001b[0m\u001b[0;34m\u001b[0m\u001b[0;34m\u001b[0m\u001b[0;34m\u001b[0m\u001b[0m\n\u001b[1;32m   1960\u001b[0m       return self._build_call_outputs(self._inference_function.call(\n\u001b[0;32m-> 1961\u001b[0;31m           ctx, args, cancellation_manager=cancellation_manager))\n\u001b[0m\u001b[1;32m   1962\u001b[0m     forward_backward = self._select_forward_and_backward_functions(\n\u001b[1;32m   1963\u001b[0m         \u001b[0margs\u001b[0m\u001b[0;34m,\u001b[0m\u001b[0;34m\u001b[0m\u001b[0;34m\u001b[0m\u001b[0m\n",
            "\u001b[0;32m/usr/local/lib/python3.7/dist-packages/tensorflow/python/eager/function.py\u001b[0m in \u001b[0;36mcall\u001b[0;34m(self, ctx, args, cancellation_manager)\u001b[0m\n\u001b[1;32m    594\u001b[0m               \u001b[0minputs\u001b[0m\u001b[0;34m=\u001b[0m\u001b[0margs\u001b[0m\u001b[0;34m,\u001b[0m\u001b[0;34m\u001b[0m\u001b[0;34m\u001b[0m\u001b[0m\n\u001b[1;32m    595\u001b[0m               \u001b[0mattrs\u001b[0m\u001b[0;34m=\u001b[0m\u001b[0mattrs\u001b[0m\u001b[0;34m,\u001b[0m\u001b[0;34m\u001b[0m\u001b[0;34m\u001b[0m\u001b[0m\n\u001b[0;32m--> 596\u001b[0;31m               ctx=ctx)\n\u001b[0m\u001b[1;32m    597\u001b[0m         \u001b[0;32melse\u001b[0m\u001b[0;34m:\u001b[0m\u001b[0;34m\u001b[0m\u001b[0;34m\u001b[0m\u001b[0m\n\u001b[1;32m    598\u001b[0m           outputs = execute.execute_with_cancellation(\n",
            "\u001b[0;32m/usr/local/lib/python3.7/dist-packages/tensorflow/python/eager/execute.py\u001b[0m in \u001b[0;36mquick_execute\u001b[0;34m(op_name, num_outputs, inputs, attrs, ctx, name)\u001b[0m\n\u001b[1;32m     58\u001b[0m     \u001b[0mctx\u001b[0m\u001b[0;34m.\u001b[0m\u001b[0mensure_initialized\u001b[0m\u001b[0;34m(\u001b[0m\u001b[0;34m)\u001b[0m\u001b[0;34m\u001b[0m\u001b[0;34m\u001b[0m\u001b[0m\n\u001b[1;32m     59\u001b[0m     tensors = pywrap_tfe.TFE_Py_Execute(ctx._handle, device_name, op_name,\n\u001b[0;32m---> 60\u001b[0;31m                                         inputs, attrs, num_outputs)\n\u001b[0m\u001b[1;32m     61\u001b[0m   \u001b[0;32mexcept\u001b[0m \u001b[0mcore\u001b[0m\u001b[0;34m.\u001b[0m\u001b[0m_NotOkStatusException\u001b[0m \u001b[0;32mas\u001b[0m \u001b[0me\u001b[0m\u001b[0;34m:\u001b[0m\u001b[0;34m\u001b[0m\u001b[0;34m\u001b[0m\u001b[0m\n\u001b[1;32m     62\u001b[0m     \u001b[0;32mif\u001b[0m \u001b[0mname\u001b[0m \u001b[0;32mis\u001b[0m \u001b[0;32mnot\u001b[0m \u001b[0;32mNone\u001b[0m\u001b[0;34m:\u001b[0m\u001b[0;34m\u001b[0m\u001b[0;34m\u001b[0m\u001b[0m\n",
            "\u001b[0;31mInvalidArgumentError\u001b[0m:  indices[6,101] = -1 is not in [0, 500)\n\t [[node sequential_42/embedding_42/embedding_lookup (defined at /usr/local/lib/python3.7/dist-packages/keras/layers/embeddings.py:184) ]] [Op:__inference_train_function_157286]\n\nErrors may have originated from an input operation.\nInput Source operations connected to node sequential_42/embedding_42/embedding_lookup:\n sequential_42/embedding_42/embedding_lookup/155508 (defined at /usr/lib/python3.7/contextlib.py:112)\t\n sequential_42/embedding_42/Cast (defined at /usr/local/lib/python3.7/dist-packages/keras/layers/embeddings.py:183)\n\nFunction call stack:\ntrain_function\n"
          ]
        }
      ]
    },
    {
      "cell_type": "markdown",
      "metadata": {
        "id": "fzSBfP2pfiLK"
      },
      "source": [
        "#BOW"
      ]
    },
    {
      "cell_type": "markdown",
      "metadata": {
        "id": "dfvHaBcUgvyF"
      },
      "source": [
        "**1. SVM-RBF** **bold text**"
      ]
    },
    {
      "cell_type": "markdown",
      "metadata": {
        "id": "XuDgOB0Ug9J6"
      },
      "source": [
        "**Hyper Parameter Tuning using Grid Search**"
      ]
    },
    {
      "cell_type": "code",
      "metadata": {
        "colab": {
          "base_uri": "https://localhost:8080/"
        },
        "id": "mpvM3bJrZid_",
        "outputId": "ea799f13-6247-4b35-8602-dcae3c85bba2"
      },
      "source": [
        "svc = svm.SVC()\n",
        "parameters = [{'C': [1,10,50,100], 'kernel': ['linear','rbf']}]\n",
        "grid_search = GridSearchCV(estimator= svc,\n",
        "                          param_grid = parameters, scoring = 'accuracy',cv = 10)\n",
        "grid_search = grid_search.fit(xtrain_bow, ytrain)\n",
        "grid_search.best_params_\n",
        "prediction = grid_search.predict(xvalid_bow) \n",
        "\n",
        "#classifiction Report\n",
        "\n",
        "report = classification_report( yvalid, prediction)\n",
        "print(report)\n",
        "acc1=accuracy_score(yvalid,prediction)\n",
        "\n",
        "\n",
        "print(\"SVM_RBF(BOW) after HT+GS, Accuracy Score:\",acc1)"
      ],
      "execution_count": null,
      "outputs": [
        {
          "output_type": "stream",
          "text": [
            "              precision    recall  f1-score   support\n",
            "\n",
            "           0       0.70      0.85      0.77        99\n",
            "           1       0.75      0.56      0.64        81\n",
            "\n",
            "    accuracy                           0.72       180\n",
            "   macro avg       0.72      0.70      0.70       180\n",
            "weighted avg       0.72      0.72      0.71       180\n",
            "\n",
            "SVM_RBF(BOW) after HT+GS, Accuracy Score: 0.7166666666666667\n"
          ],
          "name": "stdout"
        }
      ]
    },
    {
      "cell_type": "markdown",
      "metadata": {
        "id": "757c83cihZPj"
      },
      "source": [
        "**Accuracy or Confusion Matrix**"
      ]
    },
    {
      "cell_type": "code",
      "metadata": {
        "colab": {
          "base_uri": "https://localhost:8080/",
          "height": 703
        },
        "id": "ROjUhIfKaEg3",
        "outputId": "28774697-400f-46e8-bbe7-9c360b785406"
      },
      "source": [
        "from sklearn.metrics import confusion_matrix,classification_report,accuracy_score\n",
        "import seaborn as sns\n",
        "import pandas as pd\n",
        "import numpy as np\n",
        "labels=['0','1']\n",
        "f, ax = plt.subplots(figsize=(5,5))\n",
        "cm=confusion_matrix(yvalid,prediction)\n",
        "sns.heatmap(cm, annot=True,ax=ax,cmap=\"Blues\")\n",
        "#labels, title and ticks\n",
        "ax.set_xlabel('Predicted labels')\n",
        "ax.set_ylabel('True labels')\n",
        "score = grid_search.score(xvalid_bow, yvalid)\n",
        "ax.set_title('Accuracy Score: {0} \\n Confusion Matrix'.format(np.round(score,2)))\n",
        "ax.xaxis.set_ticklabels(labels)\n",
        "ax.yaxis.set_ticklabels(labels)\n",
        "plt.show()\n",
        "f, ax = plt.subplots(figsize=(5,5))\n",
        "class_report=classification_report(yvalid,prediction,target_names=labels, output_dict=True)\n",
        "sns.heatmap(pd.DataFrame(class_report).iloc[:-1, :].T, annot=True,ax=ax,cmap=\"Blues\")\n",
        "ax.set_title('Classification Report')\n",
        "plt.show()"
      ],
      "execution_count": null,
      "outputs": [
        {
          "output_type": "display_data",
          "data": {
            "image/png": "[encoded data removed]",
            "text/plain": [
              "<Figure size 360x360 with 2 Axes>"
            ]
          },
          "metadata": {
            "tags": []
          }
        },
        {
          "output_type": "display_data",
          "data": {
            "image/png": "[encoded data removed]",
            "text/plain": [
              "<Figure size 360x360 with 2 Axes>"
            ]
          },
          "metadata": {
            "tags": []
          }
        }
      ]
    },
    {
      "cell_type": "markdown",
      "metadata": {
        "id": "eAAUy61Bhd9V"
      },
      "source": [
        "**Hyper Parameter Tuning using Random Search**"
      ]
    },
    {
      "cell_type": "code",
      "metadata": {
        "colab": {
          "base_uri": "https://localhost:8080/"
        },
        "id": "EbRd8Sc6aJrO",
        "outputId": "7fafd653-dfea-45e5-f9b4-e2e92296a3db"
      },
      "source": [
        "svc = svm.SVC()\n",
        "\n",
        "# Create the random grid\n",
        "random_grid = {'C': [1,10,100], \n",
        "              'kernel': ['linear','rbf']}\n",
        "              \n",
        "rf_random = RandomizedSearchCV(estimator = svc, param_distributions = random_grid, n_iter = 100, cv = 3, verbose=2, random_state=42, n_jobs = -1)\n",
        "# Fit the random search model\n",
        "rf_random.fit(xtrain_bow, ytrain)\n",
        "print(rf_random.best_params_)\n",
        "prediction = rf_random.predict(xvalid_bow) \n",
        "\n",
        "#classifiction Report\n",
        "\n",
        "report = classification_report( yvalid, prediction)\n",
        "print(report)\n",
        "acc1=accuracy_score(yvalid,prediction)\n",
        "\n",
        "print(\"SVM(bow) after HT+RS, Accuracy Score:\",acc1)"
      ],
      "execution_count": null,
      "outputs": [
        {
          "output_type": "stream",
          "text": [
            "Fitting 3 folds for each of 6 candidates, totalling 18 fits\n"
          ],
          "name": "stdout"
        },
        {
          "output_type": "stream",
          "text": [
            "/usr/local/lib/python3.7/dist-packages/sklearn/model_selection/_search.py:281: UserWarning: The total space of parameters 6 is smaller than n_iter=100. Running 6 iterations. For exhaustive searches, use GridSearchCV.\n",
            "  % (grid_size, self.n_iter, grid_size), UserWarning)\n",
            "[Parallel(n_jobs=-1)]: Using backend LokyBackend with 2 concurrent workers.\n"
          ],
          "name": "stderr"
        },
        {
          "output_type": "stream",
          "text": [
            "{'kernel': 'rbf', 'C': 1}\n",
            "              precision    recall  f1-score   support\n",
            "\n",
            "           0       0.70      0.85      0.77        99\n",
            "           1       0.75      0.56      0.64        81\n",
            "\n",
            "    accuracy                           0.72       180\n",
            "   macro avg       0.72      0.70      0.70       180\n",
            "weighted avg       0.72      0.72      0.71       180\n",
            "\n",
            "SVM(bow) after HT+RS, Accuracy Score: 0.7166666666666667\n"
          ],
          "name": "stdout"
        },
        {
          "output_type": "stream",
          "text": [
            "[Parallel(n_jobs=-1)]: Done  18 out of  18 | elapsed:    1.9s finished\n"
          ],
          "name": "stderr"
        }
      ]
    },
    {
      "cell_type": "markdown",
      "metadata": {
        "id": "c0rLZtKchkC6"
      },
      "source": [
        "**Accuracy or Confusion Matrix**"
      ]
    },
    {
      "cell_type": "code",
      "metadata": {
        "colab": {
          "base_uri": "https://localhost:8080/",
          "height": 703
        },
        "id": "inB01I0uaJ37",
        "outputId": "fddc090b-d0b7-40db-929f-78dcc29c1df1"
      },
      "source": [
        "from sklearn.metrics import confusion_matrix,classification_report,accuracy_score\n",
        "import seaborn as sns\n",
        "import pandas as pd\n",
        "import numpy as np\n",
        "labels=['0','1']\n",
        "f, ax = plt.subplots(figsize=(5,5))\n",
        "cm=confusion_matrix(yvalid,prediction)\n",
        "sns.heatmap(cm, annot=True,ax=ax,cmap=\"Blues\")\n",
        "#labels, title and ticks\n",
        "ax.set_xlabel('Predicted labels')\n",
        "ax.set_ylabel('True labels')\n",
        "score = rf_random.score(xvalid_bow, yvalid)\n",
        "ax.set_title('Accuracy Score: {0} \\n Confusion Matrix'.format(np.round(score,2)))\n",
        "ax.xaxis.set_ticklabels(labels)\n",
        "ax.yaxis.set_ticklabels(labels)\n",
        "plt.show()\n",
        "f, ax = plt.subplots(figsize=(5,5))\n",
        "class_report=classification_report(yvalid,prediction,target_names=labels, output_dict=True)\n",
        "sns.heatmap(pd.DataFrame(class_report).iloc[:-1, :].T, annot=True,ax=ax,cmap=\"Blues\")\n",
        "ax.set_title('Classification Report')\n",
        "plt.show()"
      ],
      "execution_count": null,
      "outputs": [
        {
          "output_type": "display_data",
          "data": {
            "image/png": "[encoded data removed]",
            "text/plain": [
              "<Figure size 360x360 with 2 Axes>"
            ]
          },
          "metadata": {
            "tags": []
          }
        },
        {
          "output_type": "display_data",
          "data": {
            "image/png": "[encoded data removed]",
            "text/plain": [
              "<Figure size 360x360 with 2 Axes>"
            ]
          },
          "metadata": {
            "tags": []
          }
        }
      ]
    },
    {
      "cell_type": "markdown",
      "metadata": {
        "id": "mmqqMd3MnOB6"
      },
      "source": [
        "**2. Random Forest**"
      ]
    },
    {
      "cell_type": "markdown",
      "metadata": {
        "id": "cZefsKTjnQ0F"
      },
      "source": [
        "**Hyper Parameter using grid search**"
      ]
    },
    {
      "cell_type": "code",
      "metadata": {
        "colab": {
          "base_uri": "https://localhost:8080/"
        },
        "id": "Yhsd_x5fnUIJ",
        "outputId": "5c6c61ca-5ce5-44d1-c5f4-7e83ee634039"
      },
      "source": [
        "from sklearn.ensemble import RandomForestClassifier\n",
        "# Create the parameter grid \n",
        "param_grid = {\n",
        "    'bootstrap': [True],\n",
        "    'max_depth': [80, 90, 100, 110],\n",
        "    'max_features': [2, 3],\n",
        "    'min_samples_leaf': [3, 4, 5],\n",
        "    'min_samples_split': [8, 10, 12],\n",
        "    'n_estimators': [100, 50, 300, 1000]\n",
        "}\n",
        "# Create a based model\n",
        "rf = RandomForestClassifier()\n",
        "# Instantiate the grid search model\n",
        "grid_search = GridSearchCV(estimator = rf, param_grid = param_grid,cv = 3, n_jobs = -1, verbose = 2)\n",
        "# Fit the grid search to the data\n",
        "grid_search.fit(xtrain_bow, ytrain)\n",
        "print(grid_search.best_params_)\n",
        "prediction = grid_search.predict(xvalid_bow)\n",
        "\n",
        "#classifiction Report\n",
        "\n",
        "report = classification_report( yvalid, prediction )\n",
        "print(report)\n",
        "acc1=accuracy_score(yvalid,prediction)\n",
        "\n",
        "print(\"RF(Bow) after HT+GD, Accuracy Score:\",acc1)"
      ],
      "execution_count": null,
      "outputs": [
        {
          "output_type": "stream",
          "text": [
            "Fitting 3 folds for each of 288 candidates, totalling 864 fits\n"
          ],
          "name": "stdout"
        },
        {
          "output_type": "stream",
          "text": [
            "[Parallel(n_jobs=-1)]: Using backend LokyBackend with 2 concurrent workers.\n",
            "[Parallel(n_jobs=-1)]: Done  37 tasks      | elapsed:   15.8s\n",
            "[Parallel(n_jobs=-1)]: Done 158 tasks      | elapsed:  1.2min\n",
            "[Parallel(n_jobs=-1)]: Done 361 tasks      | elapsed:  2.7min\n",
            "[Parallel(n_jobs=-1)]: Done 644 tasks      | elapsed:  4.8min\n"
          ],
          "name": "stderr"
        },
        {
          "output_type": "stream",
          "text": [
            "{'bootstrap': True, 'max_depth': 80, 'max_features': 3, 'min_samples_leaf': 3, 'min_samples_split': 10, 'n_estimators': 50}\n",
            "              precision    recall  f1-score   support\n",
            "\n",
            "           0       0.59      0.96      0.73        99\n",
            "           1       0.78      0.17      0.28        81\n",
            "\n",
            "    accuracy                           0.61       180\n",
            "   macro avg       0.68      0.57      0.51       180\n",
            "weighted avg       0.67      0.61      0.53       180\n",
            "\n",
            "RF(Bow) after HT+GD, Accuracy Score: 0.6055555555555555\n"
          ],
          "name": "stdout"
        },
        {
          "output_type": "stream",
          "text": [
            "[Parallel(n_jobs=-1)]: Done 864 out of 864 | elapsed:  6.5min finished\n"
          ],
          "name": "stderr"
        }
      ]
    },
    {
      "cell_type": "markdown",
      "metadata": {
        "id": "arA5HbrvnbDX"
      },
      "source": [
        "**Accuracy and Confusion Matrix**"
      ]
    },
    {
      "cell_type": "code",
      "metadata": {
        "colab": {
          "base_uri": "https://localhost:8080/",
          "height": 703
        },
        "id": "ywbQ6MYnnaNs",
        "outputId": "a07a9915-54c1-4dd7-b4f9-bfb0a093e499"
      },
      "source": [
        "from sklearn.metrics import confusion_matrix,classification_report,accuracy_score\n",
        "import seaborn as sns\n",
        "import pandas as pd\n",
        "import numpy as np\n",
        "labels=['0','1']\n",
        "f, ax = plt.subplots(figsize=(5,5))\n",
        "cm=confusion_matrix(yvalid,prediction)\n",
        "sns.heatmap(cm, annot=True,ax=ax,cmap=\"Blues\")\n",
        "#labels, title and ticks\n",
        "ax.set_xlabel('Predicted labels')\n",
        "ax.set_ylabel('True labels')\n",
        "score = grid_search.score(xvalid_bow, yvalid)\n",
        "ax.set_title('Accuracy Score: {0} \\n Confusion Matrix'.format(np.round(score,2)))\n",
        "ax.xaxis.set_ticklabels(labels)\n",
        "ax.yaxis.set_ticklabels(labels)\n",
        "plt.show()\n",
        "f, ax = plt.subplots(figsize=(5,5))\n",
        "class_report=classification_report(yvalid,prediction,target_names=labels, output_dict=True)\n",
        "sns.heatmap(pd.DataFrame(class_report).iloc[:-1, :].T, annot=True,ax=ax,cmap=\"Blues\")\n",
        "ax.set_title('Classification Report')\n",
        "plt.show()"
      ],
      "execution_count": null,
      "outputs": [
        {
          "output_type": "display_data",
          "data": {
            "image/png": "[encoded data removed]",
            "text/plain": [
              "<Figure size 360x360 with 2 Axes>"
            ]
          },
          "metadata": {
            "tags": []
          }
        },
        {
          "output_type": "display_data",
          "data": {
            "image/png": "[encoded data removed]",
            "text/plain": [
              "<Figure size 360x360 with 2 Axes>"
            ]
          },
          "metadata": {
            "tags": []
          }
        }
      ]
    },
    {
      "cell_type": "markdown",
      "metadata": {
        "id": "D79KaoWSnoNI"
      },
      "source": [
        "**Hyper Parameter Tuning using Random Search**"
      ]
    },
    {
      "cell_type": "code",
      "metadata": {
        "colab": {
          "base_uri": "https://localhost:8080/"
        },
        "id": "enx9AjDinsC3",
        "outputId": "ffef98c5-2fd3-4637-a399-361dd4eaf923"
      },
      "source": [
        "rf = RandomForestClassifier()\n",
        "#Number of trees in random forest\n",
        "n_estimators = [int(x) for x in np.linspace(start = 500, stop = 1000, num = 100)]\n",
        "# Number of features to consider at every split\n",
        "max_features = ['auto', 'sqrt']\n",
        "# Maximum number of levels in tree\n",
        "max_depth = [int(x) for x in np.linspace(10, 50, num = 10)]\n",
        "max_depth.append(None)\n",
        "# Minimum number of samples required to split a node\n",
        "min_samples_split = [2, 5, 10]\n",
        "# Minimum number of samples required at each leaf node\n",
        "min_samples_leaf = [1, 2, 4]\n",
        "# Method of selecting samples for training each tree\n",
        "bootstrap = [True]\n",
        "# Create the random grid\n",
        "random_grid = {'n_estimators': n_estimators,\n",
        "               'max_features': max_features,\n",
        "               'max_depth': max_depth,\n",
        "               'min_samples_split': min_samples_split,\n",
        "               'min_samples_leaf': min_samples_leaf,\n",
        "               'bootstrap': bootstrap}\n",
        "rf_random = RandomizedSearchCV(estimator = rf, param_distributions = random_grid, n_iter = 100, cv = 3, verbose=2, random_state=42, n_jobs = -1)\n",
        "# Fit the random search model\n",
        "rf_random.fit(xtrain_bow, ytrain)\n",
        "\n",
        "print(\"best Params\")\n",
        "print(rf_random.best_params_)\n",
        "\n",
        "prediction = rf_random.predict(xvalid_bow)\n",
        "\n",
        "#classifiction Report\n",
        "report = classification_report( yvalid, prediction )\n",
        "print(report)\n",
        "acc1=accuracy_score(yvalid,prediction)\n",
        "\n",
        "print(\"RF(bow) after HT+RS, Accuracy Score:\",acc1)"
      ],
      "execution_count": null,
      "outputs": [
        {
          "output_type": "stream",
          "text": [
            "Fitting 3 folds for each of 100 candidates, totalling 300 fits\n"
          ],
          "name": "stdout"
        },
        {
          "output_type": "stream",
          "text": [
            "[Parallel(n_jobs=-1)]: Using backend LokyBackend with 2 concurrent workers.\n",
            "[Parallel(n_jobs=-1)]: Done  37 tasks      | elapsed:   51.9s\n",
            "[Parallel(n_jobs=-1)]: Done 158 tasks      | elapsed:  3.5min\n",
            "[Parallel(n_jobs=-1)]: Done 300 out of 300 | elapsed:  6.7min finished\n"
          ],
          "name": "stderr"
        },
        {
          "output_type": "stream",
          "text": [
            "best Params\n",
            "{'n_estimators': 974, 'min_samples_split': 10, 'min_samples_leaf': 2, 'max_features': 'auto', 'max_depth': 36, 'bootstrap': True}\n",
            "              precision    recall  f1-score   support\n",
            "\n",
            "           0       0.72      0.86      0.78        99\n",
            "           1       0.77      0.59      0.67        81\n",
            "\n",
            "    accuracy                           0.74       180\n",
            "   macro avg       0.75      0.73      0.73       180\n",
            "weighted avg       0.74      0.74      0.73       180\n",
            "\n",
            "RF(bow) after HT+RS, Accuracy Score: 0.7388888888888889\n"
          ],
          "name": "stdout"
        }
      ]
    },
    {
      "cell_type": "markdown",
      "metadata": {
        "id": "ynq_Tvx1nsyf"
      },
      "source": [
        "**Accuracy and Confusion Matrix**"
      ]
    },
    {
      "cell_type": "code",
      "metadata": {
        "colab": {
          "base_uri": "https://localhost:8080/",
          "height": 703
        },
        "id": "3mv3ZEh_n_CG",
        "outputId": "4c51a5ac-2a4a-4dc1-c408-a7431d98cb98"
      },
      "source": [
        "from sklearn.metrics import confusion_matrix,classification_report,accuracy_score\n",
        "import seaborn as sns\n",
        "import pandas as pd\n",
        "import numpy as np\n",
        "labels=['0','1']\n",
        "f, ax = plt.subplots(figsize=(5,5))\n",
        "cm=confusion_matrix(yvalid,prediction)\n",
        "sns.heatmap(cm, annot=True,ax=ax,cmap=\"Blues\")\n",
        "#labels, title and ticks\n",
        "ax.set_xlabel('Predicted labels')\n",
        "ax.set_ylabel('True labels')\n",
        "score = rf_random.score(xvalid_bow, yvalid)\n",
        "ax.set_title('Accuracy Score: {0} \\n Confusion Matrix'.format(np.round(score,2)))\n",
        "ax.xaxis.set_ticklabels(labels)\n",
        "ax.yaxis.set_ticklabels(labels)\n",
        "plt.show()\n",
        "f, ax = plt.subplots(figsize=(5,5))\n",
        "class_report=classification_report(yvalid,prediction,target_names=labels, output_dict=True)\n",
        "sns.heatmap(pd.DataFrame(class_report).iloc[:-1, :].T, annot=True,ax=ax,cmap=\"Blues\")\n",
        "ax.set_title('Classification Report')\n",
        "plt.show()"
      ],
      "execution_count": null,
      "outputs": [
        {
          "output_type": "display_data",
          "data": {
            "image/png": "[encoded data removed]",
            "text/plain": [
              "<Figure size 360x360 with 2 Axes>"
            ]
          },
          "metadata": {
            "tags": []
          }
        },
        {
          "output_type": "display_data",
          "data": {
            "image/png": "[encoded data removed]",
            "text/plain": [
              "<Figure size 360x360 with 2 Axes>"
            ]
          },
          "metadata": {
            "tags": []
          }
        }
      ]
    },
    {
      "cell_type": "markdown",
      "metadata": {
        "id": "fxEae-hRoHzu"
      },
      "source": [
        "**3. LSTM**"
      ]
    },
    {
      "cell_type": "code",
      "metadata": {
        "colab": {
          "base_uri": "https://localhost:8080/",
          "height": 1000
        },
        "id": "31ZjIL_9n_L6",
        "outputId": "1bd51394-73a1-4062-c2c4-88dbac44508b"
      },
      "source": [
        "model = Sequential()\n",
        "model.add(Embedding(500, 120, input_length = xtrain_bow.shape[1]))\n",
        "model.add(SpatialDropout1D(0.4))\n",
        "model.add(LSTM(176, dropout=0.2, recurrent_dropout=0.2))\n",
        "model.add(Dense(1,activation='softmax'))\n",
        "model.compile(loss = 'categorical_crossentropy', optimizer='adam', metrics = ['accuracy'])\n",
        "print(model.summary())\n",
        "batch_size=32\n",
        "model.fit(xtrain_bow, ytrain, epochs = 10, batch_size=batch_size, verbose = 'auto')"
      ],
      "execution_count": null,
      "outputs": [
        {
          "output_type": "stream",
          "text": [
            "Model: \"sequential_43\"\n",
            "_________________________________________________________________\n",
            "Layer (type)                 Output Shape              Param #   \n",
            "=================================================================\n",
            "embedding_43 (Embedding)     (None, 1000, 120)         60000     \n",
            "_________________________________________________________________\n",
            "spatial_dropout1d_2 (Spatial (None, 1000, 120)         0         \n",
            "_________________________________________________________________\n",
            "lstm_43 (LSTM)               (None, 176)               209088    \n",
            "_________________________________________________________________\n",
            "dense_123 (Dense)            (None, 1)                 177       \n",
            "=================================================================\n",
            "Total params: 269,265\n",
            "Trainable params: 269,265\n",
            "Non-trainable params: 0\n",
            "_________________________________________________________________\n",
            "None\n",
            "WARNING:tensorflow:Keras is training/fitting/evaluating on array-like data. Keras may not be optimized for this format, so if your input data format is supported by TensorFlow I/O (https://github.com/tensorflow/io) we recommend using that to load a Dataset instead.\n",
            "Epoch 1/10\n"
          ],
          "name": "stdout"
        },
        {
          "output_type": "error",
          "ename": "InvalidArgumentError",
          "evalue": "ignored",
          "traceback": [
            "\u001b[0;31m---------------------------------------------------------------------------\u001b[0m",
            "\u001b[0;31mInvalidArgumentError\u001b[0m                      Traceback (most recent call last)",
            "\u001b[0;32m<ipython-input-106-b69ede466d32>\u001b[0m in \u001b[0;36m<module>\u001b[0;34m()\u001b[0m\n\u001b[1;32m      7\u001b[0m \u001b[0mprint\u001b[0m\u001b[0;34m(\u001b[0m\u001b[0mmodel\u001b[0m\u001b[0;34m.\u001b[0m\u001b[0msummary\u001b[0m\u001b[0;34m(\u001b[0m\u001b[0;34m)\u001b[0m\u001b[0;34m)\u001b[0m\u001b[0;34m\u001b[0m\u001b[0;34m\u001b[0m\u001b[0m\n\u001b[1;32m      8\u001b[0m \u001b[0mbatch_size\u001b[0m\u001b[0;34m=\u001b[0m\u001b[0;36m32\u001b[0m\u001b[0;34m\u001b[0m\u001b[0;34m\u001b[0m\u001b[0m\n\u001b[0;32m----> 9\u001b[0;31m \u001b[0mmodel\u001b[0m\u001b[0;34m.\u001b[0m\u001b[0mfit\u001b[0m\u001b[0;34m(\u001b[0m\u001b[0mxtrain_bow\u001b[0m\u001b[0;34m,\u001b[0m \u001b[0mytrain\u001b[0m\u001b[0;34m,\u001b[0m \u001b[0mepochs\u001b[0m \u001b[0;34m=\u001b[0m \u001b[0;36m10\u001b[0m\u001b[0;34m,\u001b[0m \u001b[0mbatch_size\u001b[0m\u001b[0;34m=\u001b[0m\u001b[0mbatch_size\u001b[0m\u001b[0;34m,\u001b[0m \u001b[0mverbose\u001b[0m \u001b[0;34m=\u001b[0m \u001b[0;34m'auto'\u001b[0m\u001b[0;34m)\u001b[0m\u001b[0;34m\u001b[0m\u001b[0;34m\u001b[0m\u001b[0m\n\u001b[0m",
            "\u001b[0;32m/usr/local/lib/python3.7/dist-packages/keras/engine/training.py\u001b[0m in \u001b[0;36mfit\u001b[0;34m(self, x, y, batch_size, epochs, verbose, callbacks, validation_split, validation_data, shuffle, class_weight, sample_weight, initial_epoch, steps_per_epoch, validation_steps, validation_batch_size, validation_freq, max_queue_size, workers, use_multiprocessing)\u001b[0m\n\u001b[1;32m   1156\u001b[0m                 _r=1):\n\u001b[1;32m   1157\u001b[0m               \u001b[0mcallbacks\u001b[0m\u001b[0;34m.\u001b[0m\u001b[0mon_train_batch_begin\u001b[0m\u001b[0;34m(\u001b[0m\u001b[0mstep\u001b[0m\u001b[0;34m)\u001b[0m\u001b[0;34m\u001b[0m\u001b[0;34m\u001b[0m\u001b[0m\n\u001b[0;32m-> 1158\u001b[0;31m               \u001b[0mtmp_logs\u001b[0m \u001b[0;34m=\u001b[0m \u001b[0mself\u001b[0m\u001b[0;34m.\u001b[0m\u001b[0mtrain_function\u001b[0m\u001b[0;34m(\u001b[0m\u001b[0miterator\u001b[0m\u001b[0;34m)\u001b[0m\u001b[0;34m\u001b[0m\u001b[0;34m\u001b[0m\u001b[0m\n\u001b[0m\u001b[1;32m   1159\u001b[0m               \u001b[0;32mif\u001b[0m \u001b[0mdata_handler\u001b[0m\u001b[0;34m.\u001b[0m\u001b[0mshould_sync\u001b[0m\u001b[0;34m:\u001b[0m\u001b[0;34m\u001b[0m\u001b[0;34m\u001b[0m\u001b[0m\n\u001b[1;32m   1160\u001b[0m                 \u001b[0mcontext\u001b[0m\u001b[0;34m.\u001b[0m\u001b[0masync_wait\u001b[0m\u001b[0;34m(\u001b[0m\u001b[0;34m)\u001b[0m\u001b[0;34m\u001b[0m\u001b[0;34m\u001b[0m\u001b[0m\n",
            "\u001b[0;32m/usr/local/lib/python3.7/dist-packages/tensorflow/python/eager/def_function.py\u001b[0m in \u001b[0;36m__call__\u001b[0;34m(self, *args, **kwds)\u001b[0m\n\u001b[1;32m    887\u001b[0m \u001b[0;34m\u001b[0m\u001b[0m\n\u001b[1;32m    888\u001b[0m       \u001b[0;32mwith\u001b[0m \u001b[0mOptionalXlaContext\u001b[0m\u001b[0;34m(\u001b[0m\u001b[0mself\u001b[0m\u001b[0;34m.\u001b[0m\u001b[0m_jit_compile\u001b[0m\u001b[0;34m)\u001b[0m\u001b[0;34m:\u001b[0m\u001b[0;34m\u001b[0m\u001b[0;34m\u001b[0m\u001b[0m\n\u001b[0;32m--> 889\u001b[0;31m         \u001b[0mresult\u001b[0m \u001b[0;34m=\u001b[0m \u001b[0mself\u001b[0m\u001b[0;34m.\u001b[0m\u001b[0m_call\u001b[0m\u001b[0;34m(\u001b[0m\u001b[0;34m*\u001b[0m\u001b[0margs\u001b[0m\u001b[0;34m,\u001b[0m \u001b[0;34m**\u001b[0m\u001b[0mkwds\u001b[0m\u001b[0;34m)\u001b[0m\u001b[0;34m\u001b[0m\u001b[0;34m\u001b[0m\u001b[0m\n\u001b[0m\u001b[1;32m    890\u001b[0m \u001b[0;34m\u001b[0m\u001b[0m\n\u001b[1;32m    891\u001b[0m       \u001b[0mnew_tracing_count\u001b[0m \u001b[0;34m=\u001b[0m \u001b[0mself\u001b[0m\u001b[0;34m.\u001b[0m\u001b[0mexperimental_get_tracing_count\u001b[0m\u001b[0;34m(\u001b[0m\u001b[0;34m)\u001b[0m\u001b[0;34m\u001b[0m\u001b[0;34m\u001b[0m\u001b[0m\n",
            "\u001b[0;32m/usr/local/lib/python3.7/dist-packages/tensorflow/python/eager/def_function.py\u001b[0m in \u001b[0;36m_call\u001b[0;34m(self, *args, **kwds)\u001b[0m\n\u001b[1;32m    948\u001b[0m         \u001b[0;31m# Lifting succeeded, so variables are initialized and we can run the\u001b[0m\u001b[0;34m\u001b[0m\u001b[0;34m\u001b[0m\u001b[0;34m\u001b[0m\u001b[0m\n\u001b[1;32m    949\u001b[0m         \u001b[0;31m# stateless function.\u001b[0m\u001b[0;34m\u001b[0m\u001b[0;34m\u001b[0m\u001b[0;34m\u001b[0m\u001b[0m\n\u001b[0;32m--> 950\u001b[0;31m         \u001b[0;32mreturn\u001b[0m \u001b[0mself\u001b[0m\u001b[0;34m.\u001b[0m\u001b[0m_stateless_fn\u001b[0m\u001b[0;34m(\u001b[0m\u001b[0;34m*\u001b[0m\u001b[0margs\u001b[0m\u001b[0;34m,\u001b[0m \u001b[0;34m**\u001b[0m\u001b[0mkwds\u001b[0m\u001b[0;34m)\u001b[0m\u001b[0;34m\u001b[0m\u001b[0;34m\u001b[0m\u001b[0m\n\u001b[0m\u001b[1;32m    951\u001b[0m     \u001b[0;32melse\u001b[0m\u001b[0;34m:\u001b[0m\u001b[0;34m\u001b[0m\u001b[0;34m\u001b[0m\u001b[0m\n\u001b[1;32m    952\u001b[0m       \u001b[0m_\u001b[0m\u001b[0;34m,\u001b[0m \u001b[0m_\u001b[0m\u001b[0;34m,\u001b[0m \u001b[0m_\u001b[0m\u001b[0;34m,\u001b[0m \u001b[0mfiltered_flat_args\u001b[0m \u001b[0;34m=\u001b[0m\u001b[0;31m \u001b[0m\u001b[0;31m\\\u001b[0m\u001b[0;34m\u001b[0m\u001b[0;34m\u001b[0m\u001b[0m\n",
            "\u001b[0;32m/usr/local/lib/python3.7/dist-packages/tensorflow/python/eager/function.py\u001b[0m in \u001b[0;36m__call__\u001b[0;34m(self, *args, **kwargs)\u001b[0m\n\u001b[1;32m   3022\u001b[0m        filtered_flat_args) = self._maybe_define_function(args, kwargs)\n\u001b[1;32m   3023\u001b[0m     return graph_function._call_flat(\n\u001b[0;32m-> 3024\u001b[0;31m         filtered_flat_args, captured_inputs=graph_function.captured_inputs)  # pylint: disable=protected-access\n\u001b[0m\u001b[1;32m   3025\u001b[0m \u001b[0;34m\u001b[0m\u001b[0m\n\u001b[1;32m   3026\u001b[0m   \u001b[0;34m@\u001b[0m\u001b[0mproperty\u001b[0m\u001b[0;34m\u001b[0m\u001b[0;34m\u001b[0m\u001b[0m\n",
            "\u001b[0;32m/usr/local/lib/python3.7/dist-packages/tensorflow/python/eager/function.py\u001b[0m in \u001b[0;36m_call_flat\u001b[0;34m(self, args, captured_inputs, cancellation_manager)\u001b[0m\n\u001b[1;32m   1959\u001b[0m       \u001b[0;31m# No tape is watching; skip to running the function.\u001b[0m\u001b[0;34m\u001b[0m\u001b[0;34m\u001b[0m\u001b[0;34m\u001b[0m\u001b[0m\n\u001b[1;32m   1960\u001b[0m       return self._build_call_outputs(self._inference_function.call(\n\u001b[0;32m-> 1961\u001b[0;31m           ctx, args, cancellation_manager=cancellation_manager))\n\u001b[0m\u001b[1;32m   1962\u001b[0m     forward_backward = self._select_forward_and_backward_functions(\n\u001b[1;32m   1963\u001b[0m         \u001b[0margs\u001b[0m\u001b[0;34m,\u001b[0m\u001b[0;34m\u001b[0m\u001b[0;34m\u001b[0m\u001b[0m\n",
            "\u001b[0;32m/usr/local/lib/python3.7/dist-packages/tensorflow/python/eager/function.py\u001b[0m in \u001b[0;36mcall\u001b[0;34m(self, ctx, args, cancellation_manager)\u001b[0m\n\u001b[1;32m    594\u001b[0m               \u001b[0minputs\u001b[0m\u001b[0;34m=\u001b[0m\u001b[0margs\u001b[0m\u001b[0;34m,\u001b[0m\u001b[0;34m\u001b[0m\u001b[0;34m\u001b[0m\u001b[0m\n\u001b[1;32m    595\u001b[0m               \u001b[0mattrs\u001b[0m\u001b[0;34m=\u001b[0m\u001b[0mattrs\u001b[0m\u001b[0;34m,\u001b[0m\u001b[0;34m\u001b[0m\u001b[0;34m\u001b[0m\u001b[0m\n\u001b[0;32m--> 596\u001b[0;31m               ctx=ctx)\n\u001b[0m\u001b[1;32m    597\u001b[0m         \u001b[0;32melse\u001b[0m\u001b[0;34m:\u001b[0m\u001b[0;34m\u001b[0m\u001b[0;34m\u001b[0m\u001b[0m\n\u001b[1;32m    598\u001b[0m           outputs = execute.execute_with_cancellation(\n",
            "\u001b[0;32m/usr/local/lib/python3.7/dist-packages/tensorflow/python/eager/execute.py\u001b[0m in \u001b[0;36mquick_execute\u001b[0;34m(op_name, num_outputs, inputs, attrs, ctx, name)\u001b[0m\n\u001b[1;32m     58\u001b[0m     \u001b[0mctx\u001b[0m\u001b[0;34m.\u001b[0m\u001b[0mensure_initialized\u001b[0m\u001b[0;34m(\u001b[0m\u001b[0;34m)\u001b[0m\u001b[0;34m\u001b[0m\u001b[0;34m\u001b[0m\u001b[0m\n\u001b[1;32m     59\u001b[0m     tensors = pywrap_tfe.TFE_Py_Execute(ctx._handle, device_name, op_name,\n\u001b[0;32m---> 60\u001b[0;31m                                         inputs, attrs, num_outputs)\n\u001b[0m\u001b[1;32m     61\u001b[0m   \u001b[0;32mexcept\u001b[0m \u001b[0mcore\u001b[0m\u001b[0;34m.\u001b[0m\u001b[0m_NotOkStatusException\u001b[0m \u001b[0;32mas\u001b[0m \u001b[0me\u001b[0m\u001b[0;34m:\u001b[0m\u001b[0;34m\u001b[0m\u001b[0;34m\u001b[0m\u001b[0m\n\u001b[1;32m     62\u001b[0m     \u001b[0;32mif\u001b[0m \u001b[0mname\u001b[0m \u001b[0;32mis\u001b[0m \u001b[0;32mnot\u001b[0m \u001b[0;32mNone\u001b[0m\u001b[0;34m:\u001b[0m\u001b[0;34m\u001b[0m\u001b[0;34m\u001b[0m\u001b[0m\n",
            "\u001b[0;31mInvalidArgumentError\u001b[0m:  TypeError: 'SparseTensor' object is not subscriptable\nTraceback (most recent call last):\n\n  File \"/usr/local/lib/python3.7/dist-packages/tensorflow/python/ops/script_ops.py\", line 247, in __call__\n    return func(device, token, args)\n\n  File \"/usr/local/lib/python3.7/dist-packages/tensorflow/python/ops/script_ops.py\", line 135, in __call__\n    ret = self._func(*args)\n\n  File \"/usr/local/lib/python3.7/dist-packages/tensorflow/python/autograph/impl/api.py\", line 645, in wrapper\n    return func(*args, **kwargs)\n\n  File \"/tmp/tmp627lpgnd.py\", line 37, in py_method\n    retval__1 = [ag__.converted_call(ag__.ld(slice_array), (ag__.ld(inp),), None, fscope_1) for inp in ag__.ld(flat_inputs)]\n\n  File \"/tmp/tmp627lpgnd.py\", line 37, in <listcomp>\n    retval__1 = [ag__.converted_call(ag__.ld(slice_array), (ag__.ld(inp),), None, fscope_1) for inp in ag__.ld(flat_inputs)]\n\n  File \"/usr/local/lib/python3.7/dist-packages/tensorflow/python/autograph/impl/api.py\", line 340, in converted_call\n    return _call_unconverted(f, args, kwargs, options, False)\n\n  File \"/usr/local/lib/python3.7/dist-packages/tensorflow/python/autograph/impl/api.py\", line 464, in _call_unconverted\n    return f(*args)\n\n  File \"/tmp/tmp627lpgnd.py\", line 30, in slice_array\n    retval__2 = ag__.converted_call(ag__.ld(training_utils).slice_arrays, (ag__.ld(data), ag__.converted_call(ag__.ld(ind).numpy, (), None, fscope_2)), dict(contiguous=ag__.ld(contiguous)), fscope_2)\n\n  File \"/usr/local/lib/python3.7/dist-packages/tensorflow/python/autograph/impl/api.py\", line 340, in converted_call\n    return _call_unconverted(f, args, kwargs, options, False)\n\n  File \"/usr/local/lib/python3.7/dist-packages/tensorflow/python/autograph/impl/api.py\", line 463, in _call_unconverted\n    return f(*args, **kwargs)\n\n  File \"/usr/local/lib/python3.7/dist-packages/keras/engine/training_utils.py\", line 47, in slice_arrays\n    entries = [[x[i:i + 1] for i in indices] for x in arrays]\n\n  File \"/usr/local/lib/python3.7/dist-packages/keras/engine/training_utils.py\", line 47, in <listcomp>\n    entries = [[x[i:i + 1] for i in indices] for x in arrays]\n\n  File \"/usr/local/lib/python3.7/dist-packages/keras/engine/training_utils.py\", line 47, in <listcomp>\n    entries = [[x[i:i + 1] for i in indices] for x in arrays]\n\nTypeError: 'SparseTensor' object is not subscriptable\n\n\n\t [[{{node EagerPyFunc}}]]\n\t [[IteratorGetNext]] [Op:__inference_train_function_161322]\n\nFunction call stack:\ntrain_function\n"
          ]
        }
      ]
    },
    {
      "cell_type": "code",
      "metadata": {
        "id": "dlZH1mAqwsTQ"
      },
      "source": [
        "model_default = build_model()\n",
        "_activations=['tanh','relu','selu']\n",
        "_optimizers=['sgd','adam']\n",
        "_batch_size=[16,32,64]\n",
        "params=dict(var_activation=_activations,\n",
        "            var_optimizer=_optimizers,\n",
        "            batch_size=_batch_size)\n",
        "print(params)\n",
        "\n",
        "model = KerasClassifier(build_fn=build_model,epochs=4,batch_size=16)\n",
        "np.random.seed(42)\n",
        "rscv = RandomizedSearchCV(model, param_distributions=params, cv=3, n_iter=7)\n",
        "rscv_results = rscv.fit(xtrain_bow,ytrain)\n",
        "print('Best score is: {} using {}'.format(rscv_results.best_score_,\n",
        "rscv_results.best_params_))"
      ],
      "execution_count": null,
      "outputs": []
    },
    {
      "cell_type": "markdown",
      "metadata": {
        "id": "w_IvbGZThwn4"
      },
      "source": [
        "#TF-IDF"
      ]
    },
    {
      "cell_type": "markdown",
      "metadata": {
        "id": "f1y3XhrroMH-"
      },
      "source": [
        "**1. SVM-RBF**"
      ]
    },
    {
      "cell_type": "markdown",
      "metadata": {
        "id": "KuDi8LZVhzr1"
      },
      "source": [
        "**Hyper parameter tuning using grid Search**"
      ]
    },
    {
      "cell_type": "code",
      "metadata": {
        "colab": {
          "base_uri": "https://localhost:8080/"
        },
        "id": "82NOEOAXZ8JF",
        "outputId": "f2d32ee3-8564-4e6c-ada1-dae01260defc"
      },
      "source": [
        "parameters = [{'C': [1,10,50,100], 'kernel': ['linear','rbf']}]\n",
        "grid_search = GridSearchCV(estimator= svc,\n",
        "                          param_grid = parameters, scoring = 'accuracy',cv = 10)\n",
        "grid_search = grid_search.fit(xtrain_tfidf, ytrain)\n",
        "grid_search.best_params_\n",
        "prediction = grid_search.predict(xvalid_tfidf) \n",
        "\n",
        "#classifiction Report\n",
        "\n",
        "report = classification_report( yvalid, prediction)\n",
        "print(report)\n",
        "acc1=accuracy_score(yvalid,prediction)\n",
        "\n",
        "\n",
        "print(\"SVM_RBF(tfidf) after HT+GS, Accuracy Score:\",acc1)"
      ],
      "execution_count": null,
      "outputs": [
        {
          "output_type": "stream",
          "text": [
            "              precision    recall  f1-score   support\n",
            "\n",
            "           0       0.71      0.87      0.78        99\n",
            "           1       0.78      0.57      0.66        81\n",
            "\n",
            "    accuracy                           0.73       180\n",
            "   macro avg       0.75      0.72      0.72       180\n",
            "weighted avg       0.74      0.73      0.73       180\n",
            "\n",
            "SVM_RBF(tfidf) after HT+GS, Accuracy Score: 0.7333333333333333\n"
          ],
          "name": "stdout"
        }
      ]
    },
    {
      "cell_type": "markdown",
      "metadata": {
        "id": "S9LNwzq9h6zC"
      },
      "source": [
        "**Accuracy or Confusion Matrix**"
      ]
    },
    {
      "cell_type": "code",
      "metadata": {
        "colab": {
          "base_uri": "https://localhost:8080/",
          "height": 703
        },
        "id": "6F8VuKAiZ8Zj",
        "outputId": "fcf4ed9c-51f6-4f3e-da5c-22c20b116dcb"
      },
      "source": [
        "from sklearn.metrics import confusion_matrix,classification_report,accuracy_score\n",
        "import seaborn as sns\n",
        "import pandas as pd\n",
        "import numpy as np\n",
        "labels=['0','1']\n",
        "f, ax = plt.subplots(figsize=(5,5))\n",
        "cm=confusion_matrix(yvalid,prediction)\n",
        "sns.heatmap(cm, annot=True,ax=ax,cmap=\"Blues\")\n",
        "#labels, title and ticks\n",
        "ax.set_xlabel('Predicted labels')\n",
        "ax.set_ylabel('True labels')\n",
        "score = grid_search.score(xvalid_tfidf, yvalid)\n",
        "ax.set_title('Accuracy Score: {0} \\n Confusion Matrix'.format(np.round(score,2)))\n",
        "ax.xaxis.set_ticklabels(labels)\n",
        "ax.yaxis.set_ticklabels(labels)\n",
        "plt.show()\n",
        "f, ax = plt.subplots(figsize=(5,5))\n",
        "class_report=classification_report(yvalid,prediction,target_names=labels, output_dict=True)\n",
        "sns.heatmap(pd.DataFrame(class_report).iloc[:-1, :].T, annot=True,ax=ax,cmap=\"Blues\")\n",
        "ax.set_title('Classification Report')\n",
        "plt.show()"
      ],
      "execution_count": null,
      "outputs": [
        {
          "output_type": "display_data",
          "data": {
            "image/png": "[encoded data removed]",
            "text/plain": [
              "<Figure size 360x360 with 2 Axes>"
            ]
          },
          "metadata": {
            "tags": []
          }
        },
        {
          "output_type": "display_data",
          "data": {
            "image/png": "[encoded data removed]",
            "text/plain": [
              "<Figure size 360x360 with 2 Axes>"
            ]
          },
          "metadata": {
            "tags": []
          }
        }
      ]
    },
    {
      "cell_type": "markdown",
      "metadata": {
        "id": "qAuykRa9jP_W"
      },
      "source": [
        "**Hyper Parameter tuning Using Random Grid**"
      ]
    },
    {
      "cell_type": "code",
      "metadata": {
        "colab": {
          "base_uri": "https://localhost:8080/"
        },
        "id": "K6VMZEwCZir_",
        "outputId": "59650926-b231-4c4d-84e9-c6e89227ea0f"
      },
      "source": [
        "svc = svm.SVC()\n",
        "\n",
        "# Create the random grid\n",
        "random_grid = {'C': [1,10,100], \n",
        "              'kernel': ['linear','rbf']}\n",
        "              \n",
        "rf_random = RandomizedSearchCV(estimator = svc, param_distributions = random_grid, n_iter = 100, cv = 3, verbose=2, random_state=42, n_jobs = -1)\n",
        "# Fit the random search model\n",
        "rf_random.fit(xtrain_tfidf, ytrain)\n",
        "print(rf_random.best_params_)\n",
        "prediction = rf_random.predict(xvalid_tfidf) \n",
        "\n",
        "#classifiction Report\n",
        "\n",
        "report = classification_report( yvalid, prediction)\n",
        "print(report)\n",
        "acc1=accuracy_score(yvalid,prediction)\n",
        "\n",
        "print(\"SVM(tfidf) after HT+RS, Accuracy Score:\",acc1)"
      ],
      "execution_count": null,
      "outputs": [
        {
          "output_type": "stream",
          "text": [
            "/usr/local/lib/python3.7/dist-packages/sklearn/model_selection/_search.py:281: UserWarning: The total space of parameters 6 is smaller than n_iter=100. Running 6 iterations. For exhaustive searches, use GridSearchCV.\n",
            "  % (grid_size, self.n_iter, grid_size), UserWarning)\n",
            "[Parallel(n_jobs=-1)]: Using backend LokyBackend with 2 concurrent workers.\n"
          ],
          "name": "stderr"
        },
        {
          "output_type": "stream",
          "text": [
            "Fitting 3 folds for each of 6 candidates, totalling 18 fits\n",
            "{'kernel': 'rbf', 'C': 10}\n",
            "              precision    recall  f1-score   support\n",
            "\n",
            "           0       0.72      0.85      0.78        99\n",
            "           1       0.76      0.59      0.67        81\n",
            "\n",
            "    accuracy                           0.73       180\n",
            "   macro avg       0.74      0.72      0.72       180\n",
            "weighted avg       0.74      0.73      0.73       180\n",
            "\n",
            "SVM(tfidf) after HT+RS, Accuracy Score: 0.7333333333333333\n"
          ],
          "name": "stdout"
        },
        {
          "output_type": "stream",
          "text": [
            "[Parallel(n_jobs=-1)]: Done  18 out of  18 | elapsed:    0.8s finished\n"
          ],
          "name": "stderr"
        }
      ]
    },
    {
      "cell_type": "markdown",
      "metadata": {
        "id": "anH6Z5rsjjFk"
      },
      "source": [
        "**Accuracy and Confusion Matrix**"
      ]
    },
    {
      "cell_type": "code",
      "metadata": {
        "colab": {
          "base_uri": "https://localhost:8080/",
          "height": 703
        },
        "id": "mgT5x2M1aiOS",
        "outputId": "b44d7a4d-bf91-4b4b-c029-cb3ac3f58ef8"
      },
      "source": [
        "from sklearn.metrics import confusion_matrix,classification_report,accuracy_score\n",
        "import seaborn as sns\n",
        "import pandas as pd\n",
        "import numpy as np\n",
        "labels=['0','1']\n",
        "f, ax = plt.subplots(figsize=(5,5))\n",
        "cm=confusion_matrix(yvalid,prediction)\n",
        "sns.heatmap(cm, annot=True,ax=ax,cmap=\"Blues\")\n",
        "#labels, title and ticks\n",
        "ax.set_xlabel('Predicted labels')\n",
        "ax.set_ylabel('True labels')\n",
        "score = rf_random.score(xvalid_tfidf, yvalid)\n",
        "ax.set_title('Accuracy Score: {0} \\n Confusion Matrix'.format(np.round(score,2)))\n",
        "ax.xaxis.set_ticklabels(labels)\n",
        "ax.yaxis.set_ticklabels(labels)\n",
        "plt.show()\n",
        "f, ax = plt.subplots(figsize=(5,5))\n",
        "class_report=classification_report(yvalid,prediction,target_names=labels, output_dict=True)\n",
        "sns.heatmap(pd.DataFrame(class_report).iloc[:-1, :].T, annot=True,ax=ax,cmap=\"Blues\")\n",
        "ax.set_title('Classification Report')\n",
        "plt.show()"
      ],
      "execution_count": null,
      "outputs": [
        {
          "output_type": "display_data",
          "data": {
            "image/png": "[encoded data removed]",
            "text/plain": [
              "<Figure size 360x360 with 2 Axes>"
            ]
          },
          "metadata": {
            "tags": []
          }
        },
        {
          "output_type": "display_data",
          "data": {
            "image/png": "[encoded data removed]",
            "text/plain": [
              "<Figure size 360x360 with 2 Axes>"
            ]
          },
          "metadata": {
            "tags": []
          }
        }
      ]
    },
    {
      "cell_type": "markdown",
      "metadata": {
        "id": "eDvhkVcCoSK2"
      },
      "source": [
        "**2. Random Forest**"
      ]
    },
    {
      "cell_type": "markdown",
      "metadata": {
        "id": "0z9K7qeMoYDX"
      },
      "source": [
        "**Hyper Parameter Tuning using Grid Search**"
      ]
    },
    {
      "cell_type": "code",
      "metadata": {
        "colab": {
          "base_uri": "https://localhost:8080/"
        },
        "id": "tEVMMDlPbQHb",
        "outputId": "29746889-4ecf-43ea-cc9e-bf862a4705ed"
      },
      "source": [
        "# Create the parameter grid \n",
        "param_grid = {\n",
        "    'bootstrap': [True],\n",
        "    'max_depth': [80, 90, 100, 110],\n",
        "    'max_features': [2, 3],\n",
        "    'min_samples_leaf': [3, 4, 5],\n",
        "    'min_samples_split': [8, 10, 12],\n",
        "    'n_estimators': [100, 50, 300, 1000]\n",
        "}\n",
        "# Create a based model\n",
        "rf = RandomForestClassifier()\n",
        "# Instantiate the grid search model\n",
        "grid_search = GridSearchCV(estimator = rf, param_grid = param_grid,cv = 3, n_jobs = -1, verbose = 2)\n",
        "# Fit the grid search to the data\n",
        "grid_search.fit(xtrain_tfidf, ytrain)\n",
        "print(grid_search.best_params_)\n",
        "prediction = grid_search.predict(xvalid_tfidf)\n",
        "\n",
        "#classifiction Report\n",
        "\n",
        "report = classification_report( yvalid, prediction )\n",
        "print(report)\n",
        "acc1=accuracy_score(yvalid,prediction)\n",
        "\n",
        "print(\"RF(tfidf) after HT+GD, Accuracy Score:\",acc1)"
      ],
      "execution_count": null,
      "outputs": [
        {
          "output_type": "stream",
          "text": [
            "Fitting 3 folds for each of 288 candidates, totalling 864 fits\n"
          ],
          "name": "stdout"
        },
        {
          "output_type": "stream",
          "text": [
            "[Parallel(n_jobs=-1)]: Using backend LokyBackend with 2 concurrent workers.\n",
            "[Parallel(n_jobs=-1)]: Done  37 tasks      | elapsed:   15.8s\n",
            "[Parallel(n_jobs=-1)]: Done 158 tasks      | elapsed:  1.2min\n",
            "[Parallel(n_jobs=-1)]: Done 361 tasks      | elapsed:  2.7min\n",
            "[Parallel(n_jobs=-1)]: Done 644 tasks      | elapsed:  4.8min\n"
          ],
          "name": "stderr"
        },
        {
          "output_type": "stream",
          "text": [
            "{'bootstrap': True, 'max_depth': 100, 'max_features': 3, 'min_samples_leaf': 5, 'min_samples_split': 12, 'n_estimators': 50}\n",
            "              precision    recall  f1-score   support\n",
            "\n",
            "           0       0.56      0.99      0.71        99\n",
            "           1       0.75      0.04      0.07        81\n",
            "\n",
            "    accuracy                           0.56       180\n",
            "   macro avg       0.65      0.51      0.39       180\n",
            "weighted avg       0.64      0.56      0.42       180\n",
            "\n",
            "RF(tfidf) after HT+GD, Accuracy Score: 0.5611111111111111\n"
          ],
          "name": "stdout"
        },
        {
          "output_type": "stream",
          "text": [
            "[Parallel(n_jobs=-1)]: Done 864 out of 864 | elapsed:  6.5min finished\n"
          ],
          "name": "stderr"
        }
      ]
    },
    {
      "cell_type": "markdown",
      "metadata": {
        "id": "AcTRt6S6oiLc"
      },
      "source": [
        "**Accuracy and Confusion Matrix**"
      ]
    },
    {
      "cell_type": "code",
      "metadata": {
        "colab": {
          "base_uri": "https://localhost:8080/",
          "height": 703
        },
        "id": "0EwZs6Mwj2vP",
        "outputId": "5600805b-d445-4cb2-e245-02143796d78d"
      },
      "source": [
        "from sklearn.metrics import confusion_matrix,classification_report,accuracy_score\n",
        "import seaborn as sns\n",
        "import pandas as pd\n",
        "import numpy as np\n",
        "labels=['0','1']\n",
        "f, ax = plt.subplots(figsize=(5,5))\n",
        "cm=confusion_matrix(yvalid,prediction)\n",
        "sns.heatmap(cm, annot=True,ax=ax,cmap=\"Blues\")\n",
        "#labels, title and ticks\n",
        "ax.set_xlabel('Predicted labels')\n",
        "ax.set_ylabel('True labels')\n",
        "score = rf_random.score(xvalid_tfidf, yvalid)\n",
        "ax.set_title('Accuracy Score: {0} \\n Confusion Matrix'.format(np.round(score,2)))\n",
        "ax.xaxis.set_ticklabels(labels)\n",
        "ax.yaxis.set_ticklabels(labels)\n",
        "plt.show()\n",
        "f, ax = plt.subplots(figsize=(5,5))\n",
        "class_report=classification_report(yvalid,prediction,target_names=labels, output_dict=True)\n",
        "sns.heatmap(pd.DataFrame(class_report).iloc[:-1, :].T, annot=True,ax=ax,cmap=\"Blues\")\n",
        "ax.set_title('Classification Report')\n",
        "plt.show()"
      ],
      "execution_count": null,
      "outputs": [
        {
          "output_type": "display_data",
          "data": {
            "image/png": "[encoded data removed]",
            "text/plain": [
              "<Figure size 360x360 with 2 Axes>"
            ]
          },
          "metadata": {
            "tags": []
          }
        },
        {
          "output_type": "display_data",
          "data": {
            "image/png": "[encoded data removed]",
            "text/plain": [
              "<Figure size 360x360 with 2 Axes>"
            ]
          },
          "metadata": {
            "tags": []
          }
        }
      ]
    },
    {
      "cell_type": "markdown",
      "metadata": {
        "id": "Kmc9S5Cvovu2"
      },
      "source": [
        "**Hyper Parameter Tuning using Random Search**"
      ]
    },
    {
      "cell_type": "code",
      "metadata": {
        "colab": {
          "base_uri": "https://localhost:8080/"
        },
        "id": "uvVLTK4_ouxQ",
        "outputId": "5f2f5881-67f0-4ee3-c044-9f85058d1e69"
      },
      "source": [
        "rf = RandomForestClassifier()\n",
        "#Number of trees in random forest\n",
        "n_estimators = [int(x) for x in np.linspace(start = 500, stop = 1000, num = 100)]\n",
        "# Number of features to consider at every split\n",
        "max_features = ['auto', 'sqrt']\n",
        "# Maximum number of levels in tree\n",
        "max_depth = [int(x) for x in np.linspace(10, 50, num = 10)]\n",
        "max_depth.append(None)\n",
        "# Minimum number of samples required to split a node\n",
        "min_samples_split = [2, 5, 10]\n",
        "# Minimum number of samples required at each leaf node\n",
        "min_samples_leaf = [1, 2, 4]\n",
        "# Method of selecting samples for training each tree\n",
        "bootstrap = [True]\n",
        "# Create the random grid\n",
        "random_grid = {'n_estimators': n_estimators,\n",
        "               'max_features': max_features,\n",
        "               'max_depth': max_depth,\n",
        "               'min_samples_split': min_samples_split,\n",
        "               'min_samples_leaf': min_samples_leaf,\n",
        "               'bootstrap': bootstrap}\n",
        "rf_random = RandomizedSearchCV(estimator = rf, param_distributions = random_grid, n_iter = 100, cv = 3, verbose=2, random_state=42, n_jobs = -1)\n",
        "# Fit the random search model\n",
        "rf_random.fit(xtrain_tfidf, ytrain)\n",
        "\n",
        "print(\"best Params\")\n",
        "print(rf_random.best_params_)\n",
        "\n",
        "prediction = rf_random.predict(xvalid_tfidf)\n",
        "\n",
        "#classifiction Report\n",
        "report = classification_report( yvalid, prediction )\n",
        "print(report)\n",
        "acc1=accuracy_score(yvalid,prediction)\n",
        "\n",
        "print(\"RF(tfidf) after HT+RS, Accuracy Score:\",acc1)"
      ],
      "execution_count": null,
      "outputs": [
        {
          "output_type": "stream",
          "text": [
            "Fitting 3 folds for each of 100 candidates, totalling 300 fits\n"
          ],
          "name": "stdout"
        },
        {
          "output_type": "stream",
          "text": [
            "[Parallel(n_jobs=-1)]: Using backend LokyBackend with 2 concurrent workers.\n",
            "[Parallel(n_jobs=-1)]: Done  37 tasks      | elapsed:   53.5s\n",
            "[Parallel(n_jobs=-1)]: Done 158 tasks      | elapsed:  3.6min\n",
            "[Parallel(n_jobs=-1)]: Done 300 out of 300 | elapsed:  7.0min finished\n"
          ],
          "name": "stderr"
        },
        {
          "output_type": "stream",
          "text": [
            "best Params\n",
            "{'n_estimators': 979, 'min_samples_split': 5, 'min_samples_leaf': 2, 'max_features': 'sqrt', 'max_depth': 45, 'bootstrap': True}\n",
            "              precision    recall  f1-score   support\n",
            "\n",
            "           0       0.73      0.80      0.76        99\n",
            "           1       0.72      0.64      0.68        81\n",
            "\n",
            "    accuracy                           0.73       180\n",
            "   macro avg       0.73      0.72      0.72       180\n",
            "weighted avg       0.73      0.73      0.73       180\n",
            "\n",
            "RF(tfidf) after HT+RS, Accuracy Score: 0.7277777777777777\n"
          ],
          "name": "stdout"
        }
      ]
    },
    {
      "cell_type": "markdown",
      "metadata": {
        "id": "XKA8krQVpCzN"
      },
      "source": [
        "**Accuracy and Confusion Matrix**"
      ]
    },
    {
      "cell_type": "code",
      "metadata": {
        "colab": {
          "base_uri": "https://localhost:8080/",
          "height": 703
        },
        "id": "k0ilZSlmj29u",
        "outputId": "7c6a0867-7df9-4497-ef87-e8427ad2d0c0"
      },
      "source": [
        "from sklearn.metrics import confusion_matrix,classification_report,accuracy_score\n",
        "import seaborn as sns\n",
        "import pandas as pd\n",
        "import numpy as np\n",
        "labels=['0','1']\n",
        "f, ax = plt.subplots(figsize=(5,5))\n",
        "cm=confusion_matrix(yvalid,prediction)\n",
        "sns.heatmap(cm, annot=True,ax=ax,cmap=\"Blues\")\n",
        "#labels, title and ticks\n",
        "ax.set_xlabel('Predicted labels')\n",
        "ax.set_ylabel('True labels')\n",
        "score = rf_random.score(xvalid_tfidf, yvalid)\n",
        "ax.set_title('Accuracy Score: {0} \\n Confusion Matrix'.format(np.round(score,2)))\n",
        "ax.xaxis.set_ticklabels(labels)\n",
        "ax.yaxis.set_ticklabels(labels)\n",
        "plt.show()\n",
        "f, ax = plt.subplots(figsize=(5,5))\n",
        "class_report=classification_report(yvalid,prediction,target_names=labels, output_dict=True)\n",
        "sns.heatmap(pd.DataFrame(class_report).iloc[:-1, :].T, annot=True,ax=ax,cmap=\"Blues\")\n",
        "ax.set_title('Classification Report')\n",
        "plt.show()"
      ],
      "execution_count": null,
      "outputs": [
        {
          "output_type": "display_data",
          "data": {
            "image/png": "[encoded data removed]",
            "text/plain": [
              "<Figure size 360x360 with 2 Axes>"
            ]
          },
          "metadata": {
            "tags": []
          }
        },
        {
          "output_type": "display_data",
          "data": {
            "image/png": "[encoded data removed]",
            "text/plain": [
              "<Figure size 360x360 with 2 Axes>"
            ]
          },
          "metadata": {
            "tags": []
          }
        }
      ]
    },
    {
      "cell_type": "markdown",
      "metadata": {
        "id": "2eBwrBMEpPgw"
      },
      "source": [
        "**3. LSTM**"
      ]
    },
    {
      "cell_type": "code",
      "metadata": {
        "colab": {
          "base_uri": "https://localhost:8080/",
          "height": 1000
        },
        "id": "c4HcUlelj3Oh",
        "outputId": "5b9fd60a-e44a-44a9-97b9-f359ca3c4deb"
      },
      "source": [
        "from keras.layers import Dense, Embedding, LSTM, SpatialDropout1D\n",
        "from keras.models import Sequential\n",
        "model = Sequential()\n",
        "model.add(Embedding(500, 120, input_length = xtrain_tfidf.shape[1]))\n",
        "model.add(SpatialDropout1D(0.4))\n",
        "model.add(LSTM(176, dropout=0.2, recurrent_dropout=0.2))\n",
        "model.add(Dense(1,activation='softmax'))\n",
        "model.compile(loss = 'categorical_crossentropy', optimizer='adam', metrics = ['accuracy'])\n",
        "print(model.summary())\n",
        "batch_size=32\n",
        "model.fit(xtrain_tfidf, ytrain, epochs = 10, batch_size=batch_size, verbose = 'auto')"
      ],
      "execution_count": null,
      "outputs": [
        {
          "output_type": "stream",
          "text": [
            "Model: \"sequential_44\"\n",
            "_________________________________________________________________\n",
            "Layer (type)                 Output Shape              Param #   \n",
            "=================================================================\n",
            "embedding_44 (Embedding)     (None, 1000, 120)         60000     \n",
            "_________________________________________________________________\n",
            "spatial_dropout1d_3 (Spatial (None, 1000, 120)         0         \n",
            "_________________________________________________________________\n",
            "lstm_44 (LSTM)               (None, 176)               209088    \n",
            "_________________________________________________________________\n",
            "dense_124 (Dense)            (None, 1)                 177       \n",
            "=================================================================\n",
            "Total params: 269,265\n",
            "Trainable params: 269,265\n",
            "Non-trainable params: 0\n",
            "_________________________________________________________________\n",
            "None\n",
            "WARNING:tensorflow:Keras is training/fitting/evaluating on array-like data. Keras may not be optimized for this format, so if your input data format is supported by TensorFlow I/O (https://github.com/tensorflow/io) we recommend using that to load a Dataset instead.\n",
            "Epoch 1/10\n"
          ],
          "name": "stdout"
        },
        {
          "output_type": "error",
          "ename": "InvalidArgumentError",
          "evalue": "ignored",
          "traceback": [
            "\u001b[0;31m---------------------------------------------------------------------------\u001b[0m",
            "\u001b[0;31mInvalidArgumentError\u001b[0m                      Traceback (most recent call last)",
            "\u001b[0;32m<ipython-input-115-9562c7973bfc>\u001b[0m in \u001b[0;36m<module>\u001b[0;34m()\u001b[0m\n\u001b[1;32m      9\u001b[0m \u001b[0mprint\u001b[0m\u001b[0;34m(\u001b[0m\u001b[0mmodel\u001b[0m\u001b[0;34m.\u001b[0m\u001b[0msummary\u001b[0m\u001b[0;34m(\u001b[0m\u001b[0;34m)\u001b[0m\u001b[0;34m)\u001b[0m\u001b[0;34m\u001b[0m\u001b[0;34m\u001b[0m\u001b[0m\n\u001b[1;32m     10\u001b[0m \u001b[0mbatch_size\u001b[0m\u001b[0;34m=\u001b[0m\u001b[0;36m32\u001b[0m\u001b[0;34m\u001b[0m\u001b[0;34m\u001b[0m\u001b[0m\n\u001b[0;32m---> 11\u001b[0;31m \u001b[0mmodel\u001b[0m\u001b[0;34m.\u001b[0m\u001b[0mfit\u001b[0m\u001b[0;34m(\u001b[0m\u001b[0mxtrain_tfidf\u001b[0m\u001b[0;34m,\u001b[0m \u001b[0mytrain\u001b[0m\u001b[0;34m,\u001b[0m \u001b[0mepochs\u001b[0m \u001b[0;34m=\u001b[0m \u001b[0;36m10\u001b[0m\u001b[0;34m,\u001b[0m \u001b[0mbatch_size\u001b[0m\u001b[0;34m=\u001b[0m\u001b[0mbatch_size\u001b[0m\u001b[0;34m,\u001b[0m \u001b[0mverbose\u001b[0m \u001b[0;34m=\u001b[0m \u001b[0;34m'auto'\u001b[0m\u001b[0;34m)\u001b[0m\u001b[0;34m\u001b[0m\u001b[0;34m\u001b[0m\u001b[0m\n\u001b[0m",
            "\u001b[0;32m/usr/local/lib/python3.7/dist-packages/keras/engine/training.py\u001b[0m in \u001b[0;36mfit\u001b[0;34m(self, x, y, batch_size, epochs, verbose, callbacks, validation_split, validation_data, shuffle, class_weight, sample_weight, initial_epoch, steps_per_epoch, validation_steps, validation_batch_size, validation_freq, max_queue_size, workers, use_multiprocessing)\u001b[0m\n\u001b[1;32m   1156\u001b[0m                 _r=1):\n\u001b[1;32m   1157\u001b[0m               \u001b[0mcallbacks\u001b[0m\u001b[0;34m.\u001b[0m\u001b[0mon_train_batch_begin\u001b[0m\u001b[0;34m(\u001b[0m\u001b[0mstep\u001b[0m\u001b[0;34m)\u001b[0m\u001b[0;34m\u001b[0m\u001b[0;34m\u001b[0m\u001b[0m\n\u001b[0;32m-> 1158\u001b[0;31m               \u001b[0mtmp_logs\u001b[0m \u001b[0;34m=\u001b[0m \u001b[0mself\u001b[0m\u001b[0;34m.\u001b[0m\u001b[0mtrain_function\u001b[0m\u001b[0;34m(\u001b[0m\u001b[0miterator\u001b[0m\u001b[0;34m)\u001b[0m\u001b[0;34m\u001b[0m\u001b[0;34m\u001b[0m\u001b[0m\n\u001b[0m\u001b[1;32m   1159\u001b[0m               \u001b[0;32mif\u001b[0m \u001b[0mdata_handler\u001b[0m\u001b[0;34m.\u001b[0m\u001b[0mshould_sync\u001b[0m\u001b[0;34m:\u001b[0m\u001b[0;34m\u001b[0m\u001b[0;34m\u001b[0m\u001b[0m\n\u001b[1;32m   1160\u001b[0m                 \u001b[0mcontext\u001b[0m\u001b[0;34m.\u001b[0m\u001b[0masync_wait\u001b[0m\u001b[0;34m(\u001b[0m\u001b[0;34m)\u001b[0m\u001b[0;34m\u001b[0m\u001b[0;34m\u001b[0m\u001b[0m\n",
            "\u001b[0;32m/usr/local/lib/python3.7/dist-packages/tensorflow/python/eager/def_function.py\u001b[0m in \u001b[0;36m__call__\u001b[0;34m(self, *args, **kwds)\u001b[0m\n\u001b[1;32m    887\u001b[0m \u001b[0;34m\u001b[0m\u001b[0m\n\u001b[1;32m    888\u001b[0m       \u001b[0;32mwith\u001b[0m \u001b[0mOptionalXlaContext\u001b[0m\u001b[0;34m(\u001b[0m\u001b[0mself\u001b[0m\u001b[0;34m.\u001b[0m\u001b[0m_jit_compile\u001b[0m\u001b[0;34m)\u001b[0m\u001b[0;34m:\u001b[0m\u001b[0;34m\u001b[0m\u001b[0;34m\u001b[0m\u001b[0m\n\u001b[0;32m--> 889\u001b[0;31m         \u001b[0mresult\u001b[0m \u001b[0;34m=\u001b[0m \u001b[0mself\u001b[0m\u001b[0;34m.\u001b[0m\u001b[0m_call\u001b[0m\u001b[0;34m(\u001b[0m\u001b[0;34m*\u001b[0m\u001b[0margs\u001b[0m\u001b[0;34m,\u001b[0m \u001b[0;34m**\u001b[0m\u001b[0mkwds\u001b[0m\u001b[0;34m)\u001b[0m\u001b[0;34m\u001b[0m\u001b[0;34m\u001b[0m\u001b[0m\n\u001b[0m\u001b[1;32m    890\u001b[0m \u001b[0;34m\u001b[0m\u001b[0m\n\u001b[1;32m    891\u001b[0m       \u001b[0mnew_tracing_count\u001b[0m \u001b[0;34m=\u001b[0m \u001b[0mself\u001b[0m\u001b[0;34m.\u001b[0m\u001b[0mexperimental_get_tracing_count\u001b[0m\u001b[0;34m(\u001b[0m\u001b[0;34m)\u001b[0m\u001b[0;34m\u001b[0m\u001b[0;34m\u001b[0m\u001b[0m\n",
            "\u001b[0;32m/usr/local/lib/python3.7/dist-packages/tensorflow/python/eager/def_function.py\u001b[0m in \u001b[0;36m_call\u001b[0;34m(self, *args, **kwds)\u001b[0m\n\u001b[1;32m    948\u001b[0m         \u001b[0;31m# Lifting succeeded, so variables are initialized and we can run the\u001b[0m\u001b[0;34m\u001b[0m\u001b[0;34m\u001b[0m\u001b[0;34m\u001b[0m\u001b[0m\n\u001b[1;32m    949\u001b[0m         \u001b[0;31m# stateless function.\u001b[0m\u001b[0;34m\u001b[0m\u001b[0;34m\u001b[0m\u001b[0;34m\u001b[0m\u001b[0m\n\u001b[0;32m--> 950\u001b[0;31m         \u001b[0;32mreturn\u001b[0m \u001b[0mself\u001b[0m\u001b[0;34m.\u001b[0m\u001b[0m_stateless_fn\u001b[0m\u001b[0;34m(\u001b[0m\u001b[0;34m*\u001b[0m\u001b[0margs\u001b[0m\u001b[0;34m,\u001b[0m \u001b[0;34m**\u001b[0m\u001b[0mkwds\u001b[0m\u001b[0;34m)\u001b[0m\u001b[0;34m\u001b[0m\u001b[0;34m\u001b[0m\u001b[0m\n\u001b[0m\u001b[1;32m    951\u001b[0m     \u001b[0;32melse\u001b[0m\u001b[0;34m:\u001b[0m\u001b[0;34m\u001b[0m\u001b[0;34m\u001b[0m\u001b[0m\n\u001b[1;32m    952\u001b[0m       \u001b[0m_\u001b[0m\u001b[0;34m,\u001b[0m \u001b[0m_\u001b[0m\u001b[0;34m,\u001b[0m \u001b[0m_\u001b[0m\u001b[0;34m,\u001b[0m \u001b[0mfiltered_flat_args\u001b[0m \u001b[0;34m=\u001b[0m\u001b[0;31m \u001b[0m\u001b[0;31m\\\u001b[0m\u001b[0;34m\u001b[0m\u001b[0;34m\u001b[0m\u001b[0m\n",
            "\u001b[0;32m/usr/local/lib/python3.7/dist-packages/tensorflow/python/eager/function.py\u001b[0m in \u001b[0;36m__call__\u001b[0;34m(self, *args, **kwargs)\u001b[0m\n\u001b[1;32m   3022\u001b[0m        filtered_flat_args) = self._maybe_define_function(args, kwargs)\n\u001b[1;32m   3023\u001b[0m     return graph_function._call_flat(\n\u001b[0;32m-> 3024\u001b[0;31m         filtered_flat_args, captured_inputs=graph_function.captured_inputs)  # pylint: disable=protected-access\n\u001b[0m\u001b[1;32m   3025\u001b[0m \u001b[0;34m\u001b[0m\u001b[0m\n\u001b[1;32m   3026\u001b[0m   \u001b[0;34m@\u001b[0m\u001b[0mproperty\u001b[0m\u001b[0;34m\u001b[0m\u001b[0;34m\u001b[0m\u001b[0m\n",
            "\u001b[0;32m/usr/local/lib/python3.7/dist-packages/tensorflow/python/eager/function.py\u001b[0m in \u001b[0;36m_call_flat\u001b[0;34m(self, args, captured_inputs, cancellation_manager)\u001b[0m\n\u001b[1;32m   1959\u001b[0m       \u001b[0;31m# No tape is watching; skip to running the function.\u001b[0m\u001b[0;34m\u001b[0m\u001b[0;34m\u001b[0m\u001b[0;34m\u001b[0m\u001b[0m\n\u001b[1;32m   1960\u001b[0m       return self._build_call_outputs(self._inference_function.call(\n\u001b[0;32m-> 1961\u001b[0;31m           ctx, args, cancellation_manager=cancellation_manager))\n\u001b[0m\u001b[1;32m   1962\u001b[0m     forward_backward = self._select_forward_and_backward_functions(\n\u001b[1;32m   1963\u001b[0m         \u001b[0margs\u001b[0m\u001b[0;34m,\u001b[0m\u001b[0;34m\u001b[0m\u001b[0;34m\u001b[0m\u001b[0m\n",
            "\u001b[0;32m/usr/local/lib/python3.7/dist-packages/tensorflow/python/eager/function.py\u001b[0m in \u001b[0;36mcall\u001b[0;34m(self, ctx, args, cancellation_manager)\u001b[0m\n\u001b[1;32m    594\u001b[0m               \u001b[0minputs\u001b[0m\u001b[0;34m=\u001b[0m\u001b[0margs\u001b[0m\u001b[0;34m,\u001b[0m\u001b[0;34m\u001b[0m\u001b[0;34m\u001b[0m\u001b[0m\n\u001b[1;32m    595\u001b[0m               \u001b[0mattrs\u001b[0m\u001b[0;34m=\u001b[0m\u001b[0mattrs\u001b[0m\u001b[0;34m,\u001b[0m\u001b[0;34m\u001b[0m\u001b[0;34m\u001b[0m\u001b[0m\n\u001b[0;32m--> 596\u001b[0;31m               ctx=ctx)\n\u001b[0m\u001b[1;32m    597\u001b[0m         \u001b[0;32melse\u001b[0m\u001b[0;34m:\u001b[0m\u001b[0;34m\u001b[0m\u001b[0;34m\u001b[0m\u001b[0m\n\u001b[1;32m    598\u001b[0m           outputs = execute.execute_with_cancellation(\n",
            "\u001b[0;32m/usr/local/lib/python3.7/dist-packages/tensorflow/python/eager/execute.py\u001b[0m in \u001b[0;36mquick_execute\u001b[0;34m(op_name, num_outputs, inputs, attrs, ctx, name)\u001b[0m\n\u001b[1;32m     58\u001b[0m     \u001b[0mctx\u001b[0m\u001b[0;34m.\u001b[0m\u001b[0mensure_initialized\u001b[0m\u001b[0;34m(\u001b[0m\u001b[0;34m)\u001b[0m\u001b[0;34m\u001b[0m\u001b[0;34m\u001b[0m\u001b[0m\n\u001b[1;32m     59\u001b[0m     tensors = pywrap_tfe.TFE_Py_Execute(ctx._handle, device_name, op_name,\n\u001b[0;32m---> 60\u001b[0;31m                                         inputs, attrs, num_outputs)\n\u001b[0m\u001b[1;32m     61\u001b[0m   \u001b[0;32mexcept\u001b[0m \u001b[0mcore\u001b[0m\u001b[0;34m.\u001b[0m\u001b[0m_NotOkStatusException\u001b[0m \u001b[0;32mas\u001b[0m \u001b[0me\u001b[0m\u001b[0;34m:\u001b[0m\u001b[0;34m\u001b[0m\u001b[0;34m\u001b[0m\u001b[0m\n\u001b[1;32m     62\u001b[0m     \u001b[0;32mif\u001b[0m \u001b[0mname\u001b[0m \u001b[0;32mis\u001b[0m \u001b[0;32mnot\u001b[0m \u001b[0;32mNone\u001b[0m\u001b[0;34m:\u001b[0m\u001b[0;34m\u001b[0m\u001b[0;34m\u001b[0m\u001b[0m\n",
            "\u001b[0;31mInvalidArgumentError\u001b[0m:  TypeError: 'SparseTensor' object is not subscriptable\nTraceback (most recent call last):\n\n  File \"/usr/local/lib/python3.7/dist-packages/tensorflow/python/ops/script_ops.py\", line 247, in __call__\n    return func(device, token, args)\n\n  File \"/usr/local/lib/python3.7/dist-packages/tensorflow/python/ops/script_ops.py\", line 135, in __call__\n    ret = self._func(*args)\n\n  File \"/usr/local/lib/python3.7/dist-packages/tensorflow/python/autograph/impl/api.py\", line 645, in wrapper\n    return func(*args, **kwargs)\n\n  File \"/tmp/tmp627lpgnd.py\", line 37, in py_method\n    retval__1 = [ag__.converted_call(ag__.ld(slice_array), (ag__.ld(inp),), None, fscope_1) for inp in ag__.ld(flat_inputs)]\n\n  File \"/tmp/tmp627lpgnd.py\", line 37, in <listcomp>\n    retval__1 = [ag__.converted_call(ag__.ld(slice_array), (ag__.ld(inp),), None, fscope_1) for inp in ag__.ld(flat_inputs)]\n\n  File \"/usr/local/lib/python3.7/dist-packages/tensorflow/python/autograph/impl/api.py\", line 340, in converted_call\n    return _call_unconverted(f, args, kwargs, options, False)\n\n  File \"/usr/local/lib/python3.7/dist-packages/tensorflow/python/autograph/impl/api.py\", line 464, in _call_unconverted\n    return f(*args)\n\n  File \"/tmp/tmp627lpgnd.py\", line 30, in slice_array\n    retval__2 = ag__.converted_call(ag__.ld(training_utils).slice_arrays, (ag__.ld(data), ag__.converted_call(ag__.ld(ind).numpy, (), None, fscope_2)), dict(contiguous=ag__.ld(contiguous)), fscope_2)\n\n  File \"/usr/local/lib/python3.7/dist-packages/tensorflow/python/autograph/impl/api.py\", line 340, in converted_call\n    return _call_unconverted(f, args, kwargs, options, False)\n\n  File \"/usr/local/lib/python3.7/dist-packages/tensorflow/python/autograph/impl/api.py\", line 463, in _call_unconverted\n    return f(*args, **kwargs)\n\n  File \"/usr/local/lib/python3.7/dist-packages/keras/engine/training_utils.py\", line 47, in slice_arrays\n    entries = [[x[i:i + 1] for i in indices] for x in arrays]\n\n  File \"/usr/local/lib/python3.7/dist-packages/keras/engine/training_utils.py\", line 47, in <listcomp>\n    entries = [[x[i:i + 1] for i in indices] for x in arrays]\n\n  File \"/usr/local/lib/python3.7/dist-packages/keras/engine/training_utils.py\", line 47, in <listcomp>\n    entries = [[x[i:i + 1] for i in indices] for x in arrays]\n\nTypeError: 'SparseTensor' object is not subscriptable\n\n\n\t [[{{node EagerPyFunc}}]]\n\t [[IteratorGetNext]] [Op:__inference_train_function_165335]\n\nFunction call stack:\ntrain_function\n"
          ]
        }
      ]
    },
    {
      "cell_type": "code",
      "metadata": {
        "id": "_p3K46a1bQau"
      },
      "source": [
        "model_default = build_model()\n",
        "_activations=['tanh','relu','selu']\n",
        "_optimizers=['sgd','adam']\n",
        "_batch_size=[16,32,64]\n",
        "params=dict(var_activation=_activations,\n",
        "            var_optimizer=_optimizers,\n",
        "            batch_size=_batch_size)\n",
        "print(params)\n",
        "\n",
        "from tensorflow.keras.wrappers.scikit_learn import KerasClassifier\n",
        "model = KerasClassifier(build_fn=build_model,epochs=7,batch_size=16)\n",
        "np.random.seed(42)\n",
        "rscv = RandomizedSearchCV(model, param_distributions=params, cv=3, n_iter=6)\n",
        "rscv_results = rscv.fit(xtrain_tfidf,ytrain)\n",
        "print('Best score is: {} using {}'.format(rscv_results.best_score_,\n",
        "rscv_results.best_params_))"
      ],
      "execution_count": null,
      "outputs": []
    }
  ]
}